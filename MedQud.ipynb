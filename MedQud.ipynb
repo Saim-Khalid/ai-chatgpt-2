{
  "nbformat": 4,
  "nbformat_minor": 0,
  "metadata": {
    "colab": {
      "provenance": []
    },
    "kernelspec": {
      "name": "python3",
      "display_name": "Python 3"
    },
    "language_info": {
      "name": "python"
    },
    "accelerator": "GPU",
    "gpuClass": "standard",
    "widgets": {
      "application/vnd.jupyter.widget-state+json": {
        "fd1353c5e0e34a0e948b76b225bfb0cb": {
          "model_module": "@jupyter-widgets/controls",
          "model_name": "HBoxModel",
          "model_module_version": "1.5.0",
          "state": {
            "_dom_classes": [],
            "_model_module": "@jupyter-widgets/controls",
            "_model_module_version": "1.5.0",
            "_model_name": "HBoxModel",
            "_view_count": null,
            "_view_module": "@jupyter-widgets/controls",
            "_view_module_version": "1.5.0",
            "_view_name": "HBoxView",
            "box_style": "",
            "children": [
              "IPY_MODEL_5e7041d8f1e94061a661339b72ddf8bd",
              "IPY_MODEL_0a49467c491f4b48a13a33353dad6689",
              "IPY_MODEL_1c537d98c7194974b1d82202aa5ea9e1"
            ],
            "layout": "IPY_MODEL_f97c48acddce49a499256a92a4c098a1"
          }
        },
        "5e7041d8f1e94061a661339b72ddf8bd": {
          "model_module": "@jupyter-widgets/controls",
          "model_name": "HTMLModel",
          "model_module_version": "1.5.0",
          "state": {
            "_dom_classes": [],
            "_model_module": "@jupyter-widgets/controls",
            "_model_module_version": "1.5.0",
            "_model_name": "HTMLModel",
            "_view_count": null,
            "_view_module": "@jupyter-widgets/controls",
            "_view_module_version": "1.5.0",
            "_view_name": "HTMLView",
            "description": "",
            "description_tooltip": null,
            "layout": "IPY_MODEL_12468e7a5dc844a2909906e12ebb35a2",
            "placeholder": "​",
            "style": "IPY_MODEL_6653ba12834643748fc6a056c35a0227",
            "value": "Downloading pytorch_model.bin: 100%"
          }
        },
        "0a49467c491f4b48a13a33353dad6689": {
          "model_module": "@jupyter-widgets/controls",
          "model_name": "FloatProgressModel",
          "model_module_version": "1.5.0",
          "state": {
            "_dom_classes": [],
            "_model_module": "@jupyter-widgets/controls",
            "_model_module_version": "1.5.0",
            "_model_name": "FloatProgressModel",
            "_view_count": null,
            "_view_module": "@jupyter-widgets/controls",
            "_view_module_version": "1.5.0",
            "_view_name": "ProgressView",
            "bar_style": "success",
            "description": "",
            "description_tooltip": null,
            "layout": "IPY_MODEL_99423bb1936a4a86b33024a829aa9d9d",
            "max": 548118077,
            "min": 0,
            "orientation": "horizontal",
            "style": "IPY_MODEL_41c110f05f3b423692b5a7d92f4a22e7",
            "value": 548118077
          }
        },
        "1c537d98c7194974b1d82202aa5ea9e1": {
          "model_module": "@jupyter-widgets/controls",
          "model_name": "HTMLModel",
          "model_module_version": "1.5.0",
          "state": {
            "_dom_classes": [],
            "_model_module": "@jupyter-widgets/controls",
            "_model_module_version": "1.5.0",
            "_model_name": "HTMLModel",
            "_view_count": null,
            "_view_module": "@jupyter-widgets/controls",
            "_view_module_version": "1.5.0",
            "_view_name": "HTMLView",
            "description": "",
            "description_tooltip": null,
            "layout": "IPY_MODEL_0eea1c5d22e44ccca1b04696f86450b1",
            "placeholder": "​",
            "style": "IPY_MODEL_3f4d1ea87867450482b06ddcf5c9f42a",
            "value": " 548M/548M [00:05&lt;00:00, 110MB/s]"
          }
        },
        "f97c48acddce49a499256a92a4c098a1": {
          "model_module": "@jupyter-widgets/base",
          "model_name": "LayoutModel",
          "model_module_version": "1.2.0",
          "state": {
            "_model_module": "@jupyter-widgets/base",
            "_model_module_version": "1.2.0",
            "_model_name": "LayoutModel",
            "_view_count": null,
            "_view_module": "@jupyter-widgets/base",
            "_view_module_version": "1.2.0",
            "_view_name": "LayoutView",
            "align_content": null,
            "align_items": null,
            "align_self": null,
            "border": null,
            "bottom": null,
            "display": null,
            "flex": null,
            "flex_flow": null,
            "grid_area": null,
            "grid_auto_columns": null,
            "grid_auto_flow": null,
            "grid_auto_rows": null,
            "grid_column": null,
            "grid_gap": null,
            "grid_row": null,
            "grid_template_areas": null,
            "grid_template_columns": null,
            "grid_template_rows": null,
            "height": null,
            "justify_content": null,
            "justify_items": null,
            "left": null,
            "margin": null,
            "max_height": null,
            "max_width": null,
            "min_height": null,
            "min_width": null,
            "object_fit": null,
            "object_position": null,
            "order": null,
            "overflow": null,
            "overflow_x": null,
            "overflow_y": null,
            "padding": null,
            "right": null,
            "top": null,
            "visibility": null,
            "width": null
          }
        },
        "12468e7a5dc844a2909906e12ebb35a2": {
          "model_module": "@jupyter-widgets/base",
          "model_name": "LayoutModel",
          "model_module_version": "1.2.0",
          "state": {
            "_model_module": "@jupyter-widgets/base",
            "_model_module_version": "1.2.0",
            "_model_name": "LayoutModel",
            "_view_count": null,
            "_view_module": "@jupyter-widgets/base",
            "_view_module_version": "1.2.0",
            "_view_name": "LayoutView",
            "align_content": null,
            "align_items": null,
            "align_self": null,
            "border": null,
            "bottom": null,
            "display": null,
            "flex": null,
            "flex_flow": null,
            "grid_area": null,
            "grid_auto_columns": null,
            "grid_auto_flow": null,
            "grid_auto_rows": null,
            "grid_column": null,
            "grid_gap": null,
            "grid_row": null,
            "grid_template_areas": null,
            "grid_template_columns": null,
            "grid_template_rows": null,
            "height": null,
            "justify_content": null,
            "justify_items": null,
            "left": null,
            "margin": null,
            "max_height": null,
            "max_width": null,
            "min_height": null,
            "min_width": null,
            "object_fit": null,
            "object_position": null,
            "order": null,
            "overflow": null,
            "overflow_x": null,
            "overflow_y": null,
            "padding": null,
            "right": null,
            "top": null,
            "visibility": null,
            "width": null
          }
        },
        "6653ba12834643748fc6a056c35a0227": {
          "model_module": "@jupyter-widgets/controls",
          "model_name": "DescriptionStyleModel",
          "model_module_version": "1.5.0",
          "state": {
            "_model_module": "@jupyter-widgets/controls",
            "_model_module_version": "1.5.0",
            "_model_name": "DescriptionStyleModel",
            "_view_count": null,
            "_view_module": "@jupyter-widgets/base",
            "_view_module_version": "1.2.0",
            "_view_name": "StyleView",
            "description_width": ""
          }
        },
        "99423bb1936a4a86b33024a829aa9d9d": {
          "model_module": "@jupyter-widgets/base",
          "model_name": "LayoutModel",
          "model_module_version": "1.2.0",
          "state": {
            "_model_module": "@jupyter-widgets/base",
            "_model_module_version": "1.2.0",
            "_model_name": "LayoutModel",
            "_view_count": null,
            "_view_module": "@jupyter-widgets/base",
            "_view_module_version": "1.2.0",
            "_view_name": "LayoutView",
            "align_content": null,
            "align_items": null,
            "align_self": null,
            "border": null,
            "bottom": null,
            "display": null,
            "flex": null,
            "flex_flow": null,
            "grid_area": null,
            "grid_auto_columns": null,
            "grid_auto_flow": null,
            "grid_auto_rows": null,
            "grid_column": null,
            "grid_gap": null,
            "grid_row": null,
            "grid_template_areas": null,
            "grid_template_columns": null,
            "grid_template_rows": null,
            "height": null,
            "justify_content": null,
            "justify_items": null,
            "left": null,
            "margin": null,
            "max_height": null,
            "max_width": null,
            "min_height": null,
            "min_width": null,
            "object_fit": null,
            "object_position": null,
            "order": null,
            "overflow": null,
            "overflow_x": null,
            "overflow_y": null,
            "padding": null,
            "right": null,
            "top": null,
            "visibility": null,
            "width": null
          }
        },
        "41c110f05f3b423692b5a7d92f4a22e7": {
          "model_module": "@jupyter-widgets/controls",
          "model_name": "ProgressStyleModel",
          "model_module_version": "1.5.0",
          "state": {
            "_model_module": "@jupyter-widgets/controls",
            "_model_module_version": "1.5.0",
            "_model_name": "ProgressStyleModel",
            "_view_count": null,
            "_view_module": "@jupyter-widgets/base",
            "_view_module_version": "1.2.0",
            "_view_name": "StyleView",
            "bar_color": null,
            "description_width": ""
          }
        },
        "0eea1c5d22e44ccca1b04696f86450b1": {
          "model_module": "@jupyter-widgets/base",
          "model_name": "LayoutModel",
          "model_module_version": "1.2.0",
          "state": {
            "_model_module": "@jupyter-widgets/base",
            "_model_module_version": "1.2.0",
            "_model_name": "LayoutModel",
            "_view_count": null,
            "_view_module": "@jupyter-widgets/base",
            "_view_module_version": "1.2.0",
            "_view_name": "LayoutView",
            "align_content": null,
            "align_items": null,
            "align_self": null,
            "border": null,
            "bottom": null,
            "display": null,
            "flex": null,
            "flex_flow": null,
            "grid_area": null,
            "grid_auto_columns": null,
            "grid_auto_flow": null,
            "grid_auto_rows": null,
            "grid_column": null,
            "grid_gap": null,
            "grid_row": null,
            "grid_template_areas": null,
            "grid_template_columns": null,
            "grid_template_rows": null,
            "height": null,
            "justify_content": null,
            "justify_items": null,
            "left": null,
            "margin": null,
            "max_height": null,
            "max_width": null,
            "min_height": null,
            "min_width": null,
            "object_fit": null,
            "object_position": null,
            "order": null,
            "overflow": null,
            "overflow_x": null,
            "overflow_y": null,
            "padding": null,
            "right": null,
            "top": null,
            "visibility": null,
            "width": null
          }
        },
        "3f4d1ea87867450482b06ddcf5c9f42a": {
          "model_module": "@jupyter-widgets/controls",
          "model_name": "DescriptionStyleModel",
          "model_module_version": "1.5.0",
          "state": {
            "_model_module": "@jupyter-widgets/controls",
            "_model_module_version": "1.5.0",
            "_model_name": "DescriptionStyleModel",
            "_view_count": null,
            "_view_module": "@jupyter-widgets/base",
            "_view_module_version": "1.2.0",
            "_view_name": "StyleView",
            "description_width": ""
          }
        },
        "2a24a4413e7847d3be543e1d035b2283": {
          "model_module": "@jupyter-widgets/controls",
          "model_name": "HBoxModel",
          "model_module_version": "1.5.0",
          "state": {
            "_dom_classes": [],
            "_model_module": "@jupyter-widgets/controls",
            "_model_module_version": "1.5.0",
            "_model_name": "HBoxModel",
            "_view_count": null,
            "_view_module": "@jupyter-widgets/controls",
            "_view_module_version": "1.5.0",
            "_view_name": "HBoxView",
            "box_style": "",
            "children": [
              "IPY_MODEL_be215b987c924df38250dfe1df82f7ff",
              "IPY_MODEL_19f4e73ffbe845f3971595c80680680f",
              "IPY_MODEL_94dd8736a157422c953b4b61ba66c732"
            ],
            "layout": "IPY_MODEL_b565ede4c6954e668973c70ae898e445"
          }
        },
        "be215b987c924df38250dfe1df82f7ff": {
          "model_module": "@jupyter-widgets/controls",
          "model_name": "HTMLModel",
          "model_module_version": "1.5.0",
          "state": {
            "_dom_classes": [],
            "_model_module": "@jupyter-widgets/controls",
            "_model_module_version": "1.5.0",
            "_model_name": "HTMLModel",
            "_view_count": null,
            "_view_module": "@jupyter-widgets/controls",
            "_view_module_version": "1.5.0",
            "_view_name": "HTMLView",
            "description": "",
            "description_tooltip": null,
            "layout": "IPY_MODEL_6056a23bfba0491a9a0c9f80d9752c16",
            "placeholder": "​",
            "style": "IPY_MODEL_b9804658dbe444c9a2d9cec14eae5ac6",
            "value": "Downloading (…)neration_config.json: 100%"
          }
        },
        "19f4e73ffbe845f3971595c80680680f": {
          "model_module": "@jupyter-widgets/controls",
          "model_name": "FloatProgressModel",
          "model_module_version": "1.5.0",
          "state": {
            "_dom_classes": [],
            "_model_module": "@jupyter-widgets/controls",
            "_model_module_version": "1.5.0",
            "_model_name": "FloatProgressModel",
            "_view_count": null,
            "_view_module": "@jupyter-widgets/controls",
            "_view_module_version": "1.5.0",
            "_view_name": "ProgressView",
            "bar_style": "success",
            "description": "",
            "description_tooltip": null,
            "layout": "IPY_MODEL_2e72440a7ad6466ab3071831d9082af3",
            "max": 124,
            "min": 0,
            "orientation": "horizontal",
            "style": "IPY_MODEL_4374d68832774389b1777e8b470267c4",
            "value": 124
          }
        },
        "94dd8736a157422c953b4b61ba66c732": {
          "model_module": "@jupyter-widgets/controls",
          "model_name": "HTMLModel",
          "model_module_version": "1.5.0",
          "state": {
            "_dom_classes": [],
            "_model_module": "@jupyter-widgets/controls",
            "_model_module_version": "1.5.0",
            "_model_name": "HTMLModel",
            "_view_count": null,
            "_view_module": "@jupyter-widgets/controls",
            "_view_module_version": "1.5.0",
            "_view_name": "HTMLView",
            "description": "",
            "description_tooltip": null,
            "layout": "IPY_MODEL_c26ec74ac037413aa6e47b997f8658db",
            "placeholder": "​",
            "style": "IPY_MODEL_12bc5ba391d0412d9ca306974753075a",
            "value": " 124/124 [00:00&lt;00:00, 4.44kB/s]"
          }
        },
        "b565ede4c6954e668973c70ae898e445": {
          "model_module": "@jupyter-widgets/base",
          "model_name": "LayoutModel",
          "model_module_version": "1.2.0",
          "state": {
            "_model_module": "@jupyter-widgets/base",
            "_model_module_version": "1.2.0",
            "_model_name": "LayoutModel",
            "_view_count": null,
            "_view_module": "@jupyter-widgets/base",
            "_view_module_version": "1.2.0",
            "_view_name": "LayoutView",
            "align_content": null,
            "align_items": null,
            "align_self": null,
            "border": null,
            "bottom": null,
            "display": null,
            "flex": null,
            "flex_flow": null,
            "grid_area": null,
            "grid_auto_columns": null,
            "grid_auto_flow": null,
            "grid_auto_rows": null,
            "grid_column": null,
            "grid_gap": null,
            "grid_row": null,
            "grid_template_areas": null,
            "grid_template_columns": null,
            "grid_template_rows": null,
            "height": null,
            "justify_content": null,
            "justify_items": null,
            "left": null,
            "margin": null,
            "max_height": null,
            "max_width": null,
            "min_height": null,
            "min_width": null,
            "object_fit": null,
            "object_position": null,
            "order": null,
            "overflow": null,
            "overflow_x": null,
            "overflow_y": null,
            "padding": null,
            "right": null,
            "top": null,
            "visibility": null,
            "width": null
          }
        },
        "6056a23bfba0491a9a0c9f80d9752c16": {
          "model_module": "@jupyter-widgets/base",
          "model_name": "LayoutModel",
          "model_module_version": "1.2.0",
          "state": {
            "_model_module": "@jupyter-widgets/base",
            "_model_module_version": "1.2.0",
            "_model_name": "LayoutModel",
            "_view_count": null,
            "_view_module": "@jupyter-widgets/base",
            "_view_module_version": "1.2.0",
            "_view_name": "LayoutView",
            "align_content": null,
            "align_items": null,
            "align_self": null,
            "border": null,
            "bottom": null,
            "display": null,
            "flex": null,
            "flex_flow": null,
            "grid_area": null,
            "grid_auto_columns": null,
            "grid_auto_flow": null,
            "grid_auto_rows": null,
            "grid_column": null,
            "grid_gap": null,
            "grid_row": null,
            "grid_template_areas": null,
            "grid_template_columns": null,
            "grid_template_rows": null,
            "height": null,
            "justify_content": null,
            "justify_items": null,
            "left": null,
            "margin": null,
            "max_height": null,
            "max_width": null,
            "min_height": null,
            "min_width": null,
            "object_fit": null,
            "object_position": null,
            "order": null,
            "overflow": null,
            "overflow_x": null,
            "overflow_y": null,
            "padding": null,
            "right": null,
            "top": null,
            "visibility": null,
            "width": null
          }
        },
        "b9804658dbe444c9a2d9cec14eae5ac6": {
          "model_module": "@jupyter-widgets/controls",
          "model_name": "DescriptionStyleModel",
          "model_module_version": "1.5.0",
          "state": {
            "_model_module": "@jupyter-widgets/controls",
            "_model_module_version": "1.5.0",
            "_model_name": "DescriptionStyleModel",
            "_view_count": null,
            "_view_module": "@jupyter-widgets/base",
            "_view_module_version": "1.2.0",
            "_view_name": "StyleView",
            "description_width": ""
          }
        },
        "2e72440a7ad6466ab3071831d9082af3": {
          "model_module": "@jupyter-widgets/base",
          "model_name": "LayoutModel",
          "model_module_version": "1.2.0",
          "state": {
            "_model_module": "@jupyter-widgets/base",
            "_model_module_version": "1.2.0",
            "_model_name": "LayoutModel",
            "_view_count": null,
            "_view_module": "@jupyter-widgets/base",
            "_view_module_version": "1.2.0",
            "_view_name": "LayoutView",
            "align_content": null,
            "align_items": null,
            "align_self": null,
            "border": null,
            "bottom": null,
            "display": null,
            "flex": null,
            "flex_flow": null,
            "grid_area": null,
            "grid_auto_columns": null,
            "grid_auto_flow": null,
            "grid_auto_rows": null,
            "grid_column": null,
            "grid_gap": null,
            "grid_row": null,
            "grid_template_areas": null,
            "grid_template_columns": null,
            "grid_template_rows": null,
            "height": null,
            "justify_content": null,
            "justify_items": null,
            "left": null,
            "margin": null,
            "max_height": null,
            "max_width": null,
            "min_height": null,
            "min_width": null,
            "object_fit": null,
            "object_position": null,
            "order": null,
            "overflow": null,
            "overflow_x": null,
            "overflow_y": null,
            "padding": null,
            "right": null,
            "top": null,
            "visibility": null,
            "width": null
          }
        },
        "4374d68832774389b1777e8b470267c4": {
          "model_module": "@jupyter-widgets/controls",
          "model_name": "ProgressStyleModel",
          "model_module_version": "1.5.0",
          "state": {
            "_model_module": "@jupyter-widgets/controls",
            "_model_module_version": "1.5.0",
            "_model_name": "ProgressStyleModel",
            "_view_count": null,
            "_view_module": "@jupyter-widgets/base",
            "_view_module_version": "1.2.0",
            "_view_name": "StyleView",
            "bar_color": null,
            "description_width": ""
          }
        },
        "c26ec74ac037413aa6e47b997f8658db": {
          "model_module": "@jupyter-widgets/base",
          "model_name": "LayoutModel",
          "model_module_version": "1.2.0",
          "state": {
            "_model_module": "@jupyter-widgets/base",
            "_model_module_version": "1.2.0",
            "_model_name": "LayoutModel",
            "_view_count": null,
            "_view_module": "@jupyter-widgets/base",
            "_view_module_version": "1.2.0",
            "_view_name": "LayoutView",
            "align_content": null,
            "align_items": null,
            "align_self": null,
            "border": null,
            "bottom": null,
            "display": null,
            "flex": null,
            "flex_flow": null,
            "grid_area": null,
            "grid_auto_columns": null,
            "grid_auto_flow": null,
            "grid_auto_rows": null,
            "grid_column": null,
            "grid_gap": null,
            "grid_row": null,
            "grid_template_areas": null,
            "grid_template_columns": null,
            "grid_template_rows": null,
            "height": null,
            "justify_content": null,
            "justify_items": null,
            "left": null,
            "margin": null,
            "max_height": null,
            "max_width": null,
            "min_height": null,
            "min_width": null,
            "object_fit": null,
            "object_position": null,
            "order": null,
            "overflow": null,
            "overflow_x": null,
            "overflow_y": null,
            "padding": null,
            "right": null,
            "top": null,
            "visibility": null,
            "width": null
          }
        },
        "12bc5ba391d0412d9ca306974753075a": {
          "model_module": "@jupyter-widgets/controls",
          "model_name": "DescriptionStyleModel",
          "model_module_version": "1.5.0",
          "state": {
            "_model_module": "@jupyter-widgets/controls",
            "_model_module_version": "1.5.0",
            "_model_name": "DescriptionStyleModel",
            "_view_count": null,
            "_view_module": "@jupyter-widgets/base",
            "_view_module_version": "1.2.0",
            "_view_name": "StyleView",
            "description_width": ""
          }
        }
      }
    }
  },
  "cells": [
    {
      "cell_type": "markdown",
      "source": [
        "## Import libraries"
      ],
      "metadata": {
        "id": "nY8K09_tAILk"
      }
    },
    {
      "cell_type": "code",
      "source": [
        "import os\n",
        "import time\n",
        "import datetime\n",
        "# from google.colab import drive\n",
        "\n",
        "import pandas as pd\n",
        "import seaborn as sns\n",
        "import numpy as np\n",
        "import random\n",
        "\n",
        "import matplotlib.pyplot as plt\n",
        "# !matplotlib inline\n",
        "\n",
        "import torch\n",
        "from torch.utils.data import Dataset, DataLoader, random_split, RandomSampler, SequentialSampler\n",
        "torch.manual_seed(42)\n",
        "!pip install transformers\n",
        "\n",
        "from transformers import GPT2LMHeadModel,  GPT2Tokenizer, GPT2Config, GPT2LMHeadModel\n",
        "from transformers import AdamW, get_linear_schedule_with_warmup\n",
        "\n",
        "import nltk\n",
        "nltk.download('punkt')"
      ],
      "metadata": {
        "colab": {
          "base_uri": "https://localhost:8080/"
        },
        "id": "TDdhW9aghv-B",
        "outputId": "9a9e151f-778c-4bb1-8e88-b5bbc89e54ab"
      },
      "execution_count": null,
      "outputs": [
        {
          "output_type": "stream",
          "name": "stderr",
          "text": [
            "[nltk_data] Downloading package punkt to /root/nltk_data...\n",
            "[nltk_data]   Package punkt is already up-to-date!\n"
          ]
        },
        {
          "output_type": "execute_result",
          "data": {
            "text/plain": [
              "True"
            ]
          },
          "metadata": {},
          "execution_count": 89
        }
      ]
    },
    {
      "cell_type": "markdown",
      "source": [
        "## Load Dataset"
      ],
      "metadata": {
        "id": "_iIxColNAVPo"
      }
    },
    {
      "cell_type": "code",
      "execution_count": null,
      "metadata": {
        "id": "D3_si0KtW7lk"
      },
      "outputs": [],
      "source": [
        " \n",
        "data=pd.read_csv('/content/drive/MyDrive/healthdataset/Medquad.csv')\n",
        "df=data"
      ]
    },
    {
      "cell_type": "code",
      "source": [
        "df.head()"
      ],
      "metadata": {
        "colab": {
          "base_uri": "https://localhost:8080/",
          "height": 206
        },
        "id": "LOvj2ELvcGvw",
        "outputId": "2a3e5fcd-9a62-4710-b3fa-0f11ae4f7437"
      },
      "execution_count": null,
      "outputs": [
        {
          "output_type": "execute_result",
          "data": {
            "text/plain": [
              "                                            Question  \\\n",
              "0  What is (are) Adult Acute Lymphoblastic Leukem...   \n",
              "1  What are the symptoms of Adult Acute Lymphobla...   \n",
              "2  How to diagnose Adult Acute Lymphoblastic Leuk...   \n",
              "3  What is the outlook for Adult Acute Lymphoblas...   \n",
              "4  Who is at risk for Adult Acute Lymphoblastic L...   \n",
              "\n",
              "                                              Answer  \n",
              "0  Key Points\\n                    - Adult acute ...  \n",
              "1  Signs and symptoms of adult ALL include fever,...  \n",
              "2  Tests that examine the blood and bone marrow a...  \n",
              "3  Certain factors affect prognosis (chance of re...  \n",
              "4  Previous chemotherapy and exposure to radiatio...  "
            ],
            "text/html": [
              "\n",
              "  <div id=\"df-2719dca9-9df9-4b7f-a6f9-6f4a6b89aceb\">\n",
              "    <div class=\"colab-df-container\">\n",
              "      <div>\n",
              "<style scoped>\n",
              "    .dataframe tbody tr th:only-of-type {\n",
              "        vertical-align: middle;\n",
              "    }\n",
              "\n",
              "    .dataframe tbody tr th {\n",
              "        vertical-align: top;\n",
              "    }\n",
              "\n",
              "    .dataframe thead th {\n",
              "        text-align: right;\n",
              "    }\n",
              "</style>\n",
              "<table border=\"1\" class=\"dataframe\">\n",
              "  <thead>\n",
              "    <tr style=\"text-align: right;\">\n",
              "      <th></th>\n",
              "      <th>Question</th>\n",
              "      <th>Answer</th>\n",
              "    </tr>\n",
              "  </thead>\n",
              "  <tbody>\n",
              "    <tr>\n",
              "      <th>0</th>\n",
              "      <td>What is (are) Adult Acute Lymphoblastic Leukem...</td>\n",
              "      <td>Key Points\\n                    - Adult acute ...</td>\n",
              "    </tr>\n",
              "    <tr>\n",
              "      <th>1</th>\n",
              "      <td>What are the symptoms of Adult Acute Lymphobla...</td>\n",
              "      <td>Signs and symptoms of adult ALL include fever,...</td>\n",
              "    </tr>\n",
              "    <tr>\n",
              "      <th>2</th>\n",
              "      <td>How to diagnose Adult Acute Lymphoblastic Leuk...</td>\n",
              "      <td>Tests that examine the blood and bone marrow a...</td>\n",
              "    </tr>\n",
              "    <tr>\n",
              "      <th>3</th>\n",
              "      <td>What is the outlook for Adult Acute Lymphoblas...</td>\n",
              "      <td>Certain factors affect prognosis (chance of re...</td>\n",
              "    </tr>\n",
              "    <tr>\n",
              "      <th>4</th>\n",
              "      <td>Who is at risk for Adult Acute Lymphoblastic L...</td>\n",
              "      <td>Previous chemotherapy and exposure to radiatio...</td>\n",
              "    </tr>\n",
              "  </tbody>\n",
              "</table>\n",
              "</div>\n",
              "      <button class=\"colab-df-convert\" onclick=\"convertToInteractive('df-2719dca9-9df9-4b7f-a6f9-6f4a6b89aceb')\"\n",
              "              title=\"Convert this dataframe to an interactive table.\"\n",
              "              style=\"display:none;\">\n",
              "        \n",
              "  <svg xmlns=\"http://www.w3.org/2000/svg\" height=\"24px\"viewBox=\"0 0 24 24\"\n",
              "       width=\"24px\">\n",
              "    <path d=\"M0 0h24v24H0V0z\" fill=\"none\"/>\n",
              "    <path d=\"M18.56 5.44l.94 2.06.94-2.06 2.06-.94-2.06-.94-.94-2.06-.94 2.06-2.06.94zm-11 1L8.5 8.5l.94-2.06 2.06-.94-2.06-.94L8.5 2.5l-.94 2.06-2.06.94zm10 10l.94 2.06.94-2.06 2.06-.94-2.06-.94-.94-2.06-.94 2.06-2.06.94z\"/><path d=\"M17.41 7.96l-1.37-1.37c-.4-.4-.92-.59-1.43-.59-.52 0-1.04.2-1.43.59L10.3 9.45l-7.72 7.72c-.78.78-.78 2.05 0 2.83L4 21.41c.39.39.9.59 1.41.59.51 0 1.02-.2 1.41-.59l7.78-7.78 2.81-2.81c.8-.78.8-2.07 0-2.86zM5.41 20L4 18.59l7.72-7.72 1.47 1.35L5.41 20z\"/>\n",
              "  </svg>\n",
              "      </button>\n",
              "      \n",
              "  <style>\n",
              "    .colab-df-container {\n",
              "      display:flex;\n",
              "      flex-wrap:wrap;\n",
              "      gap: 12px;\n",
              "    }\n",
              "\n",
              "    .colab-df-convert {\n",
              "      background-color: #E8F0FE;\n",
              "      border: none;\n",
              "      border-radius: 50%;\n",
              "      cursor: pointer;\n",
              "      display: none;\n",
              "      fill: #1967D2;\n",
              "      height: 32px;\n",
              "      padding: 0 0 0 0;\n",
              "      width: 32px;\n",
              "    }\n",
              "\n",
              "    .colab-df-convert:hover {\n",
              "      background-color: #E2EBFA;\n",
              "      box-shadow: 0px 1px 2px rgba(60, 64, 67, 0.3), 0px 1px 3px 1px rgba(60, 64, 67, 0.15);\n",
              "      fill: #174EA6;\n",
              "    }\n",
              "\n",
              "    [theme=dark] .colab-df-convert {\n",
              "      background-color: #3B4455;\n",
              "      fill: #D2E3FC;\n",
              "    }\n",
              "\n",
              "    [theme=dark] .colab-df-convert:hover {\n",
              "      background-color: #434B5C;\n",
              "      box-shadow: 0px 1px 3px 1px rgba(0, 0, 0, 0.15);\n",
              "      filter: drop-shadow(0px 1px 2px rgba(0, 0, 0, 0.3));\n",
              "      fill: #FFFFFF;\n",
              "    }\n",
              "  </style>\n",
              "\n",
              "      <script>\n",
              "        const buttonEl =\n",
              "          document.querySelector('#df-2719dca9-9df9-4b7f-a6f9-6f4a6b89aceb button.colab-df-convert');\n",
              "        buttonEl.style.display =\n",
              "          google.colab.kernel.accessAllowed ? 'block' : 'none';\n",
              "\n",
              "        async function convertToInteractive(key) {\n",
              "          const element = document.querySelector('#df-2719dca9-9df9-4b7f-a6f9-6f4a6b89aceb');\n",
              "          const dataTable =\n",
              "            await google.colab.kernel.invokeFunction('convertToInteractive',\n",
              "                                                     [key], {});\n",
              "          if (!dataTable) return;\n",
              "\n",
              "          const docLinkHtml = 'Like what you see? Visit the ' +\n",
              "            '<a target=\"_blank\" href=https://colab.research.google.com/notebooks/data_table.ipynb>data table notebook</a>'\n",
              "            + ' to learn more about interactive tables.';\n",
              "          element.innerHTML = '';\n",
              "          dataTable['output_type'] = 'display_data';\n",
              "          await google.colab.output.renderOutput(dataTable, element);\n",
              "          const docLink = document.createElement('div');\n",
              "          docLink.innerHTML = docLinkHtml;\n",
              "          element.appendChild(docLink);\n",
              "        }\n",
              "      </script>\n",
              "    </div>\n",
              "  </div>\n",
              "  "
            ]
          },
          "metadata": {},
          "execution_count": 15
        }
      ]
    },
    {
      "cell_type": "code",
      "source": [
        "df.shape"
      ],
      "metadata": {
        "colab": {
          "base_uri": "https://localhost:8080/"
        },
        "id": "SUJGr4eEcN6_",
        "outputId": "99d01785-4760-449a-a07b-5a01dc788fba"
      },
      "execution_count": null,
      "outputs": [
        {
          "output_type": "execute_result",
          "data": {
            "text/plain": [
              "(16412, 2)"
            ]
          },
          "metadata": {},
          "execution_count": 16
        }
      ]
    },
    {
      "cell_type": "code",
      "source": [
        "df.info()"
      ],
      "metadata": {
        "colab": {
          "base_uri": "https://localhost:8080/"
        },
        "id": "do5VsbBXcasO",
        "outputId": "5f142a39-acc3-43d6-98e7-30da174f49a8"
      },
      "execution_count": null,
      "outputs": [
        {
          "output_type": "stream",
          "name": "stdout",
          "text": [
            "<class 'pandas.core.frame.DataFrame'>\n",
            "RangeIndex: 16412 entries, 0 to 16411\n",
            "Data columns (total 2 columns):\n",
            " #   Column    Non-Null Count  Dtype \n",
            "---  ------    --------------  ----- \n",
            " 0   Question  16412 non-null  object\n",
            " 1   Answer    16407 non-null  object\n",
            "dtypes: object(2)\n",
            "memory usage: 256.6+ KB\n"
          ]
        }
      ]
    },
    {
      "cell_type": "markdown",
      "source": [
        "## Pre Processing data"
      ],
      "metadata": {
        "id": "MsfJZWosCFaP"
      }
    },
    {
      "cell_type": "code",
      "source": [
        "# Apply to the str method for the iration\n",
        "df['Answer']=df['Answer'].apply(str)\n"
      ],
      "metadata": {
        "id": "CgoPusjbeGeq"
      },
      "execution_count": null,
      "outputs": []
    },
    {
      "cell_type": "code",
      "source": [
        "df.head()"
      ],
      "metadata": {
        "colab": {
          "base_uri": "https://localhost:8080/",
          "height": 206
        },
        "id": "VKkrkBE1eQv3",
        "outputId": "6821ea66-d270-4dd8-9fbf-872355b9d1cd"
      },
      "execution_count": null,
      "outputs": [
        {
          "output_type": "execute_result",
          "data": {
            "text/plain": [
              "                                            Question  \\\n",
              "0  What is (are) Adult Acute Lymphoblastic Leukem...   \n",
              "1  What are the symptoms of Adult Acute Lymphobla...   \n",
              "2  How to diagnose Adult Acute Lymphoblastic Leuk...   \n",
              "3  What is the outlook for Adult Acute Lymphoblas...   \n",
              "4  Who is at risk for Adult Acute Lymphoblastic L...   \n",
              "\n",
              "                                              Answer  \n",
              "0  Key Points\\n                    - Adult acute ...  \n",
              "1  Signs and symptoms of adult ALL include fever,...  \n",
              "2  Tests that examine the blood and bone marrow a...  \n",
              "3  Certain factors affect prognosis (chance of re...  \n",
              "4  Previous chemotherapy and exposure to radiatio...  "
            ],
            "text/html": [
              "\n",
              "  <div id=\"df-af6d9141-fc2f-4ccf-949a-a49e789108c5\">\n",
              "    <div class=\"colab-df-container\">\n",
              "      <div>\n",
              "<style scoped>\n",
              "    .dataframe tbody tr th:only-of-type {\n",
              "        vertical-align: middle;\n",
              "    }\n",
              "\n",
              "    .dataframe tbody tr th {\n",
              "        vertical-align: top;\n",
              "    }\n",
              "\n",
              "    .dataframe thead th {\n",
              "        text-align: right;\n",
              "    }\n",
              "</style>\n",
              "<table border=\"1\" class=\"dataframe\">\n",
              "  <thead>\n",
              "    <tr style=\"text-align: right;\">\n",
              "      <th></th>\n",
              "      <th>Question</th>\n",
              "      <th>Answer</th>\n",
              "    </tr>\n",
              "  </thead>\n",
              "  <tbody>\n",
              "    <tr>\n",
              "      <th>0</th>\n",
              "      <td>What is (are) Adult Acute Lymphoblastic Leukem...</td>\n",
              "      <td>Key Points\\n                    - Adult acute ...</td>\n",
              "    </tr>\n",
              "    <tr>\n",
              "      <th>1</th>\n",
              "      <td>What are the symptoms of Adult Acute Lymphobla...</td>\n",
              "      <td>Signs and symptoms of adult ALL include fever,...</td>\n",
              "    </tr>\n",
              "    <tr>\n",
              "      <th>2</th>\n",
              "      <td>How to diagnose Adult Acute Lymphoblastic Leuk...</td>\n",
              "      <td>Tests that examine the blood and bone marrow a...</td>\n",
              "    </tr>\n",
              "    <tr>\n",
              "      <th>3</th>\n",
              "      <td>What is the outlook for Adult Acute Lymphoblas...</td>\n",
              "      <td>Certain factors affect prognosis (chance of re...</td>\n",
              "    </tr>\n",
              "    <tr>\n",
              "      <th>4</th>\n",
              "      <td>Who is at risk for Adult Acute Lymphoblastic L...</td>\n",
              "      <td>Previous chemotherapy and exposure to radiatio...</td>\n",
              "    </tr>\n",
              "  </tbody>\n",
              "</table>\n",
              "</div>\n",
              "      <button class=\"colab-df-convert\" onclick=\"convertToInteractive('df-af6d9141-fc2f-4ccf-949a-a49e789108c5')\"\n",
              "              title=\"Convert this dataframe to an interactive table.\"\n",
              "              style=\"display:none;\">\n",
              "        \n",
              "  <svg xmlns=\"http://www.w3.org/2000/svg\" height=\"24px\"viewBox=\"0 0 24 24\"\n",
              "       width=\"24px\">\n",
              "    <path d=\"M0 0h24v24H0V0z\" fill=\"none\"/>\n",
              "    <path d=\"M18.56 5.44l.94 2.06.94-2.06 2.06-.94-2.06-.94-.94-2.06-.94 2.06-2.06.94zm-11 1L8.5 8.5l.94-2.06 2.06-.94-2.06-.94L8.5 2.5l-.94 2.06-2.06.94zm10 10l.94 2.06.94-2.06 2.06-.94-2.06-.94-.94-2.06-.94 2.06-2.06.94z\"/><path d=\"M17.41 7.96l-1.37-1.37c-.4-.4-.92-.59-1.43-.59-.52 0-1.04.2-1.43.59L10.3 9.45l-7.72 7.72c-.78.78-.78 2.05 0 2.83L4 21.41c.39.39.9.59 1.41.59.51 0 1.02-.2 1.41-.59l7.78-7.78 2.81-2.81c.8-.78.8-2.07 0-2.86zM5.41 20L4 18.59l7.72-7.72 1.47 1.35L5.41 20z\"/>\n",
              "  </svg>\n",
              "      </button>\n",
              "      \n",
              "  <style>\n",
              "    .colab-df-container {\n",
              "      display:flex;\n",
              "      flex-wrap:wrap;\n",
              "      gap: 12px;\n",
              "    }\n",
              "\n",
              "    .colab-df-convert {\n",
              "      background-color: #E8F0FE;\n",
              "      border: none;\n",
              "      border-radius: 50%;\n",
              "      cursor: pointer;\n",
              "      display: none;\n",
              "      fill: #1967D2;\n",
              "      height: 32px;\n",
              "      padding: 0 0 0 0;\n",
              "      width: 32px;\n",
              "    }\n",
              "\n",
              "    .colab-df-convert:hover {\n",
              "      background-color: #E2EBFA;\n",
              "      box-shadow: 0px 1px 2px rgba(60, 64, 67, 0.3), 0px 1px 3px 1px rgba(60, 64, 67, 0.15);\n",
              "      fill: #174EA6;\n",
              "    }\n",
              "\n",
              "    [theme=dark] .colab-df-convert {\n",
              "      background-color: #3B4455;\n",
              "      fill: #D2E3FC;\n",
              "    }\n",
              "\n",
              "    [theme=dark] .colab-df-convert:hover {\n",
              "      background-color: #434B5C;\n",
              "      box-shadow: 0px 1px 3px 1px rgba(0, 0, 0, 0.15);\n",
              "      filter: drop-shadow(0px 1px 2px rgba(0, 0, 0, 0.3));\n",
              "      fill: #FFFFFF;\n",
              "    }\n",
              "  </style>\n",
              "\n",
              "      <script>\n",
              "        const buttonEl =\n",
              "          document.querySelector('#df-af6d9141-fc2f-4ccf-949a-a49e789108c5 button.colab-df-convert');\n",
              "        buttonEl.style.display =\n",
              "          google.colab.kernel.accessAllowed ? 'block' : 'none';\n",
              "\n",
              "        async function convertToInteractive(key) {\n",
              "          const element = document.querySelector('#df-af6d9141-fc2f-4ccf-949a-a49e789108c5');\n",
              "          const dataTable =\n",
              "            await google.colab.kernel.invokeFunction('convertToInteractive',\n",
              "                                                     [key], {});\n",
              "          if (!dataTable) return;\n",
              "\n",
              "          const docLinkHtml = 'Like what you see? Visit the ' +\n",
              "            '<a target=\"_blank\" href=https://colab.research.google.com/notebooks/data_table.ipynb>data table notebook</a>'\n",
              "            + ' to learn more about interactive tables.';\n",
              "          element.innerHTML = '';\n",
              "          dataTable['output_type'] = 'display_data';\n",
              "          await google.colab.output.renderOutput(dataTable, element);\n",
              "          const docLink = document.createElement('div');\n",
              "          docLink.innerHTML = docLinkHtml;\n",
              "          element.appendChild(docLink);\n",
              "        }\n",
              "      </script>\n",
              "    </div>\n",
              "  </div>\n",
              "  "
            ]
          },
          "metadata": {},
          "execution_count": 21
        }
      ]
    },
    {
      "cell_type": "code",
      "source": [
        "import re\n",
        "#preprocessing questions and answers.\n",
        "def decontractions(phrase):\n",
        "    \"\"\"decontracted takes text and convert contractions into natural form.\n",
        "     ref: https://stackoverflow.com/questions/19790188/expanding-english-language-contractions-in-python/47091490#47091490\"\"\"\n",
        "    phrase = re.sub(r\"won\\'t\", \"will not\", phrase)\n",
        "    phrase = re.sub(r\"can\\'t\", \"can not\", phrase)\n",
        "    phrase = re.sub(r\"won\\’t\", \"will not\", phrase)\n",
        "    phrase = re.sub(r\"can\\’t\", \"can not\", phrase)\n",
        "    phrase = re.sub(r\"n\\'t\", \" not\", phrase)\n",
        "    phrase = re.sub(r\"\\'re\", \" are\", phrase)\n",
        "    phrase = re.sub(r\"\\'s\", \" is\", phrase)\n",
        "    phrase = re.sub(r\"\\'d\", \" would\", phrase)\n",
        "    phrase = re.sub(r\"\\'ll\", \" will\", phrase)\n",
        "    phrase = re.sub(r\"\\'t\", \" not\", phrase)\n",
        "    phrase = re.sub(r\"\\'ve\", \" have\", phrase)\n",
        "    phrase = re.sub(r\"\\'m\", \" am\", phrase)\n",
        "    phrase = re.sub(r\"n\\’t\", \" not\", phrase)\n",
        "    phrase = re.sub(r\"\\’re\", \" are\", phrase)\n",
        "    phrase = re.sub(r\"\\’s\", \" is\", phrase)\n",
        "    phrase = re.sub(r\"\\’d\", \" would\", phrase)\n",
        "    phrase = re.sub(r\"\\’ll\", \" will\", phrase)\n",
        "    phrase = re.sub(r\"\\’t\", \" not\", phrase)\n",
        "    phrase = re.sub(r\"\\’ve\", \" have\", phrase)\n",
        "    phrase = re.sub(r\"\\’m\", \" am\", phrase)\n",
        "    phrase =re.sub(\"\\s+\" , \" \", phrase)\n",
        "    return phrase\n",
        "\n",
        "\n",
        "def preprocess(text):\n",
        "    # convert all the text into lower letters\n",
        "    # remove the words betweent brakets ()\n",
        "    # remove these characters: {'$', ')', '?', '\"', '’', '.',  '°', '!', ';', '/', \"'\", '€', '%', ':', ',', '('}\n",
        "    # replace these spl characters with space: '\\u200b', '\\xa0', '-', '/'\n",
        "    \n",
        "    text = decontractions(text)\n",
        "    text = re.sub('[$)\\?\"’°!;\\'€%:,(/]', '', text)\n",
        "    text = re.sub('\\u200b', ' ', text)\n",
        "    text = re.sub('\\xa0', ' ', text)\n",
        "    return text\n",
        "\n",
        "\n",
        "df['preprocess_Question'] = df['Question'].apply(preprocess)\n",
        "df['preprocess_Answer'] = df['Answer'].apply(preprocess)\n",
        "df.head()"
      ],
      "metadata": {
        "colab": {
          "base_uri": "https://localhost:8080/",
          "height": 337
        },
        "id": "CzU3iCVXcdaA",
        "outputId": "7409f7aa-be49-441e-d9a1-4dd41319d6dc"
      },
      "execution_count": null,
      "outputs": [
        {
          "output_type": "execute_result",
          "data": {
            "text/plain": [
              "                                            Question  \\\n",
              "0  What is (are) Adult Acute Lymphoblastic Leukem...   \n",
              "1  What are the symptoms of Adult Acute Lymphobla...   \n",
              "2  How to diagnose Adult Acute Lymphoblastic Leuk...   \n",
              "3  What is the outlook for Adult Acute Lymphoblas...   \n",
              "4  Who is at risk for Adult Acute Lymphoblastic L...   \n",
              "\n",
              "                                              Answer  \\\n",
              "0  Key Points\\n                    - Adult acute ...   \n",
              "1  Signs and symptoms of adult ALL include fever,...   \n",
              "2  Tests that examine the blood and bone marrow a...   \n",
              "3  Certain factors affect prognosis (chance of re...   \n",
              "4  Previous chemotherapy and exposure to radiatio...   \n",
              "\n",
              "                                 preprocess_Question  \\\n",
              "0    What is are Adult Acute Lymphoblastic Leukemia    \n",
              "1  What are the symptoms of Adult Acute Lymphobla...   \n",
              "2  How to diagnose Adult Acute Lymphoblastic Leuk...   \n",
              "3  What is the outlook for Adult Acute Lymphoblas...   \n",
              "4  Who is at risk for Adult Acute Lymphoblastic L...   \n",
              "\n",
              "                                   preprocess_Answer  \n",
              "0  Key Points - Adult acute lymphoblastic leukemi...  \n",
              "1  Signs and symptoms of adult ALL include fever ...  \n",
              "2  Tests that examine the blood and bone marrow a...  \n",
              "3  Certain factors affect prognosis chance of rec...  \n",
              "4  Previous chemotherapy and exposure to radiatio...  "
            ],
            "text/html": [
              "\n",
              "  <div id=\"df-9f90ac33-1891-48cd-b3f2-bd3cbf0b14af\">\n",
              "    <div class=\"colab-df-container\">\n",
              "      <div>\n",
              "<style scoped>\n",
              "    .dataframe tbody tr th:only-of-type {\n",
              "        vertical-align: middle;\n",
              "    }\n",
              "\n",
              "    .dataframe tbody tr th {\n",
              "        vertical-align: top;\n",
              "    }\n",
              "\n",
              "    .dataframe thead th {\n",
              "        text-align: right;\n",
              "    }\n",
              "</style>\n",
              "<table border=\"1\" class=\"dataframe\">\n",
              "  <thead>\n",
              "    <tr style=\"text-align: right;\">\n",
              "      <th></th>\n",
              "      <th>Question</th>\n",
              "      <th>Answer</th>\n",
              "      <th>preprocess_Question</th>\n",
              "      <th>preprocess_Answer</th>\n",
              "    </tr>\n",
              "  </thead>\n",
              "  <tbody>\n",
              "    <tr>\n",
              "      <th>0</th>\n",
              "      <td>What is (are) Adult Acute Lymphoblastic Leukem...</td>\n",
              "      <td>Key Points\\n                    - Adult acute ...</td>\n",
              "      <td>What is are Adult Acute Lymphoblastic Leukemia</td>\n",
              "      <td>Key Points - Adult acute lymphoblastic leukemi...</td>\n",
              "    </tr>\n",
              "    <tr>\n",
              "      <th>1</th>\n",
              "      <td>What are the symptoms of Adult Acute Lymphobla...</td>\n",
              "      <td>Signs and symptoms of adult ALL include fever,...</td>\n",
              "      <td>What are the symptoms of Adult Acute Lymphobla...</td>\n",
              "      <td>Signs and symptoms of adult ALL include fever ...</td>\n",
              "    </tr>\n",
              "    <tr>\n",
              "      <th>2</th>\n",
              "      <td>How to diagnose Adult Acute Lymphoblastic Leuk...</td>\n",
              "      <td>Tests that examine the blood and bone marrow a...</td>\n",
              "      <td>How to diagnose Adult Acute Lymphoblastic Leuk...</td>\n",
              "      <td>Tests that examine the blood and bone marrow a...</td>\n",
              "    </tr>\n",
              "    <tr>\n",
              "      <th>3</th>\n",
              "      <td>What is the outlook for Adult Acute Lymphoblas...</td>\n",
              "      <td>Certain factors affect prognosis (chance of re...</td>\n",
              "      <td>What is the outlook for Adult Acute Lymphoblas...</td>\n",
              "      <td>Certain factors affect prognosis chance of rec...</td>\n",
              "    </tr>\n",
              "    <tr>\n",
              "      <th>4</th>\n",
              "      <td>Who is at risk for Adult Acute Lymphoblastic L...</td>\n",
              "      <td>Previous chemotherapy and exposure to radiatio...</td>\n",
              "      <td>Who is at risk for Adult Acute Lymphoblastic L...</td>\n",
              "      <td>Previous chemotherapy and exposure to radiatio...</td>\n",
              "    </tr>\n",
              "  </tbody>\n",
              "</table>\n",
              "</div>\n",
              "      <button class=\"colab-df-convert\" onclick=\"convertToInteractive('df-9f90ac33-1891-48cd-b3f2-bd3cbf0b14af')\"\n",
              "              title=\"Convert this dataframe to an interactive table.\"\n",
              "              style=\"display:none;\">\n",
              "        \n",
              "  <svg xmlns=\"http://www.w3.org/2000/svg\" height=\"24px\"viewBox=\"0 0 24 24\"\n",
              "       width=\"24px\">\n",
              "    <path d=\"M0 0h24v24H0V0z\" fill=\"none\"/>\n",
              "    <path d=\"M18.56 5.44l.94 2.06.94-2.06 2.06-.94-2.06-.94-.94-2.06-.94 2.06-2.06.94zm-11 1L8.5 8.5l.94-2.06 2.06-.94-2.06-.94L8.5 2.5l-.94 2.06-2.06.94zm10 10l.94 2.06.94-2.06 2.06-.94-2.06-.94-.94-2.06-.94 2.06-2.06.94z\"/><path d=\"M17.41 7.96l-1.37-1.37c-.4-.4-.92-.59-1.43-.59-.52 0-1.04.2-1.43.59L10.3 9.45l-7.72 7.72c-.78.78-.78 2.05 0 2.83L4 21.41c.39.39.9.59 1.41.59.51 0 1.02-.2 1.41-.59l7.78-7.78 2.81-2.81c.8-.78.8-2.07 0-2.86zM5.41 20L4 18.59l7.72-7.72 1.47 1.35L5.41 20z\"/>\n",
              "  </svg>\n",
              "      </button>\n",
              "      \n",
              "  <style>\n",
              "    .colab-df-container {\n",
              "      display:flex;\n",
              "      flex-wrap:wrap;\n",
              "      gap: 12px;\n",
              "    }\n",
              "\n",
              "    .colab-df-convert {\n",
              "      background-color: #E8F0FE;\n",
              "      border: none;\n",
              "      border-radius: 50%;\n",
              "      cursor: pointer;\n",
              "      display: none;\n",
              "      fill: #1967D2;\n",
              "      height: 32px;\n",
              "      padding: 0 0 0 0;\n",
              "      width: 32px;\n",
              "    }\n",
              "\n",
              "    .colab-df-convert:hover {\n",
              "      background-color: #E2EBFA;\n",
              "      box-shadow: 0px 1px 2px rgba(60, 64, 67, 0.3), 0px 1px 3px 1px rgba(60, 64, 67, 0.15);\n",
              "      fill: #174EA6;\n",
              "    }\n",
              "\n",
              "    [theme=dark] .colab-df-convert {\n",
              "      background-color: #3B4455;\n",
              "      fill: #D2E3FC;\n",
              "    }\n",
              "\n",
              "    [theme=dark] .colab-df-convert:hover {\n",
              "      background-color: #434B5C;\n",
              "      box-shadow: 0px 1px 3px 1px rgba(0, 0, 0, 0.15);\n",
              "      filter: drop-shadow(0px 1px 2px rgba(0, 0, 0, 0.3));\n",
              "      fill: #FFFFFF;\n",
              "    }\n",
              "  </style>\n",
              "\n",
              "      <script>\n",
              "        const buttonEl =\n",
              "          document.querySelector('#df-9f90ac33-1891-48cd-b3f2-bd3cbf0b14af button.colab-df-convert');\n",
              "        buttonEl.style.display =\n",
              "          google.colab.kernel.accessAllowed ? 'block' : 'none';\n",
              "\n",
              "        async function convertToInteractive(key) {\n",
              "          const element = document.querySelector('#df-9f90ac33-1891-48cd-b3f2-bd3cbf0b14af');\n",
              "          const dataTable =\n",
              "            await google.colab.kernel.invokeFunction('convertToInteractive',\n",
              "                                                     [key], {});\n",
              "          if (!dataTable) return;\n",
              "\n",
              "          const docLinkHtml = 'Like what you see? Visit the ' +\n",
              "            '<a target=\"_blank\" href=https://colab.research.google.com/notebooks/data_table.ipynb>data table notebook</a>'\n",
              "            + ' to learn more about interactive tables.';\n",
              "          element.innerHTML = '';\n",
              "          dataTable['output_type'] = 'display_data';\n",
              "          await google.colab.output.renderOutput(dataTable, element);\n",
              "          const docLink = document.createElement('div');\n",
              "          docLink.innerHTML = docLinkHtml;\n",
              "          element.appendChild(docLink);\n",
              "        }\n",
              "      </script>\n",
              "    </div>\n",
              "  </div>\n",
              "  "
            ]
          },
          "metadata": {},
          "execution_count": 23
        }
      ]
    },
    {
      "cell_type": "code",
      "source": [
        "bios=df['preprocess_Answer']"
      ],
      "metadata": {
        "id": "iL3WWhdcdRHQ"
      },
      "execution_count": null,
      "outputs": []
    },
    {
      "cell_type": "code",
      "source": [
        "# for the count words inside the single sentence\n",
        "df['question_len']=df['preprocess_Question'].apply(lambda x: len(x.split(' ')))\n",
        "df['answer_len']=df['preprocess_Answer'].apply(lambda x: len(x.split(' ')))"
      ],
      "metadata": {
        "id": "QOLyy2WqfzhQ"
      },
      "execution_count": null,
      "outputs": []
    },
    {
      "cell_type": "code",
      "source": [
        "#printing different percentiles of question and answer lengths\n",
        "import numpy as np\n",
        "for i in range(0,100,5):\n",
        "  print(i,np.percentile(df.question_len,i),np.percentile(df.answer_len,i))"
      ],
      "metadata": {
        "colab": {
          "base_uri": "https://localhost:8080/"
        },
        "id": "lVGGkW_Afbgx",
        "outputId": "1f5b1696-2559-4a25-890d-d87cec68b7ea"
      },
      "execution_count": null,
      "outputs": [
        {
          "output_type": "stream",
          "name": "stdout",
          "text": [
            "0 3.0 1.0\n",
            "5 5.0 26.0\n",
            "10 5.0 42.0\n",
            "15 6.0 51.0\n",
            "20 6.0 61.0\n",
            "25 6.0 71.0\n",
            "30 7.0 84.0\n",
            "35 7.0 98.0\n",
            "40 7.0 111.0\n",
            "45 8.0 124.0\n",
            "50 8.0 138.0\n",
            "55 8.0 155.0\n",
            "60 9.0 174.0\n",
            "65 9.0 199.0\n",
            "70 9.0 232.0\n",
            "75 10.0 252.0\n",
            "80 10.0 279.0\n",
            "85 11.0 315.0\n",
            "90 11.0 380.0\n",
            "95 12.0 524.0\n"
          ]
        }
      ]
    },
    {
      "cell_type": "code",
      "source": [
        "df.head()"
      ],
      "metadata": {
        "colab": {
          "base_uri": "https://localhost:8080/",
          "height": 354
        },
        "id": "KYaLVAbXkrlw",
        "outputId": "532d2ff0-2153-41a8-d76d-fde33553ca49"
      },
      "execution_count": null,
      "outputs": [
        {
          "output_type": "execute_result",
          "data": {
            "text/plain": [
              "                                            Question  \\\n",
              "0  What is (are) Adult Acute Lymphoblastic Leukem...   \n",
              "1  What are the symptoms of Adult Acute Lymphobla...   \n",
              "2  How to diagnose Adult Acute Lymphoblastic Leuk...   \n",
              "3  What is the outlook for Adult Acute Lymphoblas...   \n",
              "4  Who is at risk for Adult Acute Lymphoblastic L...   \n",
              "\n",
              "                                              Answer  \\\n",
              "0  Key Points\\n                    - Adult acute ...   \n",
              "1  Signs and symptoms of adult ALL include fever,...   \n",
              "2  Tests that examine the blood and bone marrow a...   \n",
              "3  Certain factors affect prognosis (chance of re...   \n",
              "4  Previous chemotherapy and exposure to radiatio...   \n",
              "\n",
              "                                 preprocess_Question  \\\n",
              "0    What is are Adult Acute Lymphoblastic Leukemia    \n",
              "1  What are the symptoms of Adult Acute Lymphobla...   \n",
              "2  How to diagnose Adult Acute Lymphoblastic Leuk...   \n",
              "3  What is the outlook for Adult Acute Lymphoblas...   \n",
              "4  Who is at risk for Adult Acute Lymphoblastic L...   \n",
              "\n",
              "                                   preprocess_Answer  question_len  answer_len  \n",
              "0  Key Points - Adult acute lymphoblastic leukemi...             8         436  \n",
              "1  Signs and symptoms of adult ALL include fever ...            10         127  \n",
              "2  Tests that examine the blood and bone marrow a...             8         446  \n",
              "3  Certain factors affect prognosis chance of rec...            10          66  \n",
              "4  Previous chemotherapy and exposure to radiatio...            10         114  "
            ],
            "text/html": [
              "\n",
              "  <div id=\"df-a9c18660-e434-466a-80a4-c0bbdee56477\">\n",
              "    <div class=\"colab-df-container\">\n",
              "      <div>\n",
              "<style scoped>\n",
              "    .dataframe tbody tr th:only-of-type {\n",
              "        vertical-align: middle;\n",
              "    }\n",
              "\n",
              "    .dataframe tbody tr th {\n",
              "        vertical-align: top;\n",
              "    }\n",
              "\n",
              "    .dataframe thead th {\n",
              "        text-align: right;\n",
              "    }\n",
              "</style>\n",
              "<table border=\"1\" class=\"dataframe\">\n",
              "  <thead>\n",
              "    <tr style=\"text-align: right;\">\n",
              "      <th></th>\n",
              "      <th>Question</th>\n",
              "      <th>Answer</th>\n",
              "      <th>preprocess_Question</th>\n",
              "      <th>preprocess_Answer</th>\n",
              "      <th>question_len</th>\n",
              "      <th>answer_len</th>\n",
              "    </tr>\n",
              "  </thead>\n",
              "  <tbody>\n",
              "    <tr>\n",
              "      <th>0</th>\n",
              "      <td>What is (are) Adult Acute Lymphoblastic Leukem...</td>\n",
              "      <td>Key Points\\n                    - Adult acute ...</td>\n",
              "      <td>What is are Adult Acute Lymphoblastic Leukemia</td>\n",
              "      <td>Key Points - Adult acute lymphoblastic leukemi...</td>\n",
              "      <td>8</td>\n",
              "      <td>436</td>\n",
              "    </tr>\n",
              "    <tr>\n",
              "      <th>1</th>\n",
              "      <td>What are the symptoms of Adult Acute Lymphobla...</td>\n",
              "      <td>Signs and symptoms of adult ALL include fever,...</td>\n",
              "      <td>What are the symptoms of Adult Acute Lymphobla...</td>\n",
              "      <td>Signs and symptoms of adult ALL include fever ...</td>\n",
              "      <td>10</td>\n",
              "      <td>127</td>\n",
              "    </tr>\n",
              "    <tr>\n",
              "      <th>2</th>\n",
              "      <td>How to diagnose Adult Acute Lymphoblastic Leuk...</td>\n",
              "      <td>Tests that examine the blood and bone marrow a...</td>\n",
              "      <td>How to diagnose Adult Acute Lymphoblastic Leuk...</td>\n",
              "      <td>Tests that examine the blood and bone marrow a...</td>\n",
              "      <td>8</td>\n",
              "      <td>446</td>\n",
              "    </tr>\n",
              "    <tr>\n",
              "      <th>3</th>\n",
              "      <td>What is the outlook for Adult Acute Lymphoblas...</td>\n",
              "      <td>Certain factors affect prognosis (chance of re...</td>\n",
              "      <td>What is the outlook for Adult Acute Lymphoblas...</td>\n",
              "      <td>Certain factors affect prognosis chance of rec...</td>\n",
              "      <td>10</td>\n",
              "      <td>66</td>\n",
              "    </tr>\n",
              "    <tr>\n",
              "      <th>4</th>\n",
              "      <td>Who is at risk for Adult Acute Lymphoblastic L...</td>\n",
              "      <td>Previous chemotherapy and exposure to radiatio...</td>\n",
              "      <td>Who is at risk for Adult Acute Lymphoblastic L...</td>\n",
              "      <td>Previous chemotherapy and exposure to radiatio...</td>\n",
              "      <td>10</td>\n",
              "      <td>114</td>\n",
              "    </tr>\n",
              "  </tbody>\n",
              "</table>\n",
              "</div>\n",
              "      <button class=\"colab-df-convert\" onclick=\"convertToInteractive('df-a9c18660-e434-466a-80a4-c0bbdee56477')\"\n",
              "              title=\"Convert this dataframe to an interactive table.\"\n",
              "              style=\"display:none;\">\n",
              "        \n",
              "  <svg xmlns=\"http://www.w3.org/2000/svg\" height=\"24px\"viewBox=\"0 0 24 24\"\n",
              "       width=\"24px\">\n",
              "    <path d=\"M0 0h24v24H0V0z\" fill=\"none\"/>\n",
              "    <path d=\"M18.56 5.44l.94 2.06.94-2.06 2.06-.94-2.06-.94-.94-2.06-.94 2.06-2.06.94zm-11 1L8.5 8.5l.94-2.06 2.06-.94-2.06-.94L8.5 2.5l-.94 2.06-2.06.94zm10 10l.94 2.06.94-2.06 2.06-.94-2.06-.94-.94-2.06-.94 2.06-2.06.94z\"/><path d=\"M17.41 7.96l-1.37-1.37c-.4-.4-.92-.59-1.43-.59-.52 0-1.04.2-1.43.59L10.3 9.45l-7.72 7.72c-.78.78-.78 2.05 0 2.83L4 21.41c.39.39.9.59 1.41.59.51 0 1.02-.2 1.41-.59l7.78-7.78 2.81-2.81c.8-.78.8-2.07 0-2.86zM5.41 20L4 18.59l7.72-7.72 1.47 1.35L5.41 20z\"/>\n",
              "  </svg>\n",
              "      </button>\n",
              "      \n",
              "  <style>\n",
              "    .colab-df-container {\n",
              "      display:flex;\n",
              "      flex-wrap:wrap;\n",
              "      gap: 12px;\n",
              "    }\n",
              "\n",
              "    .colab-df-convert {\n",
              "      background-color: #E8F0FE;\n",
              "      border: none;\n",
              "      border-radius: 50%;\n",
              "      cursor: pointer;\n",
              "      display: none;\n",
              "      fill: #1967D2;\n",
              "      height: 32px;\n",
              "      padding: 0 0 0 0;\n",
              "      width: 32px;\n",
              "    }\n",
              "\n",
              "    .colab-df-convert:hover {\n",
              "      background-color: #E2EBFA;\n",
              "      box-shadow: 0px 1px 2px rgba(60, 64, 67, 0.3), 0px 1px 3px 1px rgba(60, 64, 67, 0.15);\n",
              "      fill: #174EA6;\n",
              "    }\n",
              "\n",
              "    [theme=dark] .colab-df-convert {\n",
              "      background-color: #3B4455;\n",
              "      fill: #D2E3FC;\n",
              "    }\n",
              "\n",
              "    [theme=dark] .colab-df-convert:hover {\n",
              "      background-color: #434B5C;\n",
              "      box-shadow: 0px 1px 3px 1px rgba(0, 0, 0, 0.15);\n",
              "      filter: drop-shadow(0px 1px 2px rgba(0, 0, 0, 0.3));\n",
              "      fill: #FFFFFF;\n",
              "    }\n",
              "  </style>\n",
              "\n",
              "      <script>\n",
              "        const buttonEl =\n",
              "          document.querySelector('#df-a9c18660-e434-466a-80a4-c0bbdee56477 button.colab-df-convert');\n",
              "        buttonEl.style.display =\n",
              "          google.colab.kernel.accessAllowed ? 'block' : 'none';\n",
              "\n",
              "        async function convertToInteractive(key) {\n",
              "          const element = document.querySelector('#df-a9c18660-e434-466a-80a4-c0bbdee56477');\n",
              "          const dataTable =\n",
              "            await google.colab.kernel.invokeFunction('convertToInteractive',\n",
              "                                                     [key], {});\n",
              "          if (!dataTable) return;\n",
              "\n",
              "          const docLinkHtml = 'Like what you see? Visit the ' +\n",
              "            '<a target=\"_blank\" href=https://colab.research.google.com/notebooks/data_table.ipynb>data table notebook</a>'\n",
              "            + ' to learn more about interactive tables.';\n",
              "          element.innerHTML = '';\n",
              "          dataTable['output_type'] = 'display_data';\n",
              "          await google.colab.output.renderOutput(dataTable, element);\n",
              "          const docLink = document.createElement('div');\n",
              "          docLink.innerHTML = docLinkHtml;\n",
              "          element.appendChild(docLink);\n",
              "        }\n",
              "      </script>\n",
              "    </div>\n",
              "  </div>\n",
              "  "
            ]
          },
          "metadata": {},
          "execution_count": 28
        }
      ]
    },
    {
      "cell_type": "code",
      "source": [
        "df['preprocess_Answer'][0]"
      ],
      "metadata": {
        "colab": {
          "base_uri": "https://localhost:8080/",
          "height": 157
        },
        "id": "Vx4ENAvZIguV",
        "outputId": "3c5d54cb-a65d-4b6b-a5e8-6c84a8c69a54"
      },
      "execution_count": null,
      "outputs": [
        {
          "output_type": "execute_result",
          "data": {
            "text/plain": [
              "'Key Points - Adult acute lymphoblastic leukemia ALL is a type of cancer in which the bone marrow makes too many lymphocytes a type of white blood cell. - Leukemia may affect red blood cells white blood cells and platelets. - Previous chemotherapy and exposure to radiation may increase the risk of developing ALL. - Signs and symptoms of adult ALL include fever feeling tired and easy bruising or bleeding. - Tests that examine the blood and bone marrow are used to detect find and diagnose adult ALL. - Certain factors affect prognosis chance of recovery and treatment options. Adult acute lymphoblastic leukemia ALL is a type of cancer in which the bone marrow makes too many lymphocytes a type of white blood cell. Adult acute lymphoblastic leukemia ALL also called acute lymphocytic leukemia is a cancer of the blood and bone marrow. This type of cancer usually gets worse quickly if it is not treated. Leukemia may affect red blood cells white blood cells and platelets. Normally the bone marrow makes blood stem cells immature cells that become mature blood cells over time. A blood stem cell may become a myeloid stem cell or a lymphoid stem cell. A myeloid stem cell becomes one of three types of mature blood cells - Red blood cells that carry oxygen and other substances to all tissues of the body. - Platelets that form blood clots to stop bleeding. - Granulocytes white blood cells that fight infection and disease. A lymphoid stem cell becomes a lymphoblast cell and then one of three types of lymphocytes white blood cells - B lymphocytes that make antibodies to help fight infection. - T lymphocytes that help B lymphocytes make the antibodies that help fight infection. - Natural killer cells that attack cancer cells and viruses. In ALL too many stem cells become lymphoblasts B lymphocytes or T lymphocytes. These cells are also called leukemia cells. These leukemia cells are not able to fight infection very well. Also as the number of leukemia cells increases in the blood and bone marrow there is less room for healthy white blood cells red blood cells and platelets. This may cause infection anemia and easy bleeding. The cancer can also spread to the central nervous system brain and spinal cord. This summary is about adult acute lymphoblastic leukemia. See the following PDQ summaries for information about other types of leukemia - Childhood Acute Lymphoblastic Leukemia Treatment. - Adult Acute Myeloid Leukemia Treatment. - Childhood Acute Myeloid LeukemiaOther Myeloid Malignancies Treatment. - Chronic Lymphocytic Leukemia Treatment. - Chronic Myelogenous Leukemia Treatment. - Hairy Cell Leukemia Treatment.'"
            ],
            "application/vnd.google.colaboratory.intrinsic+json": {
              "type": "string"
            }
          },
          "metadata": {},
          "execution_count": 30
        }
      ]
    },
    {
      "cell_type": "code",
      "source": [
        "bios = df['preprocess_Answer'] #just use the main bio text in this example\n",
        "bios"
      ],
      "metadata": {
        "colab": {
          "base_uri": "https://localhost:8080/"
        },
        "id": "q8l8Nk31JJ6_",
        "outputId": "68ea00ec-bac6-46e9-9de0-b54d895be58b"
      },
      "execution_count": null,
      "outputs": [
        {
          "output_type": "execute_result",
          "data": {
            "text/plain": [
              "0        Key Points - Adult acute lymphoblastic leukemi...\n",
              "1        Signs and symptoms of adult ALL include fever ...\n",
              "2        Tests that examine the blood and bone marrow a...\n",
              "3        Certain factors affect prognosis chance of rec...\n",
              "4        Previous chemotherapy and exposure to radiatio...\n",
              "                               ...                        \n",
              "16407    What are the signs and symptoms of 5q- syndrom...\n",
              "16408    5q14.3 microdeletion syndrome is characterized...\n",
              "16409    What are the signs and symptoms of 5q14.3 micr...\n",
              "16410    What are the signs and symptoms of 8p23.1 dupl...\n",
              "16411    What are the signs and symptoms of 8q12 microd...\n",
              "Name: preprocess_Answer, Length: 16412, dtype: object"
            ]
          },
          "metadata": {},
          "execution_count": 31
        }
      ]
    },
    {
      "cell_type": "code",
      "source": [
        "biom = df['preprocess_Question'] #just use the main bio text in this example\n",
        "biom"
      ],
      "metadata": {
        "colab": {
          "base_uri": "https://localhost:8080/"
        },
        "id": "KD5JZTWnKRl0",
        "outputId": "31e82bcf-aeb0-428a-d9d4-027cf186263b"
      },
      "execution_count": null,
      "outputs": [
        {
          "output_type": "execute_result",
          "data": {
            "text/plain": [
              "0          What is are Adult Acute Lymphoblastic Leukemia \n",
              "1        What are the symptoms of Adult Acute Lymphobla...\n",
              "2        How to diagnose Adult Acute Lymphoblastic Leuk...\n",
              "3        What is the outlook for Adult Acute Lymphoblas...\n",
              "4        Who is at risk for Adult Acute Lymphoblastic L...\n",
              "                               ...                        \n",
              "16407               What are the symptoms of 5q- syndrome \n",
              "16408           What is are 5q14.3 microdeletion syndrome \n",
              "16409    What are the symptoms of 5q14.3 microdeletion ...\n",
              "16410    What are the symptoms of 8p23.1 duplication sy...\n",
              "16411    What are the symptoms of 8q12 microduplication...\n",
              "Name: preprocess_Question, Length: 16412, dtype: object"
            ]
          },
          "metadata": {},
          "execution_count": 39
        }
      ]
    },
    {
      "cell_type": "code",
      "source": [
        "doc_length = []\n",
        "\n",
        "for bio in biom:\n",
        "\n",
        "    # get rough token count distribution\n",
        "    tokens = nltk.word_tokenize(bio)\n",
        "\n",
        "    doc_length.append(len(tokens))\n",
        "\n",
        "doc_length = np.array(doc_length)\n",
        "print(doc_length)\n",
        "\n",
        "sns.histplot(doc_length)"
      ],
      "metadata": {
        "colab": {
          "base_uri": "https://localhost:8080/",
          "height": 465
        },
        "id": "eLKfZCbogJrs",
        "outputId": "7184bb8e-9987-4a61-ca41-bd4a12ed32aa"
      },
      "execution_count": null,
      "outputs": [
        {
          "output_type": "stream",
          "name": "stdout",
          "text": [
            "[7 9 7 ... 8 8 8]\n"
          ]
        },
        {
          "output_type": "execute_result",
          "data": {
            "text/plain": [
              "<Axes: ylabel='Count'>"
            ]
          },
          "metadata": {},
          "execution_count": 60
        },
        {
          "output_type": "display_data",
          "data": {
            "text/plain": [
              "<Figure size 640x480 with 1 Axes>"
            ],
            "image/png": "[encoded data removed]"
          },
          "metadata": {}
        }
      ]
    },
    {
      "cell_type": "code",
      "source": [
        "doc_lengths = []\n",
        "\n",
        "for bio in bios:\n",
        "\n",
        "    # get rough token count distribution\n",
        "    tokens = nltk.word_tokenize(bio)\n",
        "\n",
        "    doc_lengths.append(len(tokens))\n",
        "\n",
        "doc_lengths = np.array(doc_lengths)\n",
        "\n",
        "sns.histplot(doc_lengths)"
      ],
      "metadata": {
        "colab": {
          "base_uri": "https://localhost:8080/",
          "height": 447
        },
        "id": "lGIBxAf2J0dv",
        "outputId": "ea0fdba7-b551-4b10-efe2-7327a5ed68ce"
      },
      "execution_count": null,
      "outputs": [
        {
          "output_type": "execute_result",
          "data": {
            "text/plain": [
              "<Axes: ylabel='Count'>"
            ]
          },
          "metadata": {},
          "execution_count": 42
        },
        {
          "output_type": "display_data",
          "data": {
            "text/plain": [
              "<Figure size 640x480 with 1 Axes>"
            ],
            "image/png": "[encoded data removed]"
          },
          "metadata": {}
        }
      ]
    },
    {
      "cell_type": "code",
      "source": [
        "doc_lengths\n",
        "count = 0 \n",
        "n=100\n",
        "\n",
        "for value in doc_lengths:\n",
        "\n",
        "    if value > n:\n",
        "        count += 1\n",
        "\n",
        "print(\"Number of values greater than\",n,\"are :\", count)\n",
        "\n"
      ],
      "metadata": {
        "colab": {
          "base_uri": "https://localhost:8080/"
        },
        "id": "r5byK4q7i8BV",
        "outputId": "3e7df466-c753-4099-8697-b8a5a576ad62"
      },
      "execution_count": null,
      "outputs": [
        {
          "output_type": "stream",
          "name": "stdout",
          "text": [
            "Number of values greater than 100 are : 10795\n"
          ]
        }
      ]
    },
    {
      "cell_type": "code",
      "source": [
        "np.average(doc_lengths)"
      ],
      "metadata": {
        "colab": {
          "base_uri": "https://localhost:8080/"
        },
        "id": "Tf-ZsYw7iYeF",
        "outputId": "c6a933ec-7620-4ba9-e868-c2b58eb175e7"
      },
      "execution_count": null,
      "outputs": [
        {
          "output_type": "execute_result",
          "data": {
            "text/plain": [
              "212.06696319766024"
            ]
          },
          "metadata": {},
          "execution_count": 35
        }
      ]
    },
    {
      "cell_type": "markdown",
      "source": [
        "## Load GPT Tokenizer"
      ],
      "metadata": {
        "id": "suLtShgoCSpO"
      }
    },
    {
      "cell_type": "code",
      "source": [
        "\n",
        "# Load the GPT tokenizer.\n",
        "tokenizer = GPT2Tokenizer.from_pretrained('gpt2', bos_token='<|startoftext|>', eos_token='<|endoftext|>', pad_token='<|pad|>') #gpt2-medium"
      ],
      "metadata": {
        "colab": {
          "base_uri": "https://localhost:8080/"
        },
        "id": "7A7a8L7OifG_",
        "outputId": "ba6b6d07-4d23-47b2-b925-6db51d98328a"
      },
      "execution_count": null,
      "outputs": [
        {
          "output_type": "stream",
          "name": "stderr",
          "text": [
            "Special tokens have been added in the vocabulary, make sure the associated word embeddings are fine-tuned or trained.\n"
          ]
        }
      ]
    },
    {
      "cell_type": "code",
      "source": [
        "\n",
        "print(\"The max model length is {} for this model, although the actual embedding size for GPT small is 768\".format(tokenizer.model_max_length))\n",
        "print(\"The beginning of sequence token {} token has the id {}\".format(tokenizer.convert_ids_to_tokens(tokenizer.bos_token_id), tokenizer.bos_token_id))\n",
        "print(\"The end of sequence token {} has the id {}\".format(tokenizer.convert_ids_to_tokens(tokenizer.eos_token_id), tokenizer.eos_token_id))\n",
        "print(\"The padding token {} has the id {}\".format(tokenizer.convert_ids_to_tokens(tokenizer.pad_token_id), tokenizer.pad_token_id))"
      ],
      "metadata": {
        "colab": {
          "base_uri": "https://localhost:8080/"
        },
        "outputId": "c1b21ad9-4f1d-4f07-b388-fcf5cc93c231",
        "id": "WgIFMGzv1MQT"
      },
      "execution_count": null,
      "outputs": [
        {
          "output_type": "stream",
          "name": "stdout",
          "text": [
            "The max model length is 1024 for this model, although the actual embedding size for GPT small is 768\n",
            "The beginning of sequence token <|startoftext|> token has the id 50257\n",
            "The end of sequence token <|endoftext|> has the id 50256\n",
            "The padding token <|pad|> has the id 50258\n"
          ]
        }
      ]
    },
    {
      "cell_type": "code",
      "source": [
        "batch_size =8\n",
        "\n"
      ],
      "metadata": {
        "id": "Zcbozmoh1MQU"
      },
      "execution_count": null,
      "outputs": []
    },
    {
      "cell_type": "markdown",
      "source": [
        "## Tokenize dataset"
      ],
      "metadata": {
        "id": "lVNotwZiCmKp"
      }
    },
    {
      "cell_type": "code",
      "source": [
        "class GPT2Dataset(Dataset):\n",
        "\n",
        "  def __init__(self, txt_list, tokenizer, gpt2_type=\"gpt2\", max_length=500):\n",
        "\n",
        "    self.tokenizer = tokenizer\n",
        "    self.input_ids = []\n",
        "    self.attn_masks = []\n",
        "\n",
        "    for txt in txt_list:\n",
        "      \n",
        "\n",
        "      encodings_dict = tokenizer('<|startoftext|>'+ txt + '<|endoftext|>', truncation=True, max_length=max_length, padding=\"max_length\")\n",
        "      # print(encodings_dict)\n",
        "\n",
        "      self.input_ids.append(torch.tensor(encodings_dict['input_ids']))\n",
        "      self.attn_masks.append(torch.tensor(encodings_dict['attention_mask']))\n",
        "    \n",
        "  def __len__(self):\n",
        "    return len(self.input_ids)\n",
        "\n",
        "  def __getitem__(self, idx):\n",
        "    return self.input_ids[idx], self.attn_masks[idx] "
      ],
      "metadata": {
        "id": "HKeKBAf11MQU"
      },
      "execution_count": null,
      "outputs": []
    },
    {
      "cell_type": "code",
      "source": [
        "dataset = GPT2Dataset(bios, tokenizer, max_length=500)\n",
        "\n",
        "# Split into training and validation sets\n",
        "train_size = int(0.9 * len(dataset))\n",
        "val_size = len(dataset) - train_size\n",
        "\n",
        "train_dataset, val_dataset = random_split(dataset, [train_size, val_size])\n",
        "\n",
        "print('{:>5,} training samples'.format(train_size))\n",
        "print('{:>5,} validation samples'.format(val_size))"
      ],
      "metadata": {
        "colab": {
          "base_uri": "https://localhost:8080/"
        },
        "id": "qySeybt81MQV",
        "outputId": "47dae624-7038-4ced-803e-3059a9a65eca"
      },
      "execution_count": null,
      "outputs": [
        {
          "output_type": "stream",
          "name": "stdout",
          "text": [
            "14,770 training samples\n",
            "1,642 validation samples\n"
          ]
        }
      ]
    },
    {
      "cell_type": "code",
      "source": [
        "dataset"
      ],
      "metadata": {
        "colab": {
          "base_uri": "https://localhost:8080/"
        },
        "id": "l_tWj5-sQcNl",
        "outputId": "ea1fd162-e53d-461f-ded1-54374e5a3082"
      },
      "execution_count": null,
      "outputs": [
        {
          "output_type": "execute_result",
          "data": {
            "text/plain": [
              "<__main__.GPT2Dataset at 0x7f3b2553f910>"
            ]
          },
          "metadata": {},
          "execution_count": 74
        }
      ]
    },
    {
      "cell_type": "code",
      "source": [
        "# Create the DataLoaders for our training and validation datasets.\n",
        "# We'll take training samples in random order. \n",
        "train_dataloader = DataLoader(\n",
        "            train_dataset,  # The training samples.\n",
        "            sampler = RandomSampler(train_dataset), # Select batches randomly\n",
        "            batch_size = batch_size # Trains with this batch size.\n",
        "        )\n",
        "\n",
        "# For validation the order doesn't matter, so we'll just read them sequentially.\n",
        "validation_dataloader = DataLoader(\n",
        "            val_dataset, # The validation samples.\n",
        "            sampler = SequentialSampler(val_dataset), # Pull out batches sequentially.\n",
        "            batch_size = batch_size # Evaluate with this batch size.\n",
        "        )"
      ],
      "metadata": {
        "id": "ILdVjpaM1MQW"
      },
      "execution_count": null,
      "outputs": []
    },
    {
      "cell_type": "markdown",
      "source": [
        "## Loading Model"
      ],
      "metadata": {
        "id": "1iJaryxCCtFN"
      }
    },
    {
      "cell_type": "code",
      "source": [
        "configuration = GPT2Config.from_pretrained('gpt2', output_hidden_states=False)\n",
        "\n",
        "\n",
        "# instantiate the model\n",
        "model = GPT2LMHeadModel.from_pretrained(\"gpt2\", config=configuration)\n",
        "\n",
        "# this step is necessary because I've added some tokens (bos_token, etc) to the embeddings\n",
        "# otherwise the tokenizer and model tensors won't match up\n",
        "model.resize_token_embeddings(len(tokenizer))\n",
        "\n",
        "# Tell pytorch to run this model on the GPU.\n",
        "device = torch.device(\"cuda\")\n",
        "model.cuda()\n",
        "\n",
        "# Set the seed value all over the place to make this reproducible.\n",
        "seed_val = 42\n",
        "\n",
        "random.seed(seed_val)\n",
        "np.random.seed(seed_val)\n",
        "torch.manual_seed(seed_val)\n",
        "torch.cuda.manual_seed_all(seed_val)"
      ],
      "metadata": {
        "colab": {
          "base_uri": "https://localhost:8080/",
          "height": 81,
          "referenced_widgets": [
            "fd1353c5e0e34a0e948b76b225bfb0cb",
            "5e7041d8f1e94061a661339b72ddf8bd",
            "0a49467c491f4b48a13a33353dad6689",
            "1c537d98c7194974b1d82202aa5ea9e1",
            "f97c48acddce49a499256a92a4c098a1",
            "12468e7a5dc844a2909906e12ebb35a2",
            "6653ba12834643748fc6a056c35a0227",
            "99423bb1936a4a86b33024a829aa9d9d",
            "41c110f05f3b423692b5a7d92f4a22e7",
            "0eea1c5d22e44ccca1b04696f86450b1",
            "3f4d1ea87867450482b06ddcf5c9f42a",
            "2a24a4413e7847d3be543e1d035b2283",
            "be215b987c924df38250dfe1df82f7ff",
            "19f4e73ffbe845f3971595c80680680f",
            "94dd8736a157422c953b4b61ba66c732",
            "b565ede4c6954e668973c70ae898e445",
            "6056a23bfba0491a9a0c9f80d9752c16",
            "b9804658dbe444c9a2d9cec14eae5ac6",
            "2e72440a7ad6466ab3071831d9082af3",
            "4374d68832774389b1777e8b470267c4",
            "c26ec74ac037413aa6e47b997f8658db",
            "12bc5ba391d0412d9ca306974753075a"
          ]
        },
        "id": "AgJO-ZWT1MQX",
        "outputId": "4df24f02-9d45-4679-b2ef-c2b3a9487014"
      },
      "execution_count": null,
      "outputs": [
        {
          "output_type": "display_data",
          "data": {
            "text/plain": [
              "Downloading pytorch_model.bin:   0%|          | 0.00/548M [00:00<?, ?B/s]"
            ],
            "application/vnd.jupyter.widget-view+json": {
              "version_major": 2,
              "version_minor": 0,
              "model_id": "fd1353c5e0e34a0e948b76b225bfb0cb"
            }
          },
          "metadata": {}
        },
        {
          "output_type": "display_data",
          "data": {
            "text/plain": [
              "Downloading (…)neration_config.json:   0%|          | 0.00/124 [00:00<?, ?B/s]"
            ],
            "application/vnd.jupyter.widget-view+json": {
              "version_major": 2,
              "version_minor": 0,
              "model_id": "2a24a4413e7847d3be543e1d035b2283"
            }
          },
          "metadata": {}
        }
      ]
    },
    {
      "cell_type": "code",
      "source": [
        "# some parameters I cooked up that work reasonably well\n",
        "\n",
        "epochs = 4\n",
        "learning_rate = 5e-4\n",
        "warmup_steps = 1e2\n",
        "epsilon = 1e-8\n",
        "\n",
        "# this produces sample output every 100 steps\n",
        "sample_every = 100"
      ],
      "metadata": {
        "id": "J4K3nN6L1MQX"
      },
      "execution_count": null,
      "outputs": []
    },
    {
      "cell_type": "code",
      "source": [
        "\n",
        "optimizer = AdamW(model.parameters(),\n",
        "                  lr = learning_rate,\n",
        "                  eps = epsilon\n",
        "                )"
      ],
      "metadata": {
        "id": "kuPzRtzH1MQY",
        "colab": {
          "base_uri": "https://localhost:8080/"
        },
        "outputId": "f0548e31-0c89-4b94-b963-ed3c8bce07bb"
      },
      "execution_count": null,
      "outputs": [
        {
          "output_type": "stream",
          "name": "stderr",
          "text": [
            "/usr/local/lib/python3.9/dist-packages/transformers/optimization.py:391: FutureWarning: This implementation of AdamW is deprecated and will be removed in a future version. Use the PyTorch implementation torch.optim.AdamW instead, or set `no_deprecation_warning=True` to disable this warning\n",
            "  warnings.warn(\n"
          ]
        }
      ]
    },
    {
      "cell_type": "code",
      "source": [
        "# Total number of training steps is [number of batches] x [number of epochs]. \n",
        "# (Note that this is not the same as the number of training samples).\n",
        "total_steps = len(train_dataloader) * epochs\n",
        "\n",
        "# Create the learning rate scheduler.\n",
        "# This changes the learning rate as the training loop progresses\n",
        "scheduler = get_linear_schedule_with_warmup(optimizer, \n",
        "                                            num_warmup_steps = warmup_steps, \n",
        "                                            num_training_steps = total_steps)"
      ],
      "metadata": {
        "id": "VlGQ1Pq01MQZ"
      },
      "execution_count": null,
      "outputs": []
    },
    {
      "cell_type": "code",
      "source": [
        "def format_time(elapsed):\n",
        "    return str(datetime.timedelta(seconds=int(round((elapsed)))))"
      ],
      "metadata": {
        "id": "fYTFvq8a1MQZ"
      },
      "execution_count": null,
      "outputs": []
    },
    {
      "cell_type": "markdown",
      "source": [
        "## Training "
      ],
      "metadata": {
        "id": "xyUPPUb8Cw_3"
      }
    },
    {
      "cell_type": "code",
      "source": [
        "total_t0 = time.time()\n",
        "\n",
        "training_stats = []\n",
        "\n",
        "model = model.to(device)\n",
        "\n",
        "for epoch_i in range(0, epochs):\n",
        "  \n",
        "    # ========================================\n",
        "    #               Training\n",
        "    # ========================================\n",
        "\n",
        "    print(\"\")\n",
        "    print('======== Epoch {:} / {:} ========'.format(epoch_i + 1, epochs))\n",
        "    print('Training...')\n",
        "\n",
        "    t0 = time.time()\n",
        "\n",
        "    total_train_loss = 0\n",
        "\n",
        "    model.train()\n",
        "\n",
        "    for step, batch in enumerate(train_dataloader):\n",
        "\n",
        "        b_input_ids = batch[0].to(device)\n",
        "        b_labels = batch[0].to(device)\n",
        "        b_masks = batch[1].to(device)\n",
        "\n",
        "        model.zero_grad()        \n",
        "\n",
        "        outputs = model(  b_input_ids,\n",
        "                          labels=b_labels, \n",
        "                          attention_mask = b_masks,\n",
        "                          token_type_ids=None\n",
        "                        )\n",
        "\n",
        "        loss = outputs[0]  \n",
        "\n",
        "        batch_loss = loss.item()\n",
        "        total_train_loss += batch_loss\n",
        "\n",
        "        # Get sample every x batches.\n",
        "        if step % sample_every == 0 and not step == 0:\n",
        "\n",
        "            elapsed = format_time(time.time() - t0)\n",
        "            print('  Batch {:>5,}  of  {:>5,}. Loss: {:>5,}.   Elapsed: {:}.'.format(step, len(train_dataloader), batch_loss, elapsed))\n",
        "\n",
        "            model.eval()\n",
        "\n",
        "            sample_outputs = model.generate(\n",
        "                                    bos_token_id=random.randint(1,30000),\n",
        "                                    do_sample=True,   \n",
        "                                    top_k=50, \n",
        "                                    max_length = 200,\n",
        "                                    top_p=0.95, \n",
        "                                    num_return_sequences=1\n",
        "                                )\n",
        "            for i, sample_output in enumerate(sample_outputs):\n",
        "                  print(\"{}: {}\".format(i, tokenizer.decode(sample_output, skip_special_tokens=True)))\n",
        "            \n",
        "            model.train()\n",
        "\n",
        "        loss.backward()\n",
        "\n",
        "        optimizer.step()\n",
        "\n",
        "        scheduler.step()\n",
        "\n",
        "    # Calculate the average loss over all of the batches.\n",
        "    avg_train_loss = total_train_loss / len(train_dataloader)       \n",
        "    \n",
        "    # Measure how long this epoch took.\n",
        "    training_time = format_time(time.time() - t0)\n",
        "\n",
        "    print(\"\")\n",
        "    print(\"  Average training loss: {0:.2f}\".format(avg_train_loss))\n",
        "    print(\"  Training epoch took: {:}\".format(training_time))\n",
        "        \n",
        "    # ========================================\n",
        "    #               Validation\n",
        "    # ========================================\n",
        "\n",
        "    print(\"\")\n",
        "    print(\"Running Validation...\")\n",
        "\n",
        "    t0 = time.time()\n",
        "\n",
        "    model.eval()\n",
        "\n",
        "    total_eval_loss = 0\n",
        "    nb_eval_steps = 0\n",
        "\n",
        "    # Evaluate data for one epoch\n",
        "    for batch in validation_dataloader:\n",
        "        \n",
        "        b_input_ids = batch[0].to(device)\n",
        "        b_labels = batch[0].to(device)\n",
        "        b_masks = batch[1].to(device)\n",
        "        \n",
        "        with torch.no_grad():        \n",
        "\n",
        "            outputs  = model(b_input_ids, \n",
        "#                            token_type_ids=None, \n",
        "                             attention_mask = b_masks,\n",
        "                            labels=b_labels)\n",
        "          \n",
        "            loss = outputs[0]  \n",
        "            \n",
        "        batch_loss = loss.item()\n",
        "        total_eval_loss += batch_loss        \n",
        "\n",
        "    avg_val_loss = total_eval_loss / len(validation_dataloader)\n",
        "    \n",
        "    validation_time = format_time(time.time() - t0)    \n",
        "\n",
        "    print(\"  Validation Loss: {0:.2f}\".format(avg_val_loss))\n",
        "    print(\"  Validation took: {:}\".format(validation_time))\n",
        "\n",
        "    # Record all statistics from this epoch.\n",
        "    training_stats.append(\n",
        "        {\n",
        "            'epoch': epoch_i + 1,\n",
        "            'Training Loss': avg_train_loss,\n",
        "            'Valid. Loss': avg_val_loss,\n",
        "            'Training Time': training_time,\n",
        "            'Validation Time': validation_time\n",
        "        }\n",
        "    )\n",
        "\n",
        "print(\"\")\n",
        "print(\"Training complete!\")\n",
        "print(\"Total training took {:} (h:mm:ss)\".format(format_time(time.time()-total_t0)))"
      ],
      "metadata": {
        "colab": {
          "base_uri": "https://localhost:8080/"
        },
        "outputId": "a4bfadd3-e922-4fe8-c83d-9729ac5e6e95",
        "id": "gMlW91Vq1MQa"
      },
      "execution_count": null,
      "outputs": [
        {
          "metadata": {
            "tags": null
          },
          "name": "stdout",
          "output_type": "stream",
          "text": [
            "\n",
            "======== Epoch 1 / 4 ========\n",
            "Training...\n"
          ]
        },
        {
          "metadata": {
            "tags": null
          },
          "name": "stderr",
          "output_type": "stream",
          "text": [
            "The attention mask and the pad token id were not set. As a consequence, you may observe unexpected behavior. Please pass your input's `attention_mask` to obtain reliable results.\n",
            "Setting `pad_token_id` to `eos_token_id`:50256 for open-end generation.\n"
          ]
        },
        {
          "metadata": {
            "tags": null
          },
          "name": "stdout",
          "output_type": "stream",
          "text": [
            "  Batch   100  of  1,847. Loss: 1.0183439254760742.   Elapsed: 0:01:58.\n",
            "0:  bipartisanI am 505 out of 598 patients have been examined in a study that evaluated the health effects of intravenous fluid injection. Most of the cases are from non-small cells. Most of these cases are from healthy cells. Many of these people have severe liver damage or kidney failure. They often develop multiple forms of infections including cirrhosis and lung disease.\n"
          ]
        },
        {
          "metadata": {
            "tags": null
          },
          "name": "stderr",
          "output_type": "stream",
          "text": [
            "The attention mask and the pad token id were not set. As a consequence, you may observe unexpected behavior. Please pass your input's `attention_mask` to obtain reliable results.\n",
            "Setting `pad_token_id` to `eos_token_id`:50256 for open-end generation.\n"
          ]
        },
        {
          "metadata": {
            "tags": null
          },
          "name": "stdout",
          "output_type": "stream",
          "text": [
            "  Batch   200  of  1,847. Loss: 1.1308848857879639.   Elapsed: 0:04:01.\n",
            "0:  increasingThe Human Phenotype Ontology provides the following list of signs and symptoms for Hashimoto-like syndrome. If the information is available the table below includes how often the symptom is seen in people with this condition. You can use the MedlinePlus Medical Dictionary to look up the definitions for these medical terms. Signs and Symptoms Approximate number of patients when available Abnormality of the central nervous system - Autosomal dominant inheritance - Atherosclerosis - Babyspherox - Cleft palate - Hypoplasia - Hypoplasia of the thyroid - Impaired blood flow - Iris or hair - Increased heart rate - Interstitial myopathy - Intestinal polycystic ovary - Low blood sugar - Malabsorption - Osteoporosis - Pesile - Polycystic ovary - Radiopathy - Progressive heart failure - Progressive respiratory failure - Respiratory failure - The Human Phenotype Ontology HPO has collected information on how often a sign or symptom occurs in a\n"
          ]
        },
        {
          "metadata": {
            "tags": null
          },
          "name": "stderr",
          "output_type": "stream",
          "text": [
            "The attention mask and the pad token id were not set. As a consequence, you may observe unexpected behavior. Please pass your input's `attention_mask` to obtain reliable results.\n",
            "Setting `pad_token_id` to `eos_token_id`:50256 for open-end generation.\n"
          ]
        },
        {
          "metadata": {
            "tags": null
          },
          "name": "stdout",
          "output_type": "stream",
          "text": [
            "  Batch   300  of  1,847. Loss: 0.9539980888366699.   Elapsed: 0:06:04.\n",
            "0: dayIn the case of SLS the condition is inherited - A person has an autosomal recessive condition which means both copies of the gene in each cell have mutations. The parents of an individual with a recessive condition each carry one copy of the mutated gene but they typically do not show signs and symptoms of the condition.\n"
          ]
        },
        {
          "metadata": {
            "tags": null
          },
          "name": "stderr",
          "output_type": "stream",
          "text": [
            "The attention mask and the pad token id were not set. As a consequence, you may observe unexpected behavior. Please pass your input's `attention_mask` to obtain reliable results.\n",
            "Setting `pad_token_id` to `eos_token_id`:50256 for open-end generation.\n"
          ]
        },
        {
          "metadata": {
            "tags": null
          },
          "name": "stdout",
          "output_type": "stream",
          "text": [
            "  Batch   400  of  1,847. Loss: 0.524217426776886.   Elapsed: 0:08:05.\n",
            "0:  HangEchidioris syndrome is an inherited disorder involving an increased number of small arteries in the liver. These are cells that control blood flow to the body. Each branch is enlarged and the body can hold too many different amounts of blood. The amount that a person has in each liver is typically divided based on the size of the blockage and the amount of blood circulating in each liver cells. Individuals with Echidioris syndrome can have small coronary arteries in the back of the neck. They can also have high blood flow from the rectum and the abdomen. People with Echidioris syndrome can develop liver damage from too much blood. This type of liver damage can lead to an arrhythmia when blood reaches the bottom of the liver. Individuals who have the disease often have a short life span and need rehabilitation. This condition is inherited in an autosomal dominant pattern which means both copies of the gene in each cell have mutations.\n"
          ]
        },
        {
          "metadata": {
            "tags": null
          },
          "name": "stderr",
          "output_type": "stream",
          "text": [
            "The attention mask and the pad token id were not set. As a consequence, you may observe unexpected behavior. Please pass your input's `attention_mask` to obtain reliable results.\n",
            "Setting `pad_token_id` to `eos_token_id`:50256 for open-end generation.\n"
          ]
        },
        {
          "metadata": {
            "tags": null
          },
          "name": "stdout",
          "output_type": "stream",
          "text": [
            "  Batch   500  of  1,847. Loss: 0.8700181245803833.   Elapsed: 0:10:07.\n",
            "0:  foodsTreatment depends on the individual characteristics of the disorder the person has. Some people can have no symptoms of the disorder. Some people with a type of congenital hyperhidrosis syndrome have no symptoms but they may require corticosteroids for a long time. Most people with a congenital hyperhidrosis syndrome have no symptoms and may need treatment to prevent or delay the onset of symptoms in those with high blood cholesterol levels blood pressure high blood sugar excess fat or a buildup of small plaque-forming fluid in the body. However many people with an acquired familial high blood cholesterol have no history of high blood cholesterol levels at all and are normal bodys natural foods and physical activity.\n"
          ]
        },
        {
          "metadata": {
            "tags": null
          },
          "name": "stderr",
          "output_type": "stream",
          "text": [
            "The attention mask and the pad token id were not set. As a consequence, you may observe unexpected behavior. Please pass your input's `attention_mask` to obtain reliable results.\n",
            "Setting `pad_token_id` to `eos_token_id`:50256 for open-end generation.\n"
          ]
        },
        {
          "metadata": {
            "tags": null
          },
          "name": "stdout",
          "output_type": "stream",
          "text": [
            "  Batch   600  of  1,847. Loss: 0.6528775691986084.   Elapsed: 0:12:09.\n",
            "0:  trailKnee osteochondritis is a condition that affects more than 1 in 4 people worldwide. The disease is characterized by joint cramping or cramping of joint bone as the pain develops more slowly. It is common in children younger than 5 who may be prone to pain and muscle weakness. It is typically diagnosed at early infancy but can occur in older adults. While individuals may develop knee osteochondritis at birth and may begin experiencing pain during the first year of life the condition is usually less severe with the risk being underdiagnosed.\n"
          ]
        },
        {
          "metadata": {
            "tags": null
          },
          "name": "stderr",
          "output_type": "stream",
          "text": [
            "The attention mask and the pad token id were not set. As a consequence, you may observe unexpected behavior. Please pass your input's `attention_mask` to obtain reliable results.\n",
            "Setting `pad_token_id` to `eos_token_id`:50256 for open-end generation.\n"
          ]
        },
        {
          "metadata": {
            "tags": null
          },
          "name": "stdout",
          "output_type": "stream",
          "text": [
            "  Batch   700  of  1,847. Loss: 1.0317977666854858.   Elapsed: 0:14:11.\n",
            "0: intendWhat are the signs and symptoms of Cushing syndrome A type of congenital hypertension is a very rare type of hypertension that affects the blood vessels in the arms and legs. It can be caused by an abnormal or missing blood supply to the heart. Cushing syndrome is most common in people with extremely high levels of hypertension who experience frequent seizures or sudden heart arrhythmia. Other factors that could increase blood pressure in the arms and legs include a shortage of oxygen in the body or abnormally high blood pressure. Although the exact cause of Cushing syndrome is not known the exact underlying causes of the condition may also be complex. Researchers have proposed at least three possible family conditions as a possible risk factor for the condition. A mutation in the SCG1 gene associated with Cushing syndrome results in an unusually slow loss of normal blood supply that is accompanied by a sudden decrease in the amount of oxygen in the body. Other factors likely to increase blood pressure in the arms and legs include a shortage of oxygen\n"
          ]
        },
        {
          "metadata": {
            "tags": null
          },
          "name": "stderr",
          "output_type": "stream",
          "text": [
            "The attention mask and the pad token id were not set. As a consequence, you may observe unexpected behavior. Please pass your input's `attention_mask` to obtain reliable results.\n",
            "Setting `pad_token_id` to `eos_token_id`:50256 for open-end generation.\n"
          ]
        },
        {
          "metadata": {
            "tags": null
          },
          "name": "stdout",
          "output_type": "stream",
          "text": [
            "  Batch   800  of  1,847. Loss: 1.212421178817749.   Elapsed: 0:16:12.\n",
            "0:  surroundArancy is a group of disorders that impair the brain and spinal cord. Arancy has been diagnosed in some individuals and is associated with other features such as sensorineural hearing loss seizures intellectual disability intellectual disability neuroplasticity speech impairments and multiple intellectual disorders such as Down syndrome and ADHD. In children who are at least four years old and are receiving supportive services in intensive care treatment and in treatment for developmental delays learning disabilities attention deficit hyperactivity disorder intellectual disability developmental delay and hearing loss intellectual disability are also affected. In addition to the developmental delay intellectual disability intellectual disability intellectual disability can include difficulties with thinking developmental delays learning disorders attention deficit hyperactivity disorder and mental health problems. Arancy may lead to severe intellectual disability intellectual disability dementia intellectual disability neuroplasticity progressive motor weakness mental retardation personality disorder intellectual disability intellectual disability spastic paraplegia and intellectual disability ataxia. Other conditions that also occur in arancy include neurological disorders such as neuropsiatry which includes memory\n"
          ]
        },
        {
          "metadata": {
            "tags": null
          },
          "name": "stderr",
          "output_type": "stream",
          "text": [
            "The attention mask and the pad token id were not set. As a consequence, you may observe unexpected behavior. Please pass your input's `attention_mask` to obtain reliable results.\n",
            "Setting `pad_token_id` to `eos_token_id`:50256 for open-end generation.\n"
          ]
        },
        {
          "metadata": {
            "tags": null
          },
          "name": "stdout",
          "output_type": "stream",
          "text": [
            "  Batch   900  of  1,847. Loss: 0.6647221446037292.   Elapsed: 0:18:15.\n",
            "0:  reflexWhat are the signs and symptoms of Severe congenital adrenal hypogammaglobulinemia The Human Phenotype Ontology provides the following list of signs and symptoms for Severe congenital adrenal hypogammaglobulinemia. If the information is available the table below includes how often the symptom is seen in people with this condition. You can use the MedlinePlus Medical Dictionary to look up the definitions for these medical terms. Signs and Symptoms Approximate number of patients when available AplasiaHypoplasia of the external ureters 90 Abnormality of the palate 50 Anterior fontanel 50 Cataract 50 Clinodactyly of the 5th finger 50 Cleft palate 50 Deeply set nasal bridge 50 Erector erythema 50 Hypertelorism 50 Intellectual disability 50 Nystagmus 50 Prominent occiput 50 Prominent supraorbital ridges 50 Short philtrum 50 Short long philtr\n"
          ]
        },
        {
          "metadata": {
            "tags": null
          },
          "name": "stderr",
          "output_type": "stream",
          "text": [
            "The attention mask and the pad token id were not set. As a consequence, you may observe unexpected behavior. Please pass your input's `attention_mask` to obtain reliable results.\n",
            "Setting `pad_token_id` to `eos_token_id`:50256 for open-end generation.\n"
          ]
        },
        {
          "metadata": {
            "tags": null
          },
          "name": "stdout",
          "output_type": "stream",
          "text": [
            "  Batch 1,000  of  1,847. Loss: 0.9304545521736145.   Elapsed: 0:20:17.\n",
            "0:  displayMost cases result from random events that occur in the environment that are not part of the normal course of the disease. For example there are three types of inheritance disorders called autosomal dominant inheritance disorders called dominant inheritance disorders. The following types of inheritance are typically inherited in an autosomal dominant or autosomal recessive manner. People with this condition are usually the first to inherit an altered copy of the gene but do not inherit the mutated gene. People with this condition can pass on the altered gene to their children but do not have symptoms until they reach their 50th decade of life. These parents may be more likely to be affected than people with the autosomal recessive condition because they are carriers. Some people with this condition are carriers of a deleted copy of the gene but do not show signs and symptoms of the condition. However the amount of genetic material in the body can increase with age and the amount of functional genetic material in the body can increase with age. Some children with a autosomal recessive\n"
          ]
        },
        {
          "metadata": {
            "tags": null
          },
          "name": "stderr",
          "output_type": "stream",
          "text": [
            "The attention mask and the pad token id were not set. As a consequence, you may observe unexpected behavior. Please pass your input's `attention_mask` to obtain reliable results.\n",
            "Setting `pad_token_id` to `eos_token_id`:50256 for open-end generation.\n"
          ]
        },
        {
          "metadata": {
            "tags": null
          },
          "name": "stdout",
          "output_type": "stream",
          "text": [
            "  Batch 1,100  of  1,847. Loss: 0.6856081485748291.   Elapsed: 0:22:19.\n",
            "0:  pastorNostalgia is a type of neurasthenia that can include numbness or weakness in the arms arm andor leg muscles the nerves that transmit pain to the muscles of the arm and leg muscles the nerves that control eye movement and sensory processing. Some people with this condition have a condition called retinitis pigmentosa which also called retinitis pigmentosa with an unknown cause. In most individuals with this disorder retinitis pigmentosa develops throughout childhood including the first few months of life and is present in a small number of people throughout childhood. However as the condition progresses people will develop severe symptoms of retinitis pigmentosa without the signs and symptoms of the condition and the condition is not always controlled by specific treatments. The goal of the following treatments is to treat retinitis pigmentosa with proper treatment and management of symptoms. This includes avoiding tobacco cigarettes alcohol and drugs that cause dizziness and an increased sensitivity to light photophobia. Treatment for retinitis pigmentosa with prednisone\n"
          ]
        },
        {
          "metadata": {
            "tags": null
          },
          "name": "stderr",
          "output_type": "stream",
          "text": [
            "The attention mask and the pad token id were not set. As a consequence, you may observe unexpected behavior. Please pass your input's `attention_mask` to obtain reliable results.\n",
            "Setting `pad_token_id` to `eos_token_id`:50256 for open-end generation.\n"
          ]
        },
        {
          "metadata": {
            "tags": null
          },
          "name": "stdout",
          "output_type": "stream",
          "text": [
            "  Batch 1,200  of  1,847. Loss: 0.8400219678878784.   Elapsed: 0:24:21.\n",
            "0:  illicitIn most cases a man carries two or more miscarriages because the uterus is too large or because a woman miscarries. Many women who have an infertile pregnancy also carry one or more miscarriages because the eggs or sperm are near the end of their cell division. These pregnancies occur in a person is lifetime as compared one to five pregnancies an infertile pregnancy. Some of these pregnancies result from an abnormal pregnancy. For example a man may be infertile as a result of having an enlarged testis which normally allows for sperm to enter the testes instead of from the uterus. In a few pregnancies an abnormal pregnancy occurs but the fertilized egg or sperm does not mature and fertilize normally. Usually an enlarged testis enlarges a man does not. Sometimes a uterus has normal vaginal bleeding and sometimes it does not. During a pregnancy it is important to prevent an abnormal pregnancy. To avoid these problems and prevent an enlarged testis a woman should have an ultrasound. Because a woman can\n"
          ]
        },
        {
          "metadata": {
            "tags": null
          },
          "name": "stderr",
          "output_type": "stream",
          "text": [
            "The attention mask and the pad token id were not set. As a consequence, you may observe unexpected behavior. Please pass your input's `attention_mask` to obtain reliable results.\n",
            "Setting `pad_token_id` to `eos_token_id`:50256 for open-end generation.\n"
          ]
        },
        {
          "metadata": {
            "tags": null
          },
          "name": "stdout",
          "output_type": "stream",
          "text": [
            "  Batch 1,300  of  1,847. Loss: 0.3886554539203644.   Elapsed: 0:26:24.\n",
            "0:  LiberationWhat causes hereditary spastic paraparesis The cause of hereditary spastic paraparesis is unknown. It is likely that the protein produced from a single spastic protein in the brain leads to the specific symptoms seen in hereditary spastic paraparesis. The function of the spastic protein is thought to be critical in the early development of children with a variety of neurological symptoms such as poor concentration or poor motor skills dysarthria. It is unclear why spastic paraparesis may be acquired during childhood and that the proteins produced from the genes in the spastic protein family are present in the brain is cells throughout the developing embryo. Spastic paraparesis is typically not inherited but is passed from parent to child through an mtDNA mutation. About 80 percent of hereditary spastic paraparesis is inherited in an autosomal recessive pattern.\n"
          ]
        },
        {
          "metadata": {
            "tags": null
          },
          "name": "stderr",
          "output_type": "stream",
          "text": [
            "The attention mask and the pad token id were not set. As a consequence, you may observe unexpected behavior. Please pass your input's `attention_mask` to obtain reliable results.\n",
            "Setting `pad_token_id` to `eos_token_id`:50256 for open-end generation.\n"
          ]
        },
        {
          "metadata": {
            "tags": null
          },
          "name": "stdout",
          "output_type": "stream",
          "text": [
            "  Batch 1,400  of  1,847. Loss: 0.9477224349975586.   Elapsed: 0:28:26.\n",
            "0:  NamDegenerative pulmonary disease DVD typically occurs in people between the ages of 40 and 85. The main symptom of DVD is a buildup of fluid in the lungs. The fluid in the lungs is called the pulmonary mucosa. The mucosa has two main components called the tropiolentrin and the mucosa-endotheliomatous. Within the pulmonary mucosa there are three separate mucoscoles - Tropiolentrin mucosa which contains three mucoscoles and Tropiolentrin mucosa which contains two mucoscoles and Tropiolentrin mucosa which contains one and the third. The mucosa is thick and clear especially on the palms of the hands and feet. People usually develop signs and symptoms of DVD around age 45. Some people develop problems starting or worsening of their heart attacks. The blood around the heart may swell and burst causing signs and symptoms of DVD. Because these blood vessels leak blood oxygenated blood supply from the\n"
          ]
        },
        {
          "metadata": {
            "tags": null
          },
          "name": "stderr",
          "output_type": "stream",
          "text": [
            "The attention mask and the pad token id were not set. As a consequence, you may observe unexpected behavior. Please pass your input's `attention_mask` to obtain reliable results.\n",
            "Setting `pad_token_id` to `eos_token_id`:50256 for open-end generation.\n"
          ]
        },
        {
          "metadata": {
            "tags": null
          },
          "name": "stdout",
          "output_type": "stream",
          "text": [
            "  Batch 1,500  of  1,847. Loss: 0.8993651866912842.   Elapsed: 0:30:28.\n",
            "0: IONThese resources address the diagnosis or management of myocardiomyopathy - Genetic Testing Registry Myocardiomyopathy of the pulmonary artery These resources from MedlinePlus offer information about the diagnosis and management of various health conditions - Diagnostic Tests - Drug Therapy - Surgery and Rehabilitation - Genetic Counseling - Palliative Care\n"
          ]
        },
        {
          "metadata": {
            "tags": null
          },
          "name": "stderr",
          "output_type": "stream",
          "text": [
            "The attention mask and the pad token id were not set. As a consequence, you may observe unexpected behavior. Please pass your input's `attention_mask` to obtain reliable results.\n",
            "Setting `pad_token_id` to `eos_token_id`:50256 for open-end generation.\n"
          ]
        },
        {
          "metadata": {
            "tags": null
          },
          "name": "stdout",
          "output_type": "stream",
          "text": [
            "  Batch 1,600  of  1,847. Loss: 0.5257254242897034.   Elapsed: 0:32:29.\n",
            "0:  glimpseTreatment depends on the size of the tumor and how long it has been. If you have a new tumor it can take several months to several years to recur. Treatment for other types of leukemia is generally slow and effective. However if you have cancer as you get older and it has spread to other parts of the body it may not respond as expected. The same can happen to other types of leukemia. Treatment can help relieve some of these symptoms but it is most effective if it is performed alone. People who are more sensitive to radiation therapy are among the most likely to develop leukemia. The only real way to stop cancer from recurring is to get better treatment. Patients who are very sensitive to radiation therapy may not want to go back to work until the cancer has recurred.\n"
          ]
        },
        {
          "metadata": {
            "tags": null
          },
          "name": "stderr",
          "output_type": "stream",
          "text": [
            "The attention mask and the pad token id were not set. As a consequence, you may observe unexpected behavior. Please pass your input's `attention_mask` to obtain reliable results.\n",
            "Setting `pad_token_id` to `eos_token_id`:50256 for open-end generation.\n"
          ]
        },
        {
          "metadata": {
            "tags": null
          },
          "name": "stdout",
          "output_type": "stream",
          "text": [
            "  Batch 1,700  of  1,847. Loss: 0.5917767882347107.   Elapsed: 0:34:30.\n",
            "0:  LaureMutations in the FGFR3 gene have been identified in approximately 85 percent of individuals with hemochromatosis. These mutations significantly reduce the amount of alpha-synuclein nucleic acid ATP a component of DNA. When a mutation in the FGFR3 gene is found it reduces the amount of alpha-synuclein nucleic acid ATP a component of DNA. When a mutation in the FGFR3 gene is found it reduces the amount of an enzyme called guanine kinase II. The enzyme normally performs this job in the cell. When enzyme deficiency occurs individuals with hemochromatosis begin to have problems with their function. About half of these individuals may have problems with their vision ataxia hypotonia peripheral neuropathy muscle weakness muscle weakness or spasticity. The remaining 5 to 10 percent have complete vision loss in both eyes. The loss of visual acuity causes difficulty with walking and walking ataxia and spasticity. Some individuals with hemochromat\n"
          ]
        },
        {
          "metadata": {
            "tags": null
          },
          "name": "stderr",
          "output_type": "stream",
          "text": [
            "The attention mask and the pad token id were not set. As a consequence, you may observe unexpected behavior. Please pass your input's `attention_mask` to obtain reliable results.\n",
            "Setting `pad_token_id` to `eos_token_id`:50256 for open-end generation.\n"
          ]
        },
        {
          "metadata": {
            "tags": null
          },
          "name": "stdout",
          "output_type": "stream",
          "text": [
            "  Batch 1,800  of  1,847. Loss: 0.8464031219482422.   Elapsed: 0:36:33.\n",
            "0: ismThe exact prevalence of the non-inherited type of NINDS is unknown. NINDS type 1 is the rarest subtype of the disorder.\n",
            "\n",
            "  Average training loss: 1.07\n",
            "  Training epoch took: 0:37:28\n",
            "\n",
            "Running Validation...\n",
            "  Validation Loss: 0.76\n",
            "  Validation took: 0:01:19\n",
            "\n",
            "======== Epoch 2 / 4 ========\n",
            "Training...\n"
          ]
        },
        {
          "metadata": {
            "tags": null
          },
          "name": "stderr",
          "output_type": "stream",
          "text": [
            "The attention mask and the pad token id were not set. As a consequence, you may observe unexpected behavior. Please pass your input's `attention_mask` to obtain reliable results.\n",
            "Setting `pad_token_id` to `eos_token_id`:50256 for open-end generation.\n"
          ]
        },
        {
          "metadata": {
            "tags": null
          },
          "name": "stdout",
          "output_type": "stream",
          "text": [
            "  Batch   100  of  1,847. Loss: 0.4296884834766388.   Elapsed: 0:02:00.\n",
            "0: ounTumor necrosis factor necrosis factor deficiency is caused by mutations in one of four genes that are located on the long q arm of the q arm of the long Q gene. The genes that provide instructions for making proteins involved in bone growth and reproduction are the HT1B and HT2A genes. The HT1B gene provides instructions for making a protein called heparan sulfate. HT2A gene provides instructions for making an enzyme called alin. Mutations in the HT1B gene cause this enzyme to function as it is not normally functioning. The HT2A gene provides instructions for making a protein called heparan sulfate. Mutations in the HT1B gene disrupt the normal function of heparan sulfate causing it to be unable to provide enough alsin. The heparan sulfate protein is also unable to perform its usual function while the body is growing.\n"
          ]
        },
        {
          "metadata": {
            "tags": null
          },
          "name": "stderr",
          "output_type": "stream",
          "text": [
            "The attention mask and the pad token id were not set. As a consequence, you may observe unexpected behavior. Please pass your input's `attention_mask` to obtain reliable results.\n",
            "Setting `pad_token_id` to `eos_token_id`:50256 for open-end generation.\n"
          ]
        },
        {
          "metadata": {
            "tags": null
          },
          "name": "stdout",
          "output_type": "stream",
          "text": [
            "  Batch   200  of  1,847. Loss: 0.4880516529083252.   Elapsed: 0:04:02.\n",
            "0:  electionWhat are the signs and symptoms of X-linked intellectual disability Syndactyly The Human Phenotype Ontology provides the following list of signs and symptoms for X-linked intellectual disability Syndactyly. If the information is available the table below includes how often the symptom is seen in people with this condition. You can use the MedlinePlus Medical Dictionary to look up the definitions for these medical terms. Signs and Symptoms Approximate number of patients when available Autosomal recessive inheritance - Axial foot drop - Dural gait - Distal gait - Episodic tetany - Flexion contracture - Hypertrophy - Intellectual disability - Lepto-oliosis - Leptomyopathy - Macrotia - Myoclonus - Posteriorly rotated ears - Proximal placement of the toes - Scoliosis - Short stature - Spina bifida occulta - Slow progression - The Human Phenotype Ontology HPO has collected information on how often\n"
          ]
        },
        {
          "metadata": {
            "tags": null
          },
          "name": "stderr",
          "output_type": "stream",
          "text": [
            "The attention mask and the pad token id were not set. As a consequence, you may observe unexpected behavior. Please pass your input's `attention_mask` to obtain reliable results.\n",
            "Setting `pad_token_id` to `eos_token_id`:50256 for open-end generation.\n"
          ]
        },
        {
          "metadata": {
            "tags": null
          },
          "name": "stdout",
          "output_type": "stream",
          "text": [
            "  Batch   300  of  1,847. Loss: 0.5858370661735535.   Elapsed: 0:06:04.\n",
            "0:  crazyNew types of treatment are being tested in clinical trials. This summary section describes treatments that are being studied in clinical trials. It may not mention every new treatment being studied. Information about clinical trials is available from the NCI website. High-dose chemotherapy with stem cell transplant High doses of chemotherapy with stem cell transplant are given to help kill cancer cells and stem cells that have spread within the blood. This type of treatment is also called cryoprecipitate chemotherapy and is being studied as a treatment for chronic lymphocytic leukemia.\n"
          ]
        },
        {
          "metadata": {
            "tags": null
          },
          "name": "stderr",
          "output_type": "stream",
          "text": [
            "The attention mask and the pad token id were not set. As a consequence, you may observe unexpected behavior. Please pass your input's `attention_mask` to obtain reliable results.\n",
            "Setting `pad_token_id` to `eos_token_id`:50256 for open-end generation.\n"
          ]
        },
        {
          "metadata": {
            "tags": null
          },
          "name": "stdout",
          "output_type": "stream",
          "text": [
            "  Batch   400  of  1,847. Loss: 0.3919442892074585.   Elapsed: 0:08:05.\n",
            "0:  benchWhat are the signs and symptoms of Charcot-Marie-Tooth disease type 2 The Human Phenotype Ontology provides the following list of signs and symptoms for Charcot-Marie-Tooth disease type 2. If the information is available the table below includes how often the symptom is seen in people with this condition. You can use the MedlinePlus Medical Dictionary to look up the definitions for these medical terms. Signs and Symptoms Approximate number of patients when available Acanthocytosis nigricans 90 Cataract 90 Congenital cataract 90 Decreased antibody level in blood 50 Hernia of the abdominal wall 50 Increased antibody level in blood 50 Natal tooth 50 Myoclonic seizures 50 Polycystic kidney dysplasia 50 Pulmonary hypertension 50 Recurrent respiratory infections 50 Short stature 50 Strabismus 50 Abnormality of calvarial morphology - Autosomal recessive inheritance - Decreased antibody level in blood - Delayed skeletal maturation - Dysarth\n"
          ]
        },
        {
          "metadata": {
            "tags": null
          },
          "name": "stderr",
          "output_type": "stream",
          "text": [
            "The attention mask and the pad token id were not set. As a consequence, you may observe unexpected behavior. Please pass your input's `attention_mask` to obtain reliable results.\n",
            "Setting `pad_token_id` to `eos_token_id`:50256 for open-end generation.\n"
          ]
        },
        {
          "metadata": {
            "tags": null
          },
          "name": "stdout",
          "output_type": "stream",
          "text": [
            "  Batch   500  of  1,847. Loss: 0.49215319752693176.   Elapsed: 0:10:07.\n",
            "0:  incorporatedThis condition is inherited in an autosomal recessive pattern which means both copies of the gene in each cell have mutations. The parents of an individual with an autosomal recessive condition each carry one copy of the mutated gene but they typically do not show signs and symptoms of the condition.\n"
          ]
        },
        {
          "metadata": {
            "tags": null
          },
          "name": "stderr",
          "output_type": "stream",
          "text": [
            "The attention mask and the pad token id were not set. As a consequence, you may observe unexpected behavior. Please pass your input's `attention_mask` to obtain reliable results.\n",
            "Setting `pad_token_id` to `eos_token_id`:50256 for open-end generation.\n"
          ]
        },
        {
          "metadata": {
            "tags": null
          },
          "name": "stdout",
          "output_type": "stream",
          "text": [
            "  Batch   600  of  1,847. Loss: 0.7720563411712646.   Elapsed: 0:12:07.\n",
            "0: PeterThere is no cure for spondyloepimetaphyseal dysplasia. Treatment depends on the cause of the disorder and the size of the tumor. Surgery may be necessary for some tumors. Surgery may also correct other problems that appear to be related to spondyloepimetaphyseal dysplasia such as bone abnormalities.\n"
          ]
        },
        {
          "metadata": {
            "tags": null
          },
          "name": "stderr",
          "output_type": "stream",
          "text": [
            "The attention mask and the pad token id were not set. As a consequence, you may observe unexpected behavior. Please pass your input's `attention_mask` to obtain reliable results.\n",
            "Setting `pad_token_id` to `eos_token_id`:50256 for open-end generation.\n"
          ]
        },
        {
          "metadata": {
            "tags": null
          },
          "name": "stdout",
          "output_type": "stream",
          "text": [
            "  Batch   700  of  1,847. Loss: 0.6039231419563293.   Elapsed: 0:14:07.\n",
            "0: uringHow is fibroids calcification and fibrosarcoma diagnosed A diagnosis of fibroids calcification and fibrosarcoma may include multiple endocrine neoplasia thyroid nodular cancer cancer subcutaneous fibroids and some tumors that have calcifications or fibrosarcoma. Treatment generally consists of surgery to remove the endocrine neoplasia and a wide range of hormone therapy to reduce the swelling andor fatigue.\n"
          ]
        },
        {
          "metadata": {
            "tags": null
          },
          "name": "stderr",
          "output_type": "stream",
          "text": [
            "The attention mask and the pad token id were not set. As a consequence, you may observe unexpected behavior. Please pass your input's `attention_mask` to obtain reliable results.\n",
            "Setting `pad_token_id` to `eos_token_id`:50256 for open-end generation.\n"
          ]
        },
        {
          "metadata": {
            "tags": null
          },
          "name": "stdout",
          "output_type": "stream",
          "text": [
            "  Batch   800  of  1,847. Loss: 1.0705883502960205.   Elapsed: 0:16:07.\n",
            "0:  reproductiveX-linked juvenile hypertrichosis XLS is a neurological disorder that primarily affects the nervous system. Affected children with XLS usually have involuntary muscle jerks twitches or tics in their limbs that cause them to become unresponsive to stimuli such as pain tics or noise. The signs and symptoms of XLS vary widely among affected individuals and the extent of this disorder is not known. Children with XLS typically learn to recognize and respond to other people in various ways. Some affected people may be more physically active than other children. Intelligence is normal among males but this group also tends to be more mobile than females and more responsive to stimuli. Developmental problems may also be more difficult to treat. Some affected children experience involuntary jerking movements on their feet or wrists. These movements may be triggered by other activities including biting scratching chewing eating or swallowing chewing noises or by other things. Other signs and symptoms may include joint deformities and weakness of certain joints and nerves. XLS usually develops\n"
          ]
        },
        {
          "metadata": {
            "tags": null
          },
          "name": "stderr",
          "output_type": "stream",
          "text": [
            "The attention mask and the pad token id were not set. As a consequence, you may observe unexpected behavior. Please pass your input's `attention_mask` to obtain reliable results.\n",
            "Setting `pad_token_id` to `eos_token_id`:50256 for open-end generation.\n"
          ]
        },
        {
          "metadata": {
            "tags": null
          },
          "name": "stdout",
          "output_type": "stream",
          "text": [
            "  Batch   900  of  1,847. Loss: 0.5194123387336731.   Elapsed: 0:18:09.\n",
            "0:  zoneWhat are the signs and symptoms of Hereditary hepatitis 14 The Human Phenotype Ontology provides the following list of signs and symptoms for Hereditary hepatitis 14. If the information is available the table below includes how often the symptom is seen in people with this condition. You can use the MedlinePlus Medical Dictionary to look up the definitions for these medical terms. Signs and Symptoms Approximate number of patients when available Abnormal pyramidal signs - Abnormal pyramidal signs - Acrocyanosis - Autosomal recessive inheritance - Bacterial hepatitis - Bacterial cystic fibrosis - Cardiomyopathy - Hemolytic anemia - Hepatomegaly - Hepatomegaly - Hyperbilirubinemia - Increased red cell production - Neutropenia - Multiple lipomas - Pancytopenia - Recurrent hepatic hepatic disease - Recurrent hepatomegaly - Recurrent liver failure - Recurrent liver failure - Recurrent inflammation of\n"
          ]
        },
        {
          "metadata": {
            "tags": null
          },
          "name": "stderr",
          "output_type": "stream",
          "text": [
            "The attention mask and the pad token id were not set. As a consequence, you may observe unexpected behavior. Please pass your input's `attention_mask` to obtain reliable results.\n",
            "Setting `pad_token_id` to `eos_token_id`:50256 for open-end generation.\n"
          ]
        },
        {
          "metadata": {
            "tags": null
          },
          "name": "stdout",
          "output_type": "stream",
          "text": [
            "  Batch 1,000  of  1,847. Loss: 0.9309698939323425.   Elapsed: 0:20:11.\n",
            "0:  commitsThese resources address the diagnosis or management of hypophosphatemia congenital infantile with breathing problems - Genetic Testing Registry Hypophosphatemia congenital - National Heart Lung and Blood Institute Hypophosphatemic Congenital - United Mitochondrial Disease Foundation Hypophosphatemic - University of Chicago College of Medical Sciences Hypophosphatemic Congenital These resources from MedlinePlus offer information about the diagnosis and management of various health conditions - Diagnostic Tests - Drug Therapy - Surgery and Rehabilitation - Genetic Counseling - Palliative Care\n"
          ]
        },
        {
          "metadata": {
            "tags": null
          },
          "name": "stderr",
          "output_type": "stream",
          "text": [
            "The attention mask and the pad token id were not set. As a consequence, you may observe unexpected behavior. Please pass your input's `attention_mask` to obtain reliable results.\n",
            "Setting `pad_token_id` to `eos_token_id`:50256 for open-end generation.\n"
          ]
        },
        {
          "metadata": {
            "tags": null
          },
          "name": "stdout",
          "output_type": "stream",
          "text": [
            "  Batch 1,100  of  1,847. Loss: 0.9225995540618896.   Elapsed: 0:22:11.\n",
            "0:  ironyWhat causes Kleefstra syndrome Kleefstra syndrome is caused by mutations in the WNT gene. The WNT gene provides instructions for making a protein called WNT-1. This protein acts as a receptor for the X chromosome which is the chromosome in which cells develop. It is important for normal development because it regulates the activity of genes that determine how and when genes are active in cells. WNT-1 attaches binds to other genes involved in the formation of egg and sperm cells. These genes have specific functions in embryonic development but WNT-1 is not needed for normal sperm growth and development. In some cases however it is not needed for the sperm cells to form egg and egg cell fragments. In some cases when the WNT gene is mutated it is unclear how the resulting protein damages genes involved in embryonic development.\n"
          ]
        },
        {
          "metadata": {
            "tags": null
          },
          "name": "stderr",
          "output_type": "stream",
          "text": [
            "The attention mask and the pad token id were not set. As a consequence, you may observe unexpected behavior. Please pass your input's `attention_mask` to obtain reliable results.\n",
            "Setting `pad_token_id` to `eos_token_id`:50256 for open-end generation.\n"
          ]
        },
        {
          "metadata": {
            "tags": null
          },
          "name": "stdout",
          "output_type": "stream",
          "text": [
            "  Batch 1,200  of  1,847. Loss: 0.599658727645874.   Elapsed: 0:24:12.\n",
            "0:  SahSummary  My personal and professional history can identify many risk factors for prostate cancer. Most risk factors include age smoking being white male or being exposed to certain chemicals. People who think they may be at risk also may think about certain lifestyle changes. These lifestyle changes include taking a long lifestyle such as being overweight or very inactive including exercising every day. Avoiding prescription and over-the-counter medicines or vitamins may also play a role in risk. These medicines are used to treat cancer but they do not prevent prostate cancer. The most important risk factor for prostate cancer is the presence of prolactin. Prolactin acts like natural prolactin. A type of prolactin is found in lupus and acantholytic acid. It is usually detected at the time of the diagnosis. Prolactin increases the level of testosterone in the bloodstream but not in the blood. It can also affect levels of a hormone called testosterone receptor alpha. The level of testosterone in the blood ranges from 50\n"
          ]
        },
        {
          "metadata": {
            "tags": null
          },
          "name": "stderr",
          "output_type": "stream",
          "text": [
            "The attention mask and the pad token id were not set. As a consequence, you may observe unexpected behavior. Please pass your input's `attention_mask` to obtain reliable results.\n",
            "Setting `pad_token_id` to `eos_token_id`:50256 for open-end generation.\n"
          ]
        },
        {
          "metadata": {
            "tags": null
          },
          "name": "stdout",
          "output_type": "stream",
          "text": [
            "  Batch 1,300  of  1,847. Loss: 0.5678932070732117.   Elapsed: 0:26:13.\n",
            "0:  BryanHow might familial myofibrillar cysts be treated Treatment is symptomatic. Supportive care is necessary by local specialists who work with the patient. People with familial myofibrillar cysts often need a general practitioner and an experienced pediatrician to help with the specific problems of the condition.\n"
          ]
        },
        {
          "metadata": {
            "tags": null
          },
          "name": "stderr",
          "output_type": "stream",
          "text": [
            "The attention mask and the pad token id were not set. As a consequence, you may observe unexpected behavior. Please pass your input's `attention_mask` to obtain reliable results.\n",
            "Setting `pad_token_id` to `eos_token_id`:50256 for open-end generation.\n"
          ]
        },
        {
          "metadata": {
            "tags": null
          },
          "name": "stdout",
          "output_type": "stream",
          "text": [
            "  Batch 1,400  of  1,847. Loss: 0.5370561480522156.   Elapsed: 0:28:13.\n",
            "0:  spiritsThese resources address the diagnosis or management of primary hypoxanthosis nigricans - Gene Review Gene Review Primary Hypoxanthosis Nigricans - Genetic Testing Registry Primary hypoxanthosis nigricans - MedlinePlus Encyclopedia Prolonged-Hepatic Serum Deficiency These resources from MedlinePlus offer information about the diagnosis and management of various health conditions - Diagnostic Tests - Drug Therapy - Surgery and Rehabilitation - Genetic Counseling - Palliative Care\n"
          ]
        },
        {
          "metadata": {
            "tags": null
          },
          "name": "stderr",
          "output_type": "stream",
          "text": [
            "The attention mask and the pad token id were not set. As a consequence, you may observe unexpected behavior. Please pass your input's `attention_mask` to obtain reliable results.\n",
            "Setting `pad_token_id` to `eos_token_id`:50256 for open-end generation.\n"
          ]
        },
        {
          "metadata": {
            "tags": null
          },
          "name": "stdout",
          "output_type": "stream",
          "text": [
            "  Batch 1,500  of  1,847. Loss: 0.7386237382888794.   Elapsed: 0:30:13.\n",
            "0:  seesHow might multiple lipomas be treated There is no specific treatment for lipomas that require treatment. Medications used to treat lipomas may include nonsteroidal anti-inflammatory drugs NSAIDs and sometimes laser phototherapy. Top of page Surgery There may be the option of surgery to remove the lipomas or remove some of their tissues. Surgery typically involves immobilizing the tissue and sometimes removing a piece from the lip for another cosmetic reason. If the lipoma cannot be removed or the tumor cannot be cured removal of the whole lip is usually necessary. Radiation Therapy Radiation therapy is the most common treatment for lipomas. Patients may want to avoid contact with or close to radiation therapy for signs of advanced cancer. Because lipomas can be resistant to radiation therapy they cannot grow and spread and the tumors can stay there for decades.\n"
          ]
        },
        {
          "metadata": {
            "tags": null
          },
          "name": "stderr",
          "output_type": "stream",
          "text": [
            "The attention mask and the pad token id were not set. As a consequence, you may observe unexpected behavior. Please pass your input's `attention_mask` to obtain reliable results.\n",
            "Setting `pad_token_id` to `eos_token_id`:50256 for open-end generation.\n"
          ]
        },
        {
          "metadata": {
            "tags": null
          },
          "name": "stdout",
          "output_type": "stream",
          "text": [
            "  Batch 1,600  of  1,847. Loss: 0.7732185125350952.   Elapsed: 0:32:14.\n",
            "0:  hungryMyasthenia gravis is a disorder of immune system function which occurs if the immune system recognizes the body is own proteins from outside the body is normal complement system. Normally the complement system makes antibodies that attack the proteins but occasionally antibodies from the normal complement system destroy them or impair the bodys ability to fight them. Myasthenia gravis can be brought on by a variety of foreign invaders such as viruses or bacteria. A person with this condition may also experience a rash or itching. Signs and symptoms include a fever rash sometimes accompanied by fever chills skin rash accompanied by purpura andor joint pain. The exact cause of myasthenia gravis is unknown.\n"
          ]
        },
        {
          "metadata": {
            "tags": null
          },
          "name": "stderr",
          "output_type": "stream",
          "text": [
            "The attention mask and the pad token id were not set. As a consequence, you may observe unexpected behavior. Please pass your input's `attention_mask` to obtain reliable results.\n",
            "Setting `pad_token_id` to `eos_token_id`:50256 for open-end generation.\n"
          ]
        },
        {
          "metadata": {
            "tags": null
          },
          "name": "stdout",
          "output_type": "stream",
          "text": [
            "  Batch 1,700  of  1,847. Loss: 0.8170985579490662.   Elapsed: 0:34:14.\n",
            "0:  PTHow is Noonan syndrome inherited Noonan syndrome is inherited in an autosomal dominant pattern which means one copy of the altered gene in each cell is sufficient to cause the disorder. People who inherit an altered gene are more likely than people who do not have a mutation to have the condition. Most cases of Noonan syndrome are not inherited from an affected parent however they can occur in people who have a history of the disorder.\n"
          ]
        },
        {
          "metadata": {
            "tags": null
          },
          "name": "stderr",
          "output_type": "stream",
          "text": [
            "The attention mask and the pad token id were not set. As a consequence, you may observe unexpected behavior. Please pass your input's `attention_mask` to obtain reliable results.\n",
            "Setting `pad_token_id` to `eos_token_id`:50256 for open-end generation.\n"
          ]
        },
        {
          "metadata": {
            "tags": null
          },
          "name": "stdout",
          "output_type": "stream",
          "text": [
            "  Batch 1,800  of  1,847. Loss: 0.6971973180770874.   Elapsed: 0:36:14.\n",
            "0: üThe prognosis for individuals with ZSS varies depending on the size of the tumor and whether the cancer has spread beyond the colon and rectum. With a few exceptions treatment often works best when there is no known cancerous tumor. If only a small tumor is left a person may benefit from surgical resection of the large tumor. A large tumor may become a tumor and only require surgery to remove it. For those with a colon resection in which the colon has become a normal part of the colon the surgeon may remove the colon at some stage. If a large tumor is left after surgery surgery it may remain a colon resection. If a large tumor is left after surgery it may still need to be removed. Because many individuals with ZSS benefit from treatment they can have regular surgery as needed. However because there is often a mass to be removed surgery may be the only time most patients will need large surgery.\n",
            "\n",
            "  Average training loss: 0.70\n",
            "  Training epoch took: 0:37:12\n",
            "\n",
            "Running Validation...\n",
            "  Validation Loss: 0.70\n",
            "  Validation took: 0:01:20\n",
            "\n",
            "======== Epoch 3 / 4 ========\n",
            "Training...\n"
          ]
        },
        {
          "metadata": {
            "tags": null
          },
          "name": "stderr",
          "output_type": "stream",
          "text": [
            "The attention mask and the pad token id were not set. As a consequence, you may observe unexpected behavior. Please pass your input's `attention_mask` to obtain reliable results.\n",
            "Setting `pad_token_id` to `eos_token_id`:50256 for open-end generation.\n"
          ]
        },
        {
          "metadata": {
            "tags": null
          },
          "name": "stdout",
          "output_type": "stream",
          "text": [
            "  Batch   100  of  1,847. Loss: 0.4100884795188904.   Elapsed: 0:01:59.\n",
            "0: ruceThese resources address the diagnosis or management of oculocutaneous albinism - Gene Review Gene Review Autosomal Dominant Albinism - Genetic Testing Registry Albinism familial - National Heart Lung and Blood Institute How is Albinism Treated - National Heart Lung and Blood Institute How is Albinism Treated These resources from MedlinePlus offer information about the diagnosis and management of various health conditions - Diagnostic Tests - Drug Therapy - Surgery and Rehabilitation - Genetic Counseling - Palliative Care\n"
          ]
        },
        {
          "metadata": {
            "tags": null
          },
          "name": "stderr",
          "output_type": "stream",
          "text": [
            "The attention mask and the pad token id were not set. As a consequence, you may observe unexpected behavior. Please pass your input's `attention_mask` to obtain reliable results.\n",
            "Setting `pad_token_id` to `eos_token_id`:50256 for open-end generation.\n"
          ]
        },
        {
          "metadata": {
            "tags": null
          },
          "name": "stdout",
          "output_type": "stream",
          "text": [
            "  Batch   200  of  1,847. Loss: 0.7946134209632874.   Elapsed: 0:04:00.\n",
            "0:  derivativesKey Points - Avoiding risk factors and increasing protective factors may help prevent cancer. - The following are risk factors for ovarian fallopian tube and fallopian stromal cancer - The following are protective factors for ovarian fallopian tube and fallopian stromal cancer - The following are protective factors for ovarian fallopian tube and fallopian stromal cancer - Risk-reducing salpingo-oophorectomy salpingo-urea salpingo-oophorectomy and ovarian fallopian tube - The following are risk factors for ovarian fallopian tube and fallopian stromal cancer - The following are protective factors for ovarian fallopian tube and fallopian stromal cancer - The following are the stages of ovarian fallopian tube and fallopian stromal cancer - Stage 0 carcinoma in situ ovarian cell carcinoma - Stage I ovarian carcinoma in situ ovarian cell carcinoma and Stage II ovarian carcinoma in situ ovarian cell carcinoma - Stage II cystic ovarian\n"
          ]
        },
        {
          "metadata": {
            "tags": null
          },
          "name": "stderr",
          "output_type": "stream",
          "text": [
            "The attention mask and the pad token id were not set. As a consequence, you may observe unexpected behavior. Please pass your input's `attention_mask` to obtain reliable results.\n",
            "Setting `pad_token_id` to `eos_token_id`:50256 for open-end generation.\n"
          ]
        },
        {
          "metadata": {
            "tags": null
          },
          "name": "stdout",
          "output_type": "stream",
          "text": [
            "  Batch   300  of  1,847. Loss: 0.5881838202476501.   Elapsed: 0:06:01.\n",
            "0: \u0019Sarcosclerosis is a cancer that develops in cells of the lower abdomen. The lower abdomen is part of the bodys digestive system. It helps prevent digestion. In cancer the upper abdomen produces fluid that the body needs. It helps fight infection. Sarcosclerosis occurs most often in the stomach. It is also more common in the brain and in the nervous system. It most often develops in nerve cells. In the small intestine the tumor is often found first in the small intestine. It rarely spreads to the rest of the body. Symptoms may include - Headaches and abdominal pain - Aching or tight muscles - Coughing and gas - The doctor may take two or more prescription and over-the-counter medicines to treat the symptoms. - Weight loss - Feeling very hungry - Frequent diarrhea Cancers of the abdomen can not be cured and treatment is aimed at controlling the symptoms. In the past surgery to remove an entire cancer or other malignant tumor may not have worked. Today\n"
          ]
        },
        {
          "metadata": {
            "tags": null
          },
          "name": "stderr",
          "output_type": "stream",
          "text": [
            "The attention mask and the pad token id were not set. As a consequence, you may observe unexpected behavior. Please pass your input's `attention_mask` to obtain reliable results.\n",
            "Setting `pad_token_id` to `eos_token_id`:50256 for open-end generation.\n"
          ]
        },
        {
          "metadata": {
            "tags": null
          },
          "name": "stdout",
          "output_type": "stream",
          "text": [
            "  Batch   400  of  1,847. Loss: 0.996839165687561.   Elapsed: 0:08:02.\n",
            "0:  rememberingWhat causes congenital polycythemia congenita The exact cause of congenital polycythemia congenita CPP is unknown. It is thought to be caused by mutations in a specific gene called NCF5 or SCN5A. It is thought to have an autosomal dominant inheritance pattern which means one copy of the altered gene in each cell is sufficient to cause the disorder. If a mutation in the NCF5 gene is responsible for CPP the condition typically has an autosomal recessive pattern of inheritance. Affected individuals usually have no history of the disorder in their family. Rarely the condition has been associated with genetic disorders that have not yet been identified. Most of these genetic conditions involve the X-linked recessive pattern of inheritance which means two copies of the altered gene in each cell are altered. These cases occur in people with no history of the disorder in their family.\n"
          ]
        },
        {
          "metadata": {
            "tags": null
          },
          "name": "stderr",
          "output_type": "stream",
          "text": [
            "The attention mask and the pad token id were not set. As a consequence, you may observe unexpected behavior. Please pass your input's `attention_mask` to obtain reliable results.\n",
            "Setting `pad_token_id` to `eos_token_id`:50256 for open-end generation.\n"
          ]
        },
        {
          "metadata": {
            "tags": null
          },
          "name": "stdout",
          "output_type": "stream",
          "text": [
            "  Batch   500  of  1,847. Loss: 0.5666763186454773.   Elapsed: 0:10:04.\n",
            "0:  SourcesThese resources address the diagnosis or management of BSS - Baby is First Test - Gene Review Gene Review BSS - Genetic Testing Registry BSS - MedlinePlus Encyclopedia BSS - MedlinePlus Encyclopedia BSS - MedlinePlus Encyclopedia Chest Pain - MedlinePlus Health Topic BSS - MedlinePlus Health Topic BSS - MedlinePlus Health Topic BSS - MedlinePlus Health Topic BSS - MedlinePlus Health Topic BSS - MedlinePlus Health Topic BSS - Palliative Care\n"
          ]
        },
        {
          "metadata": {
            "tags": null
          },
          "name": "stderr",
          "output_type": "stream",
          "text": [
            "The attention mask and the pad token id were not set. As a consequence, you may observe unexpected behavior. Please pass your input's `attention_mask` to obtain reliable results.\n",
            "Setting `pad_token_id` to `eos_token_id`:50256 for open-end generation.\n"
          ]
        },
        {
          "metadata": {
            "tags": null
          },
          "name": "stdout",
          "output_type": "stream",
          "text": [
            "  Batch   600  of  1,847. Loss: 0.5561566352844238.   Elapsed: 0:12:04.\n",
            "0: emsThese resources address the diagnosis or management of hereditary fructose intolerance - Gene Review Gene Review Hereditary Fructose Intolerance - Genetic Testing Registry Hereditary fructose intolerance familial 1 - Genetic Testing Registry Hereditary fructose intolerance familial 2 - Genetic Testing Registry Hereditary fructose intolerance familial 3 - Genetic Testing Registry Hereditary fructose intolerance familial 4 These resources from MedlinePlus offer information about the diagnosis and management of various health conditions - Diagnostic Tests - Drug Therapy - Surgery and Rehabilitation - Genetic Counseling - Palliative Care\n"
          ]
        },
        {
          "metadata": {
            "tags": null
          },
          "name": "stderr",
          "output_type": "stream",
          "text": [
            "The attention mask and the pad token id were not set. As a consequence, you may observe unexpected behavior. Please pass your input's `attention_mask` to obtain reliable results.\n",
            "Setting `pad_token_id` to `eos_token_id`:50256 for open-end generation.\n"
          ]
        },
        {
          "metadata": {
            "tags": null
          },
          "name": "stdout",
          "output_type": "stream",
          "text": [
            "  Batch   700  of  1,847. Loss: 0.7615066766738892.   Elapsed: 0:14:04.\n",
            "0: tzAicardi syndrome is caused by mutations in the ANOS1B gene and is inherited in an autosomal recessive pattern which means both copies of the gene in each cell have mutations. The parents of an individual with an autosomal recessive condition each carry one copy of the mutated gene but they typically do not show signs and symptoms of the condition.\n"
          ]
        },
        {
          "metadata": {
            "tags": null
          },
          "name": "stderr",
          "output_type": "stream",
          "text": [
            "The attention mask and the pad token id were not set. As a consequence, you may observe unexpected behavior. Please pass your input's `attention_mask` to obtain reliable results.\n",
            "Setting `pad_token_id` to `eos_token_id`:50256 for open-end generation.\n"
          ]
        },
        {
          "metadata": {
            "tags": null
          },
          "name": "stdout",
          "output_type": "stream",
          "text": [
            "  Batch   800  of  1,847. Loss: 0.573964536190033.   Elapsed: 0:16:04.\n",
            "0: maticKey Points - There are different types of treatment for patients with transitional cell cancer of the renal pelvis and ribs. - Four types of standard treatment are used - Surgery - Radiation therapy - New types of treatment are being tested in clinical trials. - Chemotherapy - High-dose chemotherapy with stem cell transplant - High-dose chemotherapy with stem cell transplant - Biologic therapy - Patients may want to think about taking part in a clinical trial. - Patients can enter clinical trials before during or after starting their cancer treatment. - Follow-up tests may be needed. There are different types of treatment for patients with transitional cell cancer of the renal pelvis and ribs. Different types of treatments are available for patients with transitional cell cancer of the renal pelvis and ribs. Some treatments are standard the currently used treatment and some are being tested in clinical trials. A treatment clinical trial is a research study meant to help improve current treatments or obtain information on new treatments for patients with cancer. When clinical trials show that a\n"
          ]
        },
        {
          "metadata": {
            "tags": null
          },
          "name": "stderr",
          "output_type": "stream",
          "text": [
            "The attention mask and the pad token id were not set. As a consequence, you may observe unexpected behavior. Please pass your input's `attention_mask` to obtain reliable results.\n",
            "Setting `pad_token_id` to `eos_token_id`:50256 for open-end generation.\n"
          ]
        },
        {
          "metadata": {
            "tags": null
          },
          "name": "stdout",
          "output_type": "stream",
          "text": [
            "  Batch   900  of  1,847. Loss: 0.7376663088798523.   Elapsed: 0:18:05.\n",
            "0:  syndThe risk of developing alpha thalassemia is estimated to be 1 in 200000 people per year in the general population and is also rare in certain groups of people. Although this risk may be high for people who have no family history of the condition this is not a random occurrence.\n"
          ]
        },
        {
          "metadata": {
            "tags": null
          },
          "name": "stderr",
          "output_type": "stream",
          "text": [
            "The attention mask and the pad token id were not set. As a consequence, you may observe unexpected behavior. Please pass your input's `attention_mask` to obtain reliable results.\n",
            "Setting `pad_token_id` to `eos_token_id`:50256 for open-end generation.\n"
          ]
        },
        {
          "metadata": {
            "tags": null
          },
          "name": "stdout",
          "output_type": "stream",
          "text": [
            "  Batch 1,000  of  1,847. Loss: 0.4198606610298157.   Elapsed: 0:20:05.\n",
            "0:  gamA health care provider diagnoses colorectal cancer when - blood tests show that the lining of the colon is inflamed colorectal polyps. - a biopsy of the colon when there is a palpable abdominal mass. - a biopsy of the colon when the colon has just been diagnosed - colonoscopy is a procedure to look inside the rectum and colon to check for blood and bowel polyps. - a colonoscope is used to look at the rectum and colon for polyps. The colonoscope is inserted through a hollow opening in the abdomen about 4 inches long and is about the size of a small stone or a fist. A small colostomy is inserted through a narrow opening to one of these openings. The colostomy is inserted through one of two large or small valves on the same side of the colon. The colon is joined to the rectum by a long thin tube called a colostomy. The colon is partly covered by a plastic cover on\n"
          ]
        },
        {
          "metadata": {
            "tags": null
          },
          "name": "stderr",
          "output_type": "stream",
          "text": [
            "The attention mask and the pad token id were not set. As a consequence, you may observe unexpected behavior. Please pass your input's `attention_mask` to obtain reliable results.\n",
            "Setting `pad_token_id` to `eos_token_id`:50256 for open-end generation.\n"
          ]
        },
        {
          "metadata": {
            "tags": null
          },
          "name": "stdout",
          "output_type": "stream",
          "text": [
            "  Batch 1,100  of  1,847. Loss: 0.301055371761322.   Elapsed: 0:22:06.\n",
            "0:  injuryNew types of treatment are being tested in clinical trials. This summary section describes treatments that are being studied in clinical trials. It may not mention every new treatment being studied. Information about clinical trials is available from the NCI website. Radiosensitizers Radiosensitizers are drugs that make cancer cells more sensitive to radiation therapy than normal cells and stop dividing. Combining radiation therapy and biological therapy also are being studied. Patients may want to think about taking part in a clinical trial. For some patients taking part in a clinical trial may be the best treatment choice. Clinical trials are part of the cancer research process. Clinical trials are done to find out if new cancer treatments are safe and effective or better than the standard treatment. Many of today is standard treatments for cancer are based on earlier clinical trials. Patients who take part in a clinical trial may receive the standard treatment or be among the first to receive a new treatment. Patients who take part in clinical trials also help improve the way cancer\n"
          ]
        },
        {
          "metadata": {
            "tags": null
          },
          "name": "stderr",
          "output_type": "stream",
          "text": [
            "The attention mask and the pad token id were not set. As a consequence, you may observe unexpected behavior. Please pass your input's `attention_mask` to obtain reliable results.\n",
            "Setting `pad_token_id` to `eos_token_id`:50256 for open-end generation.\n"
          ]
        },
        {
          "metadata": {
            "tags": null
          },
          "name": "stdout",
          "output_type": "stream",
          "text": [
            "  Batch 1,200  of  1,847. Loss: 0.5226200222969055.   Elapsed: 0:24:08.\n",
            "0: azaThe prognosis for children with Wilson disease varies depending on the severity of symptoms. The extent of muscle weakness and paralysis may be as small as a few millimeters and may last as long as a few weeks. Some children are not able to walk without assistance. Recovery for both adults and children is usually complete within 24 months. Life span depends on the age and location of the motor neuron in the liver as well as the level of calcium calcification in the liver.\n"
          ]
        },
        {
          "metadata": {
            "tags": null
          },
          "name": "stderr",
          "output_type": "stream",
          "text": [
            "The attention mask and the pad token id were not set. As a consequence, you may observe unexpected behavior. Please pass your input's `attention_mask` to obtain reliable results.\n",
            "Setting `pad_token_id` to `eos_token_id`:50256 for open-end generation.\n"
          ]
        },
        {
          "metadata": {
            "tags": null
          },
          "name": "stdout",
          "output_type": "stream",
          "text": [
            "  Batch 1,300  of  1,847. Loss: 0.4181717038154602.   Elapsed: 0:26:08.\n",
            "0:  membraneMost cases of the syndrome occur in people with no history of the disorder in their family. About 40 percent of cases are familial. This phenomenon is called genomic imprinting. Each copy of the gene in each cell is called a carrier. Carriers of an autosomal recessive condition usually do not have any associated signs or symptoms. When two carriers of an autosomal recessive condition have children each child has a 25 1 in 4 risk to have the condition a 50 1 in 2 risk to be a carrier like each of the parents and a 25 chance to not have the condition and not be a carrier.\n"
          ]
        },
        {
          "metadata": {
            "tags": null
          },
          "name": "stderr",
          "output_type": "stream",
          "text": [
            "The attention mask and the pad token id were not set. As a consequence, you may observe unexpected behavior. Please pass your input's `attention_mask` to obtain reliable results.\n",
            "Setting `pad_token_id` to `eos_token_id`:50256 for open-end generation.\n"
          ]
        },
        {
          "metadata": {
            "tags": null
          },
          "name": "stdout",
          "output_type": "stream",
          "text": [
            "  Batch 1,400  of  1,847. Loss: 0.5565201640129089.   Elapsed: 0:28:08.\n",
            "0: ijing- A family history of heart disease or lung disease raises the risk of a heart attack. - Smoking andor other environmental factors can cause heart disease or lung disease. - In some cases a person with heart disease has no signs or symptoms of heart failure. - People with heart failure also do not have lung diseases such as a form of inflammatory cardiomyopathy or scarring of the heart muscle. - Older age and being exposed to certain toxic substances also raises the risk of heart attack and lung disease. - The risk of heart attacks increases as you age but you may never know you have heart disease and heart failure. - If you have any signs or symptoms of heart failure call 911 right away. - Do not drive to a hospital for an emergency. If you have any of these symptoms call the ambulance so you and your doctor can begin life-saving treatment.\n"
          ]
        },
        {
          "metadata": {
            "tags": null
          },
          "name": "stderr",
          "output_type": "stream",
          "text": [
            "The attention mask and the pad token id were not set. As a consequence, you may observe unexpected behavior. Please pass your input's `attention_mask` to obtain reliable results.\n",
            "Setting `pad_token_id` to `eos_token_id`:50256 for open-end generation.\n"
          ]
        },
        {
          "metadata": {
            "tags": null
          },
          "name": "stdout",
          "output_type": "stream",
          "text": [
            "  Batch 1,500  of  1,847. Loss: 0.5263734459877014.   Elapsed: 0:30:09.\n",
            "0:  castThese resources address the diagnosis or management of Kallmann syndrome - Genetic Testing Registry Kallmann syndrome These resources from MedlinePlus offer information about the diagnosis and management of various health conditions - Diagnostic Tests - Drug Therapy - Surgery and Rehabilitation - Genetic Counseling - Palliative Care\n"
          ]
        },
        {
          "metadata": {
            "tags": null
          },
          "name": "stderr",
          "output_type": "stream",
          "text": [
            "The attention mask and the pad token id were not set. As a consequence, you may observe unexpected behavior. Please pass your input's `attention_mask` to obtain reliable results.\n",
            "Setting `pad_token_id` to `eos_token_id`:50256 for open-end generation.\n"
          ]
        },
        {
          "metadata": {
            "tags": null
          },
          "name": "stdout",
          "output_type": "stream",
          "text": [
            "  Batch 1,600  of  1,847. Loss: 0.447761595249176.   Elapsed: 0:32:09.\n",
            "0:  purchWhat are the signs and symptoms of Trichothiodystrophy The Human Phenotype Ontology provides the following list of signs and symptoms for Trichothiodystrophy. If the information is available the table below includes how often the symptom is seen in people with this condition. You can use the MedlinePlus Medical Dictionary to look up the definitions for these medical terms. Signs and Symptoms Approximate number of patients when available Anteverted nares 90 Cognitive impairment 90 Epicanthus 90 High forehead 90 Macrotia 90 Muscular hypotonia 90 Opacification of the corneal stroma 90 Short stature 90 Split hand 90 Wide nasal bridge 90 Abnormality of movement 50 Abnormality of the hip bone 50 Anemia 50 AplasiaHypoplasia of the corpus callosum 50 Attention deficit hyperactivity disorder 50 AplasiaHypoplasia of the skin 50 Arrhythmia 50 Cerebral calcification 50 Chondrocalcinosis 50 Congestive heart\n"
          ]
        },
        {
          "metadata": {
            "tags": null
          },
          "name": "stderr",
          "output_type": "stream",
          "text": [
            "The attention mask and the pad token id were not set. As a consequence, you may observe unexpected behavior. Please pass your input's `attention_mask` to obtain reliable results.\n",
            "Setting `pad_token_id` to `eos_token_id`:50256 for open-end generation.\n"
          ]
        },
        {
          "metadata": {
            "tags": null
          },
          "name": "stdout",
          "output_type": "stream",
          "text": [
            "  Batch 1,700  of  1,847. Loss: 0.43528640270233154.   Elapsed: 0:34:10.\n",
            "0:  shouldersWhat are the signs and symptoms of CLCN4-related osteoarthritis The Human Phenotype Ontology provides the following list of signs and symptoms for CLCN4-related osteoarthritis. If the information is available the table below includes how often the symptom is seen in people with this condition. You can use the MedlinePlus Medical Dictionary to look up the definitions for these medical terms. Signs and Symptoms Approximate number of patients when available Abnormality of movement 90 Joint hypermobility 90 Osteoarthritis 90 Arthritis - Autosomal dominant inheritance - The Human Phenotype Ontology HPO has collected information on how often a sign or symptom occurs in a condition. Much of this information comes from Orphanet a European rare disease database. The frequency of a sign or symptom is usually listed as a rough estimate of the percentage of patients who have that feature. The frequency may also be listed as a fraction. The first number of the fraction is how\n"
          ]
        },
        {
          "metadata": {
            "tags": null
          },
          "name": "stderr",
          "output_type": "stream",
          "text": [
            "The attention mask and the pad token id were not set. As a consequence, you may observe unexpected behavior. Please pass your input's `attention_mask` to obtain reliable results.\n",
            "Setting `pad_token_id` to `eos_token_id`:50256 for open-end generation.\n"
          ]
        },
        {
          "metadata": {
            "tags": null
          },
          "name": "stdout",
          "output_type": "stream",
          "text": [
            "  Batch 1,800  of  1,847. Loss: 0.6077935695648193.   Elapsed: 0:36:11.\n",
            "0:  builtWhat are the signs and symptoms of Achondrogenesis skeletal dysplasia X-linked The Human Phenotype Ontology provides the following list of signs and symptoms for Achondrogenesis skeletal dysplasia X-linked. If the information is available the table below includes how often the symptom is seen in people with this condition. You can use the MedlinePlus Medical Dictionary to look up the definitions for these medical terms. Signs and Symptoms Approximate number of patients when available Abnormality of the skeletal system - Autosomal recessive inheritance - Fibular aplasia - The Human Phenotype Ontology HPO has collected information on how often a sign or symptom occurs in a condition. Much of this information comes from Orphanet a European rare disease database. The frequency of a sign or symptom is usually listed as a rough estimate of the percentage of patients who have that feature. The frequency may also be listed as a fraction. The first number of the fraction is how many people had\n",
            "\n",
            "  Average training loss: 0.61\n",
            "  Training epoch took: 0:37:09\n",
            "\n",
            "Running Validation...\n",
            "  Validation Loss: 0.67\n",
            "  Validation took: 0:01:20\n",
            "\n",
            "======== Epoch 4 / 4 ========\n",
            "Training...\n"
          ]
        },
        {
          "metadata": {
            "tags": null
          },
          "name": "stderr",
          "output_type": "stream",
          "text": [
            "The attention mask and the pad token id were not set. As a consequence, you may observe unexpected behavior. Please pass your input's `attention_mask` to obtain reliable results.\n",
            "Setting `pad_token_id` to `eos_token_id`:50256 for open-end generation.\n"
          ]
        },
        {
          "metadata": {
            "tags": null
          },
          "name": "stdout",
          "output_type": "stream",
          "text": [
            "  Batch   100  of  1,847. Loss: 0.7953168153762817.   Elapsed: 0:01:59.\n",
            "0:  openlyKey Points - There are different types of treatment for childhood central nervous system CNS germ cell tumors. - Children with childhood central nervous system CNS germ cell tumors should have their treatment planned by a team of health care providers who are experts in treating childhood CNS germ cell tumors. - There are different types of treatment for childhood central nervous system CNS germ cell tumors. - Children with childhood central nervous system CNS germ cell tumors should have their treatment planned by a team of health care providers who are experts in treating childhood CNS germ cell tumors. Some treatments are standard the currently used treatment and some are being tested in clinical trials. A treatment clinical trial is a research study meant to help improve current treatments or obtain information on new treatments for patients with cancer. When clinical trials show that a new treatment is better than the standard treatment the new treatment may become the standard treatment. Because cancer in children is rare taking part in a clinical trial should be considered. Some clinical trials are open only to patients who have not started treatment.\n"
          ]
        },
        {
          "output_type": "stream",
          "name": "stderr",
          "text": [
            "The attention mask and the pad token id were not set. As a consequence, you may observe unexpected behavior. Please pass your input's `attention_mask` to obtain reliable results.\n",
            "Setting `pad_token_id` to `eos_token_id`:50256 for open-end generation.\n"
          ]
        },
        {
          "output_type": "stream",
          "name": "stdout",
          "text": [
            "  Batch   200  of  1,847. Loss: 0.9590571522712708.   Elapsed: 0:04:01.\n",
            "0:  haltedMutations in the SCN4A SCN6A and TRPM4 genes cause primary carnitine deficiency. These genes provide instructions for making enzymes called beta- and carnitine oxidase A respectively. Beta- and carnitine oxidase A are found in liver cells and other tissues although they also release some carnitine. Carnitine helps the body make certain proteins called carnitine-containing fatty acids also known as fatty acids. Carnitine also plays a role in the formation and breakdown of fats called triglycerides. Triglycerides are the main source of stored energy for cells and tissues. Fatty acids also help produce bile and help process carbohydrates fat-soluble vitamins and certain fats lipids. Mutations in the SCN4A and SCN6A genes disrupt the activity of beta- and carnitine oxidase A respectively. As a result fats and triglycerides accumulate to form a fatty acid called acetyl-CoA oxidase\n"
          ]
        },
        {
          "output_type": "stream",
          "name": "stderr",
          "text": [
            "The attention mask and the pad token id were not set. As a consequence, you may observe unexpected behavior. Please pass your input's `attention_mask` to obtain reliable results.\n",
            "Setting `pad_token_id` to `eos_token_id`:50256 for open-end generation.\n"
          ]
        },
        {
          "output_type": "stream",
          "name": "stdout",
          "text": [
            "  Batch   300  of  1,847. Loss: 0.6519293785095215.   Elapsed: 0:06:02.\n",
            "0:  NikMNT stands for microscopic epidermolysis bullosa and is a tumor of the epidermolytic part of the epidermis the material that protects and protects the blood vessels that make blood. This condition also called microscopic melanocytic papules MOPs is a type of skin cancer caused by small cell lung cancer called mucopolysaccharidosis MPSC. Unlike most skin cancers MNTs involve an abnormal buildup of epidermal DNA a DNA sequence in the cell that changes the pigmentation of the skin and nails. Individuals with mucopolysaccharidosis MPSC commonly have no features related to the condition. In about 10 of cases the underlying genetic cause of the condition is unknown.\n"
          ]
        },
        {
          "output_type": "stream",
          "name": "stderr",
          "text": [
            "The attention mask and the pad token id were not set. As a consequence, you may observe unexpected behavior. Please pass your input's `attention_mask` to obtain reliable results.\n",
            "Setting `pad_token_id` to `eos_token_id`:50256 for open-end generation.\n"
          ]
        },
        {
          "output_type": "stream",
          "name": "stdout",
          "text": [
            "  Batch   400  of  1,847. Loss: 0.4309033751487732.   Elapsed: 0:08:03.\n",
            "0:  tinMutations in the H1N1 gene cause hereditary motor neuropathy. The H1N1 gene provides instructions for producing the heparan sulfate hydroxylase enzyme. This enzyme is involved in the heparan sulfate excretion in the blood. Mutations in the H1N1 gene lead to the production of an enzyme with reduced function or cause a deficiency of the enzyme. Without enough heparan sulfate excretion in the blood the body cannot effectively process the compound. As a result compounds called reactive oxygen species accumulate in liver cells leading to jaundice and other symptoms of hereditary motor neuropathy.\n"
          ]
        },
        {
          "output_type": "stream",
          "name": "stderr",
          "text": [
            "The attention mask and the pad token id were not set. As a consequence, you may observe unexpected behavior. Please pass your input's `attention_mask` to obtain reliable results.\n",
            "Setting `pad_token_id` to `eos_token_id`:50256 for open-end generation.\n"
          ]
        },
        {
          "output_type": "stream",
          "name": "stdout",
          "text": [
            "  Batch   500  of  1,847. Loss: 0.5110437870025635.   Elapsed: 0:10:03.\n",
            "0:  clinicalMost children with Sotos syndrome respond well to treatment. Most children with Sotos syndrome go on to lead normal lives however those who do have Sotos syndrome generally do so well that they need more severe treatment. Children with Sotos syndrome are frequently admitted to special centers and special education services. Special services can include special educational services special education or vocational training for children who have special interests such as learning computer programming or special education services for people with epilepsy.\n"
          ]
        },
        {
          "output_type": "stream",
          "name": "stderr",
          "text": [
            "The attention mask and the pad token id were not set. As a consequence, you may observe unexpected behavior. Please pass your input's `attention_mask` to obtain reliable results.\n",
            "Setting `pad_token_id` to `eos_token_id`:50256 for open-end generation.\n"
          ]
        },
        {
          "output_type": "stream",
          "name": "stdout",
          "text": [
            "  Batch   600  of  1,847. Loss: 0.7741639614105225.   Elapsed: 0:12:03.\n",
            "0: lectionsGSDV is a rare inherited disease that causes tumors of the gums teeth and gingiva. Symptoms can appear anywhere in the body but the hallmark of GSDV is arthritis. In GSDV the joint contractures can cause pain and stiffness. The affected joints can stretch over or tear which limits the movement of certain joints. Some people with GSDV have no noticeable symptoms. However when present they may have difficulty moving the affected joint or locking it in the eye socket. The disorder can be detected by examining a sample of a fluid-filled sac filled with a chemical that coats gums.\n"
          ]
        },
        {
          "output_type": "stream",
          "name": "stderr",
          "text": [
            "The attention mask and the pad token id were not set. As a consequence, you may observe unexpected behavior. Please pass your input's `attention_mask` to obtain reliable results.\n",
            "Setting `pad_token_id` to `eos_token_id`:50256 for open-end generation.\n"
          ]
        },
        {
          "output_type": "stream",
          "name": "stdout",
          "text": [
            "  Batch   700  of  1,847. Loss: 1.215040922164917.   Elapsed: 0:14:03.\n",
            "0: elsYou need to be careful around children and other pets. They may bite at you. A barking spay or electric wire netting or other invasive behavior is probably the most common cause of petechiae. When you see a petechiae and see a foreign or moldy substance in the pet it is probably the result of an infection. There is no treatment. Contact your doctor. Diagnosis of petechiae includes identifying the cause and symptoms. Certain infections and other symptoms of the condition can be treated. Treatments may include antihistamines to help fight infections catheters medicines to remove the spleen and liver and surgery or if other problems are present. For more information see the PDQ summary on Petechiae.\n"
          ]
        },
        {
          "output_type": "stream",
          "name": "stderr",
          "text": [
            "The attention mask and the pad token id were not set. As a consequence, you may observe unexpected behavior. Please pass your input's `attention_mask` to obtain reliable results.\n",
            "Setting `pad_token_id` to `eos_token_id`:50256 for open-end generation.\n"
          ]
        },
        {
          "output_type": "stream",
          "name": "stdout",
          "text": [
            "  Batch   800  of  1,847. Loss: 0.3563280999660492.   Elapsed: 0:16:05.\n",
            "0: labCongenital central hypoventilation syndrome CPHS is the most common form of congenital ventricular fibrillation. Familial cases of congenital ventricular fibrillation result from mutations in the SCN4A2 gene in people with the condition who otherwise do not have congenital ventricular fibrillation. In congenital ventricular fibrillation abnormal heart rhythm arrhythmia usually occurs. These irregular heartbeats can occur after coronary heart disease CHD or atrial fibrillation which is usually present at birth. A more common cause of congenital ventricular fibrillation is a condition called acute myeloid leukemia. When acute myeloid leukemia occurs after birth the condition often occurs with congenital ventricular fibrillation. In these cases an affected individual is known as early congenital ventricular fibrillation. In these cases the underlying cause of the congenital ventricular fibrillation is unknown. In congenital ventricular fibrillation these individuals\n"
          ]
        },
        {
          "output_type": "stream",
          "name": "stderr",
          "text": [
            "The attention mask and the pad token id were not set. As a consequence, you may observe unexpected behavior. Please pass your input's `attention_mask` to obtain reliable results.\n",
            "Setting `pad_token_id` to `eos_token_id`:50256 for open-end generation.\n"
          ]
        },
        {
          "output_type": "stream",
          "name": "stdout",
          "text": [
            "  Batch   900  of  1,847. Loss: 0.45059871673583984.   Elapsed: 0:18:07.\n",
            "0:  tripleWhat are the signs and symptoms of Bardet-Biedl syndrome The Human Phenotype Ontology provides the following list of signs and symptoms for Bardet-Biedl syndrome. If the information is available the table below includes how often the symptom is seen in people with this condition. You can use the MedlinePlus Medical Dictionary to look up the definitions for these medical terms. Signs and Symptoms Approximate number of patients when available Abnormality of the eyelashes 90 Astigmatism 90 Myopia 90 Nystagmus 90 Photophobia 90 Reduced number of teeth 90 Short stature 90 Sinusitis 7.5 Retinal detachment 7.5 Strabismus 7.5 Telangiectasia of the skin 7.5 Tremor 7.5 Autosomal recessive inheritance - Brachydactyly syndrome - Chorioretinal coloboma - Chronic inflammation of the eye - Diplopia - Epidermolysis - Fragile nails - Glaucoma\n"
          ]
        },
        {
          "output_type": "stream",
          "name": "stderr",
          "text": [
            "The attention mask and the pad token id were not set. As a consequence, you may observe unexpected behavior. Please pass your input's `attention_mask` to obtain reliable results.\n",
            "Setting `pad_token_id` to `eos_token_id`:50256 for open-end generation.\n"
          ]
        },
        {
          "output_type": "stream",
          "name": "stdout",
          "text": [
            "  Batch 1,000  of  1,847. Loss: 0.6820399761199951.   Elapsed: 0:20:09.\n",
            "0: 220These resources address the diagnosis or management of Noonan syndrome - Gene Review Gene Review Noonan Syndrome - Genetic Testing Registry Noonan syndrome - MedlinePlus Encyclopedia Noonan syndrome - MedlinePlus Encyclopedia X-linked - MedlinePlus Encyclopedia X-linked 1 - MedlinePlus Encyclopedia Noonan syndrome These resources from MedlinePlus offer information about the diagnosis and management of various health conditions - Diagnostic Tests - Drug Therapy - Surgery and Rehabilitation - Genetic Counseling - Palliative Care\n"
          ]
        },
        {
          "output_type": "stream",
          "name": "stderr",
          "text": [
            "The attention mask and the pad token id were not set. As a consequence, you may observe unexpected behavior. Please pass your input's `attention_mask` to obtain reliable results.\n",
            "Setting `pad_token_id` to `eos_token_id`:50256 for open-end generation.\n"
          ]
        },
        {
          "output_type": "stream",
          "name": "stdout",
          "text": [
            "  Batch 1,100  of  1,847. Loss: 0.7461713552474976.   Elapsed: 0:22:09.\n",
            "0:  SeeWhat are the signs and symptoms of Trichodental syndrome The Human Phenotype Ontology provides the following list of signs and symptoms for Trichodental syndrome. If the information is available the table below includes how often the symptom is seen in people with this condition. You can use the MedlinePlus Medical Dictionary to look up the definitions for these medical terms. Signs and Symptoms Approximate number of patients when available Abnormality of the eyelashes 90 Abnormality of the trichomegaly 90 AplasiaHypoplasia of the eyebrow 90 Cognitive impairment 90 Epicanthus 90 Finger syndactyly 90 Intrauterine growth retardation 90 Intrauterine growth retardation 90 Long philtrum 90 Low-set posteriorly rotated ears 90 Narrow mouth 90 Narrow nasal bridge 90 Short nose 90 Synostosis of carpal bones 90 Triangular face 90 Triangular face 90 Triangular nasal tip 90 Upslanted palpebral fissure 90 Upsl\n"
          ]
        },
        {
          "output_type": "stream",
          "name": "stderr",
          "text": [
            "The attention mask and the pad token id were not set. As a consequence, you may observe unexpected behavior. Please pass your input's `attention_mask` to obtain reliable results.\n",
            "Setting `pad_token_id` to `eos_token_id`:50256 for open-end generation.\n"
          ]
        },
        {
          "output_type": "stream",
          "name": "stdout",
          "text": [
            "  Batch 1,200  of  1,847. Loss: 0.3264875113964081.   Elapsed: 0:24:11.\n",
            "0: @@Ot-Marie-Tooth disease is one of a group of conditions called retinoblastomas which are typically present in the eye. They are usually caused by mutations in the FGFR2 gene and are inherited in an autosomal dominant fashion. The retinoblastomas typically begin to develop in the retina but can develop into other areas of the eye. These include the retina where they originate. This form of retinoblastoma is not inherited but arises from a random event during the formation of reproductive cells eggs and sperm or in early fetal development. Retinoblastomas usually progress to macular degeneration. The macular degeneration generally lasts for 6 to 8 months but the optic degeneration usually begins in a person is forties or fifties and slowly spreads to other parts of the body. Treatment varies from person to person.\n"
          ]
        },
        {
          "output_type": "stream",
          "name": "stderr",
          "text": [
            "The attention mask and the pad token id were not set. As a consequence, you may observe unexpected behavior. Please pass your input's `attention_mask` to obtain reliable results.\n",
            "Setting `pad_token_id` to `eos_token_id`:50256 for open-end generation.\n"
          ]
        },
        {
          "output_type": "stream",
          "name": "stdout",
          "text": [
            "  Batch 1,300  of  1,847. Loss: 0.7505545616149902.   Elapsed: 0:26:12.\n",
            "0:  hostLattice corneal dystrophy is a condition that affects many areas of the body including the eyes brain and nervous system. People with this condition have a clouding of the lens of the eye cataracts in both eyes cataracts are an increased sensitivity to light photophobia and high sensitivity to bright light photophobia. Affected individuals also have high levels of a protein called fibrillin in the blood which promotes blood clotting. Most affected individuals also have the characteristic features of another eye disorder called retinitis pigmentosa which causes vision loss. The eyes of affected individuals typically do not become white at birth. As the eyes become larger the cataracts gradually increase in number. Cataracts can result in decreased vision due to retinitis pigmentosa. Additionally affected individuals develop cataracts on the lining of the cornea. These changes can cause blurred vision which may be more noticeable during severe sunlight exposure. Because retinitis pigmentosa causes retinitis pigmentosa\n"
          ]
        },
        {
          "output_type": "stream",
          "name": "stderr",
          "text": [
            "The attention mask and the pad token id were not set. As a consequence, you may observe unexpected behavior. Please pass your input's `attention_mask` to obtain reliable results.\n",
            "Setting `pad_token_id` to `eos_token_id`:50256 for open-end generation.\n"
          ]
        },
        {
          "output_type": "stream",
          "name": "stdout",
          "text": [
            "  Batch 1,400  of  1,847. Loss: 0.7874199748039246.   Elapsed: 0:28:14.\n",
            "0: roleMutations in the REN gene cause congenital amyloidosis. The REN gene provides instructions for making one piece subunit of a protein called rEN alpha -REN-adrenosyltransferase. This protein is involved in the process of transporting fats lipids and the components that make up the cells blood and other tissues. Mutations in the REN gene disrupt this transport protein and cause the buildup of lipids in the body is tissues resulting in the features of congenital amyloidosis.\n"
          ]
        },
        {
          "output_type": "stream",
          "name": "stderr",
          "text": [
            "The attention mask and the pad token id were not set. As a consequence, you may observe unexpected behavior. Please pass your input's `attention_mask` to obtain reliable results.\n",
            "Setting `pad_token_id` to `eos_token_id`:50256 for open-end generation.\n"
          ]
        },
        {
          "output_type": "stream",
          "name": "stdout",
          "text": [
            "  Batch 1,500  of  1,847. Loss: 0.9099786877632141.   Elapsed: 0:30:15.\n",
            "0: iacThese resources address the diagnosis or management of atypical hemolytic anemia - Gene Review Gene Review Atypical Hemolytic Anemia - Genetic Testing Registry Hypochromic anemia with homocystinuria type 1 - Genetic Testing Registry Hypochromic anemia with homocystinuria type 2 - Genetic Testing Registry Hypochromic anemia with homocystinuria type 3 - Genetic Testing Registry Nephrolithiasis of small intestine - Genetic Testing Registry Nephrolithiasis of small intestine type 5 - Genetic Testing Registry Nephrolithiasis of small intestine type 6 - Genetic Testing Registry Nephrolithiasis of small intestine type 7 - Genetic Testing Registry Nephrolithiasis of small intestine type 8 - Genetic Testing Registry Nephrolithiasis of small intestine type 9 - MedlinePlus Encyclopedia Primary Nephropathy These resources from MedlinePlus offer information about the diagnosis and management of various health conditions - Diagnostic Tests - Drug Therapy - Surgery and Rehabilitation - Genetic Counseling\n"
          ]
        },
        {
          "output_type": "stream",
          "name": "stderr",
          "text": [
            "The attention mask and the pad token id were not set. As a consequence, you may observe unexpected behavior. Please pass your input's `attention_mask` to obtain reliable results.\n",
            "Setting `pad_token_id` to `eos_token_id`:50256 for open-end generation.\n"
          ]
        },
        {
          "output_type": "stream",
          "name": "stdout",
          "text": [
            "  Batch 1,600  of  1,847. Loss: 0.4958706200122833.   Elapsed: 0:32:16.\n",
            "0:  LDMutations in the FLNB gene cause most cases of PSCA. The FLNB gene provides instructions for making a protein called F-b receptor. This protein plays a role in a group of receptors that transmit and distribute signals within cells. Most mutations in the FLNB gene result in the production of a nonfunctional protein. This protein is unable to transmit signals within cells resulting in PSCA. Without functional F-b receptors outside the cell none of the other signals made by the F-b receptor are effective or effective in controlling cell growth and division. As a result PSCA is difficult to control cell growth and division. Researchers are working to determine the functions of other genes including the F-b receptor as well as the activity of other proteins. The mutations that cause PSCA lead to the production of an abnormally small nonfunctional F-b receptor. This shortage is believed to be responsible for the characteristic signs and symptoms of PSCA.\n"
          ]
        },
        {
          "output_type": "stream",
          "name": "stderr",
          "text": [
            "The attention mask and the pad token id were not set. As a consequence, you may observe unexpected behavior. Please pass your input's `attention_mask` to obtain reliable results.\n",
            "Setting `pad_token_id` to `eos_token_id`:50256 for open-end generation.\n"
          ]
        },
        {
          "output_type": "stream",
          "name": "stdout",
          "text": [
            "  Batch 1,700  of  1,847. Loss: 0.5955371856689453.   Elapsed: 0:34:18.\n",
            "0:  ListenMutations in the ACM6 gene cause congenital adrenal hyperplasia. The ACM6 gene provides instructions for making an enzyme called glucocorticoid-binding globulin. This enzyme plays a critical role in the body is immune response. Glucocorticoid-binding globulin is produced primarily through the adrenal glands. The adrenal glands are located on top of each kidney and produce two hormones cortisol and parainfluoroine. Cortisol and parainfluoroine are needed for the body to respond properly to stress. Mutations in the ACM6 gene result in the production of a glucocorticoid-binding globulin enzyme that is unable to respond to stress effectively. This shortage of these hormones causes the features of congenital adrenal hyperplasia.\n"
          ]
        },
        {
          "output_type": "stream",
          "name": "stderr",
          "text": [
            "The attention mask and the pad token id were not set. As a consequence, you may observe unexpected behavior. Please pass your input's `attention_mask` to obtain reliable results.\n",
            "Setting `pad_token_id` to `eos_token_id`:50256 for open-end generation.\n"
          ]
        },
        {
          "output_type": "stream",
          "name": "stdout",
          "text": [
            "  Batch 1,800  of  1,847. Loss: 0.3774670660495758.   Elapsed: 0:36:20.\n",
            "0:  dyIs genetic testing available for hereditary cerebral ischemia The Genetic Testing Registry GARD is a centralized online resource for information about genetic tests. For more information about genetic tests please visit the following link. httpghr.nlm.nih.govcondition=classicdetaildetail&resourv=v13346\n",
            "\n",
            "  Average training loss: 0.53\n",
            "  Training epoch took: 0:37:15\n",
            "\n",
            "Running Validation...\n",
            "  Validation Loss: 0.66\n",
            "  Validation took: 0:01:20\n",
            "\n",
            "Training complete!\n",
            "Total training took 2:34:22 (h:mm:ss)\n"
          ]
        }
      ]
    },
    {
      "cell_type": "code",
      "source": [
        "# Display floats with two decimal places.\n",
        "# pd.set_option('precision', 2)\n",
        "\n",
        "# Create a DataFrame from our training statistics.\n",
        "df_stats = pd.DataFrame(data=training_stats)\n",
        "\n",
        "# Use the 'epoch' as the row index.\n",
        "df_stats = df_stats.set_index('epoch')\n",
        "\n",
        "# A hack to force the column headers to wrap.\n",
        "#df = df.style.set_table_styles([dict(selector=\"th\",props=[('max-width', '70px')])])\n",
        "\n",
        "# Display the table.\n",
        "df_stats"
      ],
      "metadata": {
        "colab": {
          "base_uri": "https://localhost:8080/",
          "height": 206
        },
        "id": "3WaV5pf98K3W",
        "outputId": "eba4afcc-0c5c-4349-e823-4ab450b7dd7d"
      },
      "execution_count": null,
      "outputs": [
        {
          "output_type": "execute_result",
          "data": {
            "text/plain": [
              "       Training Loss  Valid. Loss Training Time Validation Time\n",
              "epoch                                                          \n",
              "1           1.067980     0.756460       0:37:28         0:01:19\n",
              "2           0.696668     0.703262       0:37:12         0:01:20\n",
              "3           0.609621     0.674230       0:37:09         0:01:20\n",
              "4           0.532024     0.662117       0:37:15         0:01:20"
            ],
            "text/html": [
              "\n",
              "  <div id=\"df-a0161c6e-156f-4444-8496-b4f1f0a2fb1a\">\n",
              "    <div class=\"colab-df-container\">\n",
              "      <div>\n",
              "<style scoped>\n",
              "    .dataframe tbody tr th:only-of-type {\n",
              "        vertical-align: middle;\n",
              "    }\n",
              "\n",
              "    .dataframe tbody tr th {\n",
              "        vertical-align: top;\n",
              "    }\n",
              "\n",
              "    .dataframe thead th {\n",
              "        text-align: right;\n",
              "    }\n",
              "</style>\n",
              "<table border=\"1\" class=\"dataframe\">\n",
              "  <thead>\n",
              "    <tr style=\"text-align: right;\">\n",
              "      <th></th>\n",
              "      <th>Training Loss</th>\n",
              "      <th>Valid. Loss</th>\n",
              "      <th>Training Time</th>\n",
              "      <th>Validation Time</th>\n",
              "    </tr>\n",
              "    <tr>\n",
              "      <th>epoch</th>\n",
              "      <th></th>\n",
              "      <th></th>\n",
              "      <th></th>\n",
              "      <th></th>\n",
              "    </tr>\n",
              "  </thead>\n",
              "  <tbody>\n",
              "    <tr>\n",
              "      <th>1</th>\n",
              "      <td>1.067980</td>\n",
              "      <td>0.756460</td>\n",
              "      <td>0:37:28</td>\n",
              "      <td>0:01:19</td>\n",
              "    </tr>\n",
              "    <tr>\n",
              "      <th>2</th>\n",
              "      <td>0.696668</td>\n",
              "      <td>0.703262</td>\n",
              "      <td>0:37:12</td>\n",
              "      <td>0:01:20</td>\n",
              "    </tr>\n",
              "    <tr>\n",
              "      <th>3</th>\n",
              "      <td>0.609621</td>\n",
              "      <td>0.674230</td>\n",
              "      <td>0:37:09</td>\n",
              "      <td>0:01:20</td>\n",
              "    </tr>\n",
              "    <tr>\n",
              "      <th>4</th>\n",
              "      <td>0.532024</td>\n",
              "      <td>0.662117</td>\n",
              "      <td>0:37:15</td>\n",
              "      <td>0:01:20</td>\n",
              "    </tr>\n",
              "  </tbody>\n",
              "</table>\n",
              "</div>\n",
              "      <button class=\"colab-df-convert\" onclick=\"convertToInteractive('df-a0161c6e-156f-4444-8496-b4f1f0a2fb1a')\"\n",
              "              title=\"Convert this dataframe to an interactive table.\"\n",
              "              style=\"display:none;\">\n",
              "        \n",
              "  <svg xmlns=\"http://www.w3.org/2000/svg\" height=\"24px\"viewBox=\"0 0 24 24\"\n",
              "       width=\"24px\">\n",
              "    <path d=\"M0 0h24v24H0V0z\" fill=\"none\"/>\n",
              "    <path d=\"M18.56 5.44l.94 2.06.94-2.06 2.06-.94-2.06-.94-.94-2.06-.94 2.06-2.06.94zm-11 1L8.5 8.5l.94-2.06 2.06-.94-2.06-.94L8.5 2.5l-.94 2.06-2.06.94zm10 10l.94 2.06.94-2.06 2.06-.94-2.06-.94-.94-2.06-.94 2.06-2.06.94z\"/><path d=\"M17.41 7.96l-1.37-1.37c-.4-.4-.92-.59-1.43-.59-.52 0-1.04.2-1.43.59L10.3 9.45l-7.72 7.72c-.78.78-.78 2.05 0 2.83L4 21.41c.39.39.9.59 1.41.59.51 0 1.02-.2 1.41-.59l7.78-7.78 2.81-2.81c.8-.78.8-2.07 0-2.86zM5.41 20L4 18.59l7.72-7.72 1.47 1.35L5.41 20z\"/>\n",
              "  </svg>\n",
              "      </button>\n",
              "      \n",
              "  <style>\n",
              "    .colab-df-container {\n",
              "      display:flex;\n",
              "      flex-wrap:wrap;\n",
              "      gap: 12px;\n",
              "    }\n",
              "\n",
              "    .colab-df-convert {\n",
              "      background-color: #E8F0FE;\n",
              "      border: none;\n",
              "      border-radius: 50%;\n",
              "      cursor: pointer;\n",
              "      display: none;\n",
              "      fill: #1967D2;\n",
              "      height: 32px;\n",
              "      padding: 0 0 0 0;\n",
              "      width: 32px;\n",
              "    }\n",
              "\n",
              "    .colab-df-convert:hover {\n",
              "      background-color: #E2EBFA;\n",
              "      box-shadow: 0px 1px 2px rgba(60, 64, 67, 0.3), 0px 1px 3px 1px rgba(60, 64, 67, 0.15);\n",
              "      fill: #174EA6;\n",
              "    }\n",
              "\n",
              "    [theme=dark] .colab-df-convert {\n",
              "      background-color: #3B4455;\n",
              "      fill: #D2E3FC;\n",
              "    }\n",
              "\n",
              "    [theme=dark] .colab-df-convert:hover {\n",
              "      background-color: #434B5C;\n",
              "      box-shadow: 0px 1px 3px 1px rgba(0, 0, 0, 0.15);\n",
              "      filter: drop-shadow(0px 1px 2px rgba(0, 0, 0, 0.3));\n",
              "      fill: #FFFFFF;\n",
              "    }\n",
              "  </style>\n",
              "\n",
              "      <script>\n",
              "        const buttonEl =\n",
              "          document.querySelector('#df-a0161c6e-156f-4444-8496-b4f1f0a2fb1a button.colab-df-convert');\n",
              "        buttonEl.style.display =\n",
              "          google.colab.kernel.accessAllowed ? 'block' : 'none';\n",
              "\n",
              "        async function convertToInteractive(key) {\n",
              "          const element = document.querySelector('#df-a0161c6e-156f-4444-8496-b4f1f0a2fb1a');\n",
              "          const dataTable =\n",
              "            await google.colab.kernel.invokeFunction('convertToInteractive',\n",
              "                                                     [key], {});\n",
              "          if (!dataTable) return;\n",
              "\n",
              "          const docLinkHtml = 'Like what you see? Visit the ' +\n",
              "            '<a target=\"_blank\" href=https://colab.research.google.com/notebooks/data_table.ipynb>data table notebook</a>'\n",
              "            + ' to learn more about interactive tables.';\n",
              "          element.innerHTML = '';\n",
              "          dataTable['output_type'] = 'display_data';\n",
              "          await google.colab.output.renderOutput(dataTable, element);\n",
              "          const docLink = document.createElement('div');\n",
              "          docLink.innerHTML = docLinkHtml;\n",
              "          element.appendChild(docLink);\n",
              "        }\n",
              "      </script>\n",
              "    </div>\n",
              "  </div>\n",
              "  "
            ]
          },
          "metadata": {},
          "execution_count": 91
        }
      ]
    },
    {
      "cell_type": "code",
      "source": [
        "# Use plot styling from seaborn.\n",
        "sns.set(style='darkgrid')\n",
        "\n",
        "# Increase the plot size and font size.\n",
        "sns.set(font_scale=1.5)\n",
        "plt.rcParams[\"figure.figsize\"] = (12,6)\n",
        "\n",
        "# Plot the learning curve.\n",
        "plt.plot(df_stats['Training Loss'], 'b-o', label=\"Training\")\n",
        "plt.plot(df_stats['Valid. Loss'], 'g-o', label=\"Validation\")\n",
        "\n",
        "# Label the plot.\n",
        "plt.title(\"Training & Validation Loss\")\n",
        "plt.xlabel(\"Epoch\")\n",
        "plt.ylabel(\"Loss\")\n",
        "plt.legend()\n",
        "plt.xticks([1, 2, 3, 4])\n",
        "\n",
        "plt.show()"
      ],
      "metadata": {
        "colab": {
          "base_uri": "https://localhost:8080/",
          "height": 583
        },
        "id": "3HIY2mTQILgI",
        "outputId": "bff257e7-ad01-4afb-e335-f757a50b8ae6"
      },
      "execution_count": null,
      "outputs": [
        {
          "output_type": "display_data",
          "data": {
            "text/plain": [
              "<Figure size 1200x600 with 1 Axes>"
            ],
            "image/png": "[encoded data removed]"
          },
          "metadata": {}
        }
      ]
    },
    {
      "cell_type": "code",
      "source": [
        "# Saving best-practices: if you use defaults names for the model, you can reload it using from_pretrained()\n",
        "\n",
        "output_dir = '/content/drive/MyDrive/healthdataset/medquad_model'\n",
        "\n",
        "# Create output directory if needed\n",
        "if not os.path.exists(output_dir):\n",
        "    os.makedirs(output_dir)\n",
        "\n",
        "print(\"Saving model to %s\" % output_dir)\n",
        "\n",
        "# Save a trained model, configuration and tokenizer using `save_pretrained()`.\n",
        "# They can then be reloaded using `from_pretrained()`\n",
        "model_to_save = model.module if hasattr(model, 'module') else model  # Take care of distributed/parallel training\n",
        "model_to_save.save_pretrained(output_dir)\n",
        "tokenizer.save_pretrained(output_dir)\n",
        "\n",
        "# Good practice: save your training arguments together with the trained model\n",
        "# torch.save(args, os.path.join(output_dir, 'training_args.bin'))"
      ],
      "metadata": {
        "colab": {
          "base_uri": "https://localhost:8080/"
        },
        "id": "VkWoBCoTkLsY",
        "outputId": "327f050b-2bf8-46e7-8b2d-6a460f69631a"
      },
      "execution_count": null,
      "outputs": [
        {
          "output_type": "stream",
          "name": "stdout",
          "text": [
            "Saving model to /content/drive/MyDrive/healthdataset/medquad_model\n"
          ]
        },
        {
          "output_type": "execute_result",
          "data": {
            "text/plain": [
              "('/content/drive/MyDrive/healthdataset/medquad_model/tokenizer_config.json',\n",
              " '/content/drive/MyDrive/healthdataset/medquad_model/special_tokens_map.json',\n",
              " '/content/drive/MyDrive/healthdataset/medquad_model/vocab.json',\n",
              " '/content/drive/MyDrive/healthdataset/medquad_model/merges.txt',\n",
              " '/content/drive/MyDrive/healthdataset/medquad_model/added_tokens.json')"
            ]
          },
          "metadata": {},
          "execution_count": 84
        }
      ]
    },
    {
      "cell_type": "markdown",
      "source": [
        "## Model save and evaluate\n"
      ],
      "metadata": {
        "id": "u0E23dHvMk21"
      }
    },
    {
      "cell_type": "code",
      "source": [
        "!pip install transformers"
      ],
      "metadata": {
        "colab": {
          "base_uri": "https://localhost:8080/"
        },
        "id": "wvg4MQTqERon",
        "outputId": "796469ec-f2b6-4099-8d43-7c584c41b753"
      },
      "execution_count": null,
      "outputs": [
        {
          "output_type": "stream",
          "name": "stdout",
          "text": [
            "Looking in indexes: https://pypi.org/simple, https://us-python.pkg.dev/colab-wheels/public/simple/\n",
            "Collecting transformers\n",
            "  Downloading transformers-4.27.4-py3-none-any.whl (6.8 MB)\n",
            "\u001b[2K     \u001b[90m━━━━━━━━━━━━━━━━━━━━━━━━━━━━━━━━━━━━━━━━\u001b[0m \u001b[32m6.8/6.8 MB\u001b[0m \u001b[31m38.5 MB/s\u001b[0m eta \u001b[36m0:00:00\u001b[0m\n",
            "\u001b[?25hRequirement already satisfied: numpy>=1.17 in /usr/local/lib/python3.9/dist-packages (from transformers) (1.22.4)\n",
            "Requirement already satisfied: packaging>=20.0 in /usr/local/lib/python3.9/dist-packages (from transformers) (23.0)\n",
            "Requirement already satisfied: regex!=2019.12.17 in /usr/local/lib/python3.9/dist-packages (from transformers) (2022.10.31)\n",
            "Requirement already satisfied: requests in /usr/local/lib/python3.9/dist-packages (from transformers) (2.27.1)\n",
            "Requirement already satisfied: pyyaml>=5.1 in /usr/local/lib/python3.9/dist-packages (from transformers) (6.0)\n",
            "Requirement already satisfied: filelock in /usr/local/lib/python3.9/dist-packages (from transformers) (3.10.7)\n",
            "Requirement already satisfied: tqdm>=4.27 in /usr/local/lib/python3.9/dist-packages (from transformers) (4.65.0)\n",
            "Collecting huggingface-hub<1.0,>=0.11.0\n",
            "  Downloading huggingface_hub-0.13.3-py3-none-any.whl (199 kB)\n",
            "\u001b[2K     \u001b[90m━━━━━━━━━━━━━━━━━━━━━━━━━━━━━━━━━━━━━━\u001b[0m \u001b[32m199.8/199.8 KB\u001b[0m \u001b[31m22.2 MB/s\u001b[0m eta \u001b[36m0:00:00\u001b[0m\n",
            "\u001b[?25hCollecting tokenizers!=0.11.3,<0.14,>=0.11.1\n",
            "  Downloading tokenizers-0.13.3-cp39-cp39-manylinux_2_17_x86_64.manylinux2014_x86_64.whl (7.8 MB)\n",
            "\u001b[2K     \u001b[90m━━━━━━━━━━━━━━━━━━━━━━━━━━━━━━━━━━━━━━━━\u001b[0m \u001b[32m7.8/7.8 MB\u001b[0m \u001b[31m67.8 MB/s\u001b[0m eta \u001b[36m0:00:00\u001b[0m\n",
            "\u001b[?25hRequirement already satisfied: typing-extensions>=3.7.4.3 in /usr/local/lib/python3.9/dist-packages (from huggingface-hub<1.0,>=0.11.0->transformers) (4.5.0)\n",
            "Requirement already satisfied: charset-normalizer~=2.0.0 in /usr/local/lib/python3.9/dist-packages (from requests->transformers) (2.0.12)\n",
            "Requirement already satisfied: urllib3<1.27,>=1.21.1 in /usr/local/lib/python3.9/dist-packages (from requests->transformers) (1.26.15)\n",
            "Requirement already satisfied: certifi>=2017.4.17 in /usr/local/lib/python3.9/dist-packages (from requests->transformers) (2022.12.7)\n",
            "Requirement already satisfied: idna<4,>=2.5 in /usr/local/lib/python3.9/dist-packages (from requests->transformers) (3.4)\n",
            "Installing collected packages: tokenizers, huggingface-hub, transformers\n",
            "Successfully installed huggingface-hub-0.13.3 tokenizers-0.13.3 transformers-4.27.4\n"
          ]
        }
      ]
    },
    {
      "cell_type": "code",
      "source": [
        "from transformers import GPT2Tokenizer, GPT2LMHeadModel\n",
        "\n",
        "tokenizer = GPT2Tokenizer.from_pretrained('/content/drive/MyDrive/healthdataset/medquad_model')\n",
        "model = GPT2LMHeadModel.from_pretrained('/content/drive/MyDrive/healthdataset/medquad_model')\n"
      ],
      "metadata": {
        "id": "8BFX1qUWdL1X"
      },
      "execution_count": null,
      "outputs": []
    },
    {
      "cell_type": "code",
      "source": [
        "model.eval()\n",
        "result=[]\n",
        "\n",
        "# Prepare the input text\n",
        "input_text = \"shortness of breath is related to asthma\"\n",
        "\n",
        "# Encode the input text using the tokenizer\n",
        "input_ids = tokenizer.encode(input_text, return_tensors='pt')\n",
        "input_ids\n",
        "\n",
        "# Generate the output sequence\n",
        "output = model.generate(input_ids,\n",
        "                                    do_sample=True,   \n",
        "                                    top_k=50, \n",
        "                                    max_length = 100,\n",
        "                                    top_p=0.95,\n",
        "                                    temperature=1,                         \n",
        "                                    num_return_sequences=3)\n",
        "# Decode the output sequence\n",
        "# output = model.generate(input_ids, max_length=1000, do_sample=True)\n",
        "a = []\n",
        "# for i, sample_output in enumerate(output):\n",
        "#   a.append(sample_output)\n",
        "#   print(\"{}: {}\\n\\n\".format(i, tokenizer.decode(sample_output, skip_special_tokens=True)))\n",
        "#   generated_text = tokenizer.decode(sample_output, skip_special_tokens=True)\n",
        "#   # answer = generated_text.replace(sample_output, '').strip()\n",
        "#   # result.append(answer)\n",
        "for i, sample_output in enumerate(output):\n",
        "  a.append(sample_output)\n",
        "  generated_text = tokenizer.decode(sample_output, skip_special_tokens=True)\n",
        "  answer = generated_text.replace(input_text, '').strip()\n",
        "  result.append(answer)"
      ],
      "metadata": {
        "colab": {
          "base_uri": "https://localhost:8080/"
        },
        "id": "lGvLmMP2dGdj",
        "outputId": "202f2bb9-29b9-4766-f51e-39a599d0ee87"
      },
      "execution_count": null,
      "outputs": [
        {
          "output_type": "stream",
          "name": "stderr",
          "text": [
            "The attention mask and the pad token id were not set. As a consequence, you may observe unexpected behavior. Please pass your input's `attention_mask` to obtain reliable results.\n",
            "Setting `pad_token_id` to `eos_token_id`:50256 for open-end generation.\n"
          ]
        }
      ]
    },
    {
      "cell_type": "code",
      "source": [
        "result\n",
        "\n"
      ],
      "metadata": {
        "colab": {
          "base_uri": "https://localhost:8080/"
        },
        "id": "2R8pXJiVBpjM",
        "outputId": "a365ae3c-dc7a-40fa-b294-6d2bc1f395a2"
      },
      "execution_count": null,
      "outputs": [
        {
          "output_type": "execute_result",
          "data": {
            "text/plain": [
              "['and allergy symptoms. This is true even if you have only a single asthma attack. When you have these symptoms and the symptoms are mild asthma attacks are less likely to occur. Although the condition is different than asthma in many cases the allergic reactions to the disease are the same. This is called allergic asthma.',\n",
              " 'inhalation. When your airways are not functioning properly you can inhale too much air. Your nose is the only symptom. Your throat is the only symptom. You could have a bacterial or viral infection. A lung infection can be a skin problem or a allergy. Certain medicines can cause lung infections while other conditions can be life-threatening. The cause of asthma is not known. There is no specific medicine to treat asthma. The medicines have all been tried',\n",
              " 'asthma which causes wheezing or a whistling sound when you breathe. People who have asthma are about two times more likely than nonspics to have asthma.2 However people who have asthma who do not have asthma do not have wheezing. Allergic asthma Aneurysms are small and persistent allergens found in the air. These small particles can wheythe sound of an asthma bottle when you breathe it can be heard from the inside']"
            ]
          },
          "metadata": {},
          "execution_count": 5
        }
      ]
    },
    {
      "cell_type": "code",
      "source": [
        "import numpy as np\n",
        "import torch"
      ],
      "metadata": {
        "id": "rWA76ojJEg0Z"
      },
      "execution_count": null,
      "outputs": []
    },
    {
      "cell_type": "code",
      "source": [
        "\n",
        "perplexity=[]\n",
        "# by using the previous\n",
        "for x in a:\n",
        "  input_ids = x\n",
        "  # print(sample_output)\n",
        "\n",
        "  # Calculate the perplexity of the generated text\n",
        "  loss = model(input_ids, labels=input_ids).loss\n",
        "  perplex = torch.exp(loss)\n",
        "  perplexity.append(perplex.item())\n",
        "best_sentence_index = perplexity.index(min(perplexity))\n",
        "print(result[best_sentence_index])"
      ],
      "metadata": {
        "colab": {
          "base_uri": "https://localhost:8080/"
        },
        "id": "CaP4i864-TZe",
        "outputId": "9ecca0fa-0141-4419-fa06-e088ea2cba6e"
      },
      "execution_count": null,
      "outputs": [
        {
          "output_type": "stream",
          "name": "stdout",
          "text": [
            "inhalation. When your airways are not functioning properly you can inhale too much air. Your nose is the only symptom. Your throat is the only symptom. You could have a bacterial or viral infection. A lung infection can be a skin problem or a allergy. Certain medicines can cause lung infections while other conditions can be life-threatening. The cause of asthma is not known. There is no specific medicine to treat asthma. The medicines have all been tried\n"
          ]
        }
      ]
    },
    {
      "cell_type": "code",
      "source": [
        "perplexity"
      ],
      "metadata": {
        "colab": {
          "base_uri": "https://localhost:8080/"
        },
        "id": "Be17fplSzZGP",
        "outputId": "4d25c1e3-b988-4eb1-d345-849578632e29"
      },
      "execution_count": null,
      "outputs": [
        {
          "output_type": "execute_result",
          "data": {
            "text/plain": [
              "[1.6586989644461323e+20, 6.521430015563965, 6.826442241668701]"
            ]
          },
          "metadata": {},
          "execution_count": 14
        }
      ]
    },
    {
      "cell_type": "code",
      "source": [
        "# givining the values to the perplexity metrix\n",
        "query = input_text\n",
        "generated_sentences = result\n",
        "# Calculate perplexity scores for each generated sentence\n",
        "perplexities = []\n",
        "for sentence in generated_sentences:\n",
        "    input_ids = tokenizer.encode(query + \" \" + sentence, return_tensors=\"pt\")\n",
        "    with torch.no_grad():\n",
        "        logits = model(input_ids)[0]\n",
        "    perplexity = np.exp(torch.mean(torch.nn.functional.cross_entropy(\n",
        "        logits.view(-1, logits.size(-1)), input_ids.view(-1)\n",
        "    ), dim=0))\n",
        "    perplexities.append(perplexity.item())\n",
        "\n",
        "# Select the sentence with the lowest perplexity\n",
        "best_sentence_index = perplexities.index(min(perplexities))\n",
        "best_sentence = generated_sentences[best_sentence_index]\n",
        "print(\"------->>>>best sentences value\",best_sentence)\n",
        "\n",
        "print(\"Query:\", query)\n",
        "print(\"Generated sentences:\")\n",
        "for sentence, perplexity in zip(generated_sentences, perplexities):\n",
        "    print(\"-\" * 50)\n",
        "    print(\"Sentence:\", sentence)\n",
        "    print(\"Perplexity:\", perplexity)\n",
        "print(\"Best sentence:\", best_sentence)\n"
      ],
      "metadata": {
        "id": "0V35os7e0SZ0",
        "colab": {
          "base_uri": "https://localhost:8080/"
        },
        "outputId": "c42f6876-0e0c-47b7-ea60-ea2ac7d5014c"
      },
      "execution_count": null,
      "outputs": [
        {
          "output_type": "stream",
          "name": "stdout",
          "text": [
            "---------->> index of perplexity 0\n",
            "------->>>>best sentences value . It is more common in people who do not have asthma. If you have asthma you are at greater risk for lung diseases like bronchitis inflammation of the bronchi and asthma. In addition you may be at greater risk for more serious lung diseases like pneumonia asthma or lung cancer.\n",
            "Query: shortness of breath is related to asthma\n",
            "Generated sentences:\n",
            "--------------------------------------------------\n",
            "Sentence: . It is more common in people who do not have asthma. If you have asthma you are at greater risk for lung diseases like bronchitis inflammation of the bronchi and asthma. In addition you may be at greater risk for more serious lung diseases like pneumonia asthma or lung cancer.\n",
            "Perplexity: 31846.9296875\n",
            "--------------------------------------------------\n",
            "Sentence: . Asthma is a breathing disorder that causes problems with how the airways work. Most people have asthma. Symptoms may vary in severity. They include wheezing hoarseness and difficulty breathing. Many people have only one symptom. If you have asthma you may not have a problem with how the airways work. Your airways might not work at all. If your asthma symptoms are mild or the cause is unknown the cause may not be known. Your\n",
            "Perplexity: 113475.7265625\n",
            "--------------------------------------------------\n",
            "Sentence: . It is a feeling that air or water loses its ability to move into and out of your lungs. Asthma is a disease in which wheezing is a common and unpleasant feeling. It is often mild and not hard to diagnose. You may not get symptoms until you are very ill or you have repeated respiratory infections that come and go. The symptoms of asthma vary widely among people of all ages. To diagnose asthma doctors use an inhaler -- a device\n",
            "Perplexity: 46595.62109375\n",
            "Best sentence: . It is more common in people who do not have asthma. If you have asthma you are at greater risk for lung diseases like bronchitis inflammation of the bronchi and asthma. In addition you may be at greater risk for more serious lung diseases like pneumonia asthma or lung cancer.\n"
          ]
        }
      ]
    },
    {
      "cell_type": "code",
      "source": [
        "perplexities"
      ],
      "metadata": {
        "colab": {
          "base_uri": "https://localhost:8080/"
        },
        "id": "Ly2jg4PDnWFb",
        "outputId": "3b8f3fe7-4bcc-46c9-b7e5-12de3a36fe88"
      },
      "execution_count": null,
      "outputs": [
        {
          "output_type": "execute_result",
          "data": {
            "text/plain": [
              "[54972.11328125, 123904.1484375, 74472.9453125]"
            ]
          },
          "metadata": {},
          "execution_count": 16
        }
      ]
    },
    {
      "cell_type": "code",
      "source": [],
      "metadata": {
        "id": "TPX8dCUsnYUh"
      },
      "execution_count": null,
      "outputs": []
    }
  ]
}