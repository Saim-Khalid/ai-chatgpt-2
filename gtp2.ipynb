{
  "nbformat": 4,
  "nbformat_minor": 0,
  "metadata": {
    "colab": {
      "provenance": []
    },
    "kernelspec": {
      "name": "python3",
      "display_name": "Python 3"
    },
    "language_info": {
      "name": "python"
    },
    "accelerator": "GPU",
    "gpuClass": "standard",
    "widgets": {
      "application/vnd.jupyter.widget-state+json": {
        "c7e9880135bd4b3daafb3a4c0fc7b2c3": {
          "model_module": "@jupyter-widgets/controls",
          "model_name": "HBoxModel",
          "model_module_version": "1.5.0",
          "state": {
            "_dom_classes": [],
            "_model_module": "@jupyter-widgets/controls",
            "_model_module_version": "1.5.0",
            "_model_name": "HBoxModel",
            "_view_count": null,
            "_view_module": "@jupyter-widgets/controls",
            "_view_module_version": "1.5.0",
            "_view_name": "HBoxView",
            "box_style": "",
            "children": [
              "IPY_MODEL_7297ae6946fd42b59f8cf02ec6971608",
              "IPY_MODEL_4c778bd7b9b24ecda164fec41cf8bc55",
              "IPY_MODEL_cb20c2f7c0bb41fc91d8a8de3c47fe6f"
            ],
            "layout": "IPY_MODEL_ef1049091f4b407c83a5c7a1a738c81b"
          }
        },
        "7297ae6946fd42b59f8cf02ec6971608": {
          "model_module": "@jupyter-widgets/controls",
          "model_name": "HTMLModel",
          "model_module_version": "1.5.0",
          "state": {
            "_dom_classes": [],
            "_model_module": "@jupyter-widgets/controls",
            "_model_module_version": "1.5.0",
            "_model_name": "HTMLModel",
            "_view_count": null,
            "_view_module": "@jupyter-widgets/controls",
            "_view_module_version": "1.5.0",
            "_view_name": "HTMLView",
            "description": "",
            "description_tooltip": null,
            "layout": "IPY_MODEL_48fb4d772be44e299192eace5d011f2a",
            "placeholder": "​",
            "style": "IPY_MODEL_ee9dd110d91945e9871686412ec2bb90",
            "value": "Downloading (…)olve/main/vocab.json: 100%"
          }
        },
        "4c778bd7b9b24ecda164fec41cf8bc55": {
          "model_module": "@jupyter-widgets/controls",
          "model_name": "FloatProgressModel",
          "model_module_version": "1.5.0",
          "state": {
            "_dom_classes": [],
            "_model_module": "@jupyter-widgets/controls",
            "_model_module_version": "1.5.0",
            "_model_name": "FloatProgressModel",
            "_view_count": null,
            "_view_module": "@jupyter-widgets/controls",
            "_view_module_version": "1.5.0",
            "_view_name": "ProgressView",
            "bar_style": "success",
            "description": "",
            "description_tooltip": null,
            "layout": "IPY_MODEL_eba5517322f548b0bfcda3ac3a75f8c8",
            "max": 1042301,
            "min": 0,
            "orientation": "horizontal",
            "style": "IPY_MODEL_298e7841f0914a8cb1f5aa691ec50988",
            "value": 1042301
          }
        },
        "cb20c2f7c0bb41fc91d8a8de3c47fe6f": {
          "model_module": "@jupyter-widgets/controls",
          "model_name": "HTMLModel",
          "model_module_version": "1.5.0",
          "state": {
            "_dom_classes": [],
            "_model_module": "@jupyter-widgets/controls",
            "_model_module_version": "1.5.0",
            "_model_name": "HTMLModel",
            "_view_count": null,
            "_view_module": "@jupyter-widgets/controls",
            "_view_module_version": "1.5.0",
            "_view_name": "HTMLView",
            "description": "",
            "description_tooltip": null,
            "layout": "IPY_MODEL_16f7023500594961bed81fb7b04017c2",
            "placeholder": "​",
            "style": "IPY_MODEL_019d6ec3f97a490dac7b460fee693daa",
            "value": " 1.04M/1.04M [00:00&lt;00:00, 6.84MB/s]"
          }
        },
        "ef1049091f4b407c83a5c7a1a738c81b": {
          "model_module": "@jupyter-widgets/base",
          "model_name": "LayoutModel",
          "model_module_version": "1.2.0",
          "state": {
            "_model_module": "@jupyter-widgets/base",
            "_model_module_version": "1.2.0",
            "_model_name": "LayoutModel",
            "_view_count": null,
            "_view_module": "@jupyter-widgets/base",
            "_view_module_version": "1.2.0",
            "_view_name": "LayoutView",
            "align_content": null,
            "align_items": null,
            "align_self": null,
            "border": null,
            "bottom": null,
            "display": null,
            "flex": null,
            "flex_flow": null,
            "grid_area": null,
            "grid_auto_columns": null,
            "grid_auto_flow": null,
            "grid_auto_rows": null,
            "grid_column": null,
            "grid_gap": null,
            "grid_row": null,
            "grid_template_areas": null,
            "grid_template_columns": null,
            "grid_template_rows": null,
            "height": null,
            "justify_content": null,
            "justify_items": null,
            "left": null,
            "margin": null,
            "max_height": null,
            "max_width": null,
            "min_height": null,
            "min_width": null,
            "object_fit": null,
            "object_position": null,
            "order": null,
            "overflow": null,
            "overflow_x": null,
            "overflow_y": null,
            "padding": null,
            "right": null,
            "top": null,
            "visibility": null,
            "width": null
          }
        },
        "48fb4d772be44e299192eace5d011f2a": {
          "model_module": "@jupyter-widgets/base",
          "model_name": "LayoutModel",
          "model_module_version": "1.2.0",
          "state": {
            "_model_module": "@jupyter-widgets/base",
            "_model_module_version": "1.2.0",
            "_model_name": "LayoutModel",
            "_view_count": null,
            "_view_module": "@jupyter-widgets/base",
            "_view_module_version": "1.2.0",
            "_view_name": "LayoutView",
            "align_content": null,
            "align_items": null,
            "align_self": null,
            "border": null,
            "bottom": null,
            "display": null,
            "flex": null,
            "flex_flow": null,
            "grid_area": null,
            "grid_auto_columns": null,
            "grid_auto_flow": null,
            "grid_auto_rows": null,
            "grid_column": null,
            "grid_gap": null,
            "grid_row": null,
            "grid_template_areas": null,
            "grid_template_columns": null,
            "grid_template_rows": null,
            "height": null,
            "justify_content": null,
            "justify_items": null,
            "left": null,
            "margin": null,
            "max_height": null,
            "max_width": null,
            "min_height": null,
            "min_width": null,
            "object_fit": null,
            "object_position": null,
            "order": null,
            "overflow": null,
            "overflow_x": null,
            "overflow_y": null,
            "padding": null,
            "right": null,
            "top": null,
            "visibility": null,
            "width": null
          }
        },
        "ee9dd110d91945e9871686412ec2bb90": {
          "model_module": "@jupyter-widgets/controls",
          "model_name": "DescriptionStyleModel",
          "model_module_version": "1.5.0",
          "state": {
            "_model_module": "@jupyter-widgets/controls",
            "_model_module_version": "1.5.0",
            "_model_name": "DescriptionStyleModel",
            "_view_count": null,
            "_view_module": "@jupyter-widgets/base",
            "_view_module_version": "1.2.0",
            "_view_name": "StyleView",
            "description_width": ""
          }
        },
        "eba5517322f548b0bfcda3ac3a75f8c8": {
          "model_module": "@jupyter-widgets/base",
          "model_name": "LayoutModel",
          "model_module_version": "1.2.0",
          "state": {
            "_model_module": "@jupyter-widgets/base",
            "_model_module_version": "1.2.0",
            "_model_name": "LayoutModel",
            "_view_count": null,
            "_view_module": "@jupyter-widgets/base",
            "_view_module_version": "1.2.0",
            "_view_name": "LayoutView",
            "align_content": null,
            "align_items": null,
            "align_self": null,
            "border": null,
            "bottom": null,
            "display": null,
            "flex": null,
            "flex_flow": null,
            "grid_area": null,
            "grid_auto_columns": null,
            "grid_auto_flow": null,
            "grid_auto_rows": null,
            "grid_column": null,
            "grid_gap": null,
            "grid_row": null,
            "grid_template_areas": null,
            "grid_template_columns": null,
            "grid_template_rows": null,
            "height": null,
            "justify_content": null,
            "justify_items": null,
            "left": null,
            "margin": null,
            "max_height": null,
            "max_width": null,
            "min_height": null,
            "min_width": null,
            "object_fit": null,
            "object_position": null,
            "order": null,
            "overflow": null,
            "overflow_x": null,
            "overflow_y": null,
            "padding": null,
            "right": null,
            "top": null,
            "visibility": null,
            "width": null
          }
        },
        "298e7841f0914a8cb1f5aa691ec50988": {
          "model_module": "@jupyter-widgets/controls",
          "model_name": "ProgressStyleModel",
          "model_module_version": "1.5.0",
          "state": {
            "_model_module": "@jupyter-widgets/controls",
            "_model_module_version": "1.5.0",
            "_model_name": "ProgressStyleModel",
            "_view_count": null,
            "_view_module": "@jupyter-widgets/base",
            "_view_module_version": "1.2.0",
            "_view_name": "StyleView",
            "bar_color": null,
            "description_width": ""
          }
        },
        "16f7023500594961bed81fb7b04017c2": {
          "model_module": "@jupyter-widgets/base",
          "model_name": "LayoutModel",
          "model_module_version": "1.2.0",
          "state": {
            "_model_module": "@jupyter-widgets/base",
            "_model_module_version": "1.2.0",
            "_model_name": "LayoutModel",
            "_view_count": null,
            "_view_module": "@jupyter-widgets/base",
            "_view_module_version": "1.2.0",
            "_view_name": "LayoutView",
            "align_content": null,
            "align_items": null,
            "align_self": null,
            "border": null,
            "bottom": null,
            "display": null,
            "flex": null,
            "flex_flow": null,
            "grid_area": null,
            "grid_auto_columns": null,
            "grid_auto_flow": null,
            "grid_auto_rows": null,
            "grid_column": null,
            "grid_gap": null,
            "grid_row": null,
            "grid_template_areas": null,
            "grid_template_columns": null,
            "grid_template_rows": null,
            "height": null,
            "justify_content": null,
            "justify_items": null,
            "left": null,
            "margin": null,
            "max_height": null,
            "max_width": null,
            "min_height": null,
            "min_width": null,
            "object_fit": null,
            "object_position": null,
            "order": null,
            "overflow": null,
            "overflow_x": null,
            "overflow_y": null,
            "padding": null,
            "right": null,
            "top": null,
            "visibility": null,
            "width": null
          }
        },
        "019d6ec3f97a490dac7b460fee693daa": {
          "model_module": "@jupyter-widgets/controls",
          "model_name": "DescriptionStyleModel",
          "model_module_version": "1.5.0",
          "state": {
            "_model_module": "@jupyter-widgets/controls",
            "_model_module_version": "1.5.0",
            "_model_name": "DescriptionStyleModel",
            "_view_count": null,
            "_view_module": "@jupyter-widgets/base",
            "_view_module_version": "1.2.0",
            "_view_name": "StyleView",
            "description_width": ""
          }
        },
        "d969877d703444778ee4724e48ac20bc": {
          "model_module": "@jupyter-widgets/controls",
          "model_name": "HBoxModel",
          "model_module_version": "1.5.0",
          "state": {
            "_dom_classes": [],
            "_model_module": "@jupyter-widgets/controls",
            "_model_module_version": "1.5.0",
            "_model_name": "HBoxModel",
            "_view_count": null,
            "_view_module": "@jupyter-widgets/controls",
            "_view_module_version": "1.5.0",
            "_view_name": "HBoxView",
            "box_style": "",
            "children": [
              "IPY_MODEL_d140c054851b402caeb69effa5305185",
              "IPY_MODEL_f4dfa7ca39484d918be2cc73e28f99cc",
              "IPY_MODEL_7f4e5ba620d34af68ff21f75b7d0db90"
            ],
            "layout": "IPY_MODEL_f0c28f875d974870b550732ee2416845"
          }
        },
        "d140c054851b402caeb69effa5305185": {
          "model_module": "@jupyter-widgets/controls",
          "model_name": "HTMLModel",
          "model_module_version": "1.5.0",
          "state": {
            "_dom_classes": [],
            "_model_module": "@jupyter-widgets/controls",
            "_model_module_version": "1.5.0",
            "_model_name": "HTMLModel",
            "_view_count": null,
            "_view_module": "@jupyter-widgets/controls",
            "_view_module_version": "1.5.0",
            "_view_name": "HTMLView",
            "description": "",
            "description_tooltip": null,
            "layout": "IPY_MODEL_dbef027683aa4f168a27c8d17a9df416",
            "placeholder": "​",
            "style": "IPY_MODEL_ebbb5c6fb9d949dba7b5e481bc6818ba",
            "value": "Downloading (…)olve/main/merges.txt: 100%"
          }
        },
        "f4dfa7ca39484d918be2cc73e28f99cc": {
          "model_module": "@jupyter-widgets/controls",
          "model_name": "FloatProgressModel",
          "model_module_version": "1.5.0",
          "state": {
            "_dom_classes": [],
            "_model_module": "@jupyter-widgets/controls",
            "_model_module_version": "1.5.0",
            "_model_name": "FloatProgressModel",
            "_view_count": null,
            "_view_module": "@jupyter-widgets/controls",
            "_view_module_version": "1.5.0",
            "_view_name": "ProgressView",
            "bar_style": "success",
            "description": "",
            "description_tooltip": null,
            "layout": "IPY_MODEL_e4659091f26e439a96498e8ec095e252",
            "max": 456318,
            "min": 0,
            "orientation": "horizontal",
            "style": "IPY_MODEL_784da946653543cda3188e199b98e671",
            "value": 456318
          }
        },
        "7f4e5ba620d34af68ff21f75b7d0db90": {
          "model_module": "@jupyter-widgets/controls",
          "model_name": "HTMLModel",
          "model_module_version": "1.5.0",
          "state": {
            "_dom_classes": [],
            "_model_module": "@jupyter-widgets/controls",
            "_model_module_version": "1.5.0",
            "_model_name": "HTMLModel",
            "_view_count": null,
            "_view_module": "@jupyter-widgets/controls",
            "_view_module_version": "1.5.0",
            "_view_name": "HTMLView",
            "description": "",
            "description_tooltip": null,
            "layout": "IPY_MODEL_579428a2874849b4bfd0c514f32145e9",
            "placeholder": "​",
            "style": "IPY_MODEL_2624f85f9e2a4616a539acf72868f6c5",
            "value": " 456k/456k [00:00&lt;00:00, 2.61MB/s]"
          }
        },
        "f0c28f875d974870b550732ee2416845": {
          "model_module": "@jupyter-widgets/base",
          "model_name": "LayoutModel",
          "model_module_version": "1.2.0",
          "state": {
            "_model_module": "@jupyter-widgets/base",
            "_model_module_version": "1.2.0",
            "_model_name": "LayoutModel",
            "_view_count": null,
            "_view_module": "@jupyter-widgets/base",
            "_view_module_version": "1.2.0",
            "_view_name": "LayoutView",
            "align_content": null,
            "align_items": null,
            "align_self": null,
            "border": null,
            "bottom": null,
            "display": null,
            "flex": null,
            "flex_flow": null,
            "grid_area": null,
            "grid_auto_columns": null,
            "grid_auto_flow": null,
            "grid_auto_rows": null,
            "grid_column": null,
            "grid_gap": null,
            "grid_row": null,
            "grid_template_areas": null,
            "grid_template_columns": null,
            "grid_template_rows": null,
            "height": null,
            "justify_content": null,
            "justify_items": null,
            "left": null,
            "margin": null,
            "max_height": null,
            "max_width": null,
            "min_height": null,
            "min_width": null,
            "object_fit": null,
            "object_position": null,
            "order": null,
            "overflow": null,
            "overflow_x": null,
            "overflow_y": null,
            "padding": null,
            "right": null,
            "top": null,
            "visibility": null,
            "width": null
          }
        },
        "dbef027683aa4f168a27c8d17a9df416": {
          "model_module": "@jupyter-widgets/base",
          "model_name": "LayoutModel",
          "model_module_version": "1.2.0",
          "state": {
            "_model_module": "@jupyter-widgets/base",
            "_model_module_version": "1.2.0",
            "_model_name": "LayoutModel",
            "_view_count": null,
            "_view_module": "@jupyter-widgets/base",
            "_view_module_version": "1.2.0",
            "_view_name": "LayoutView",
            "align_content": null,
            "align_items": null,
            "align_self": null,
            "border": null,
            "bottom": null,
            "display": null,
            "flex": null,
            "flex_flow": null,
            "grid_area": null,
            "grid_auto_columns": null,
            "grid_auto_flow": null,
            "grid_auto_rows": null,
            "grid_column": null,
            "grid_gap": null,
            "grid_row": null,
            "grid_template_areas": null,
            "grid_template_columns": null,
            "grid_template_rows": null,
            "height": null,
            "justify_content": null,
            "justify_items": null,
            "left": null,
            "margin": null,
            "max_height": null,
            "max_width": null,
            "min_height": null,
            "min_width": null,
            "object_fit": null,
            "object_position": null,
            "order": null,
            "overflow": null,
            "overflow_x": null,
            "overflow_y": null,
            "padding": null,
            "right": null,
            "top": null,
            "visibility": null,
            "width": null
          }
        },
        "ebbb5c6fb9d949dba7b5e481bc6818ba": {
          "model_module": "@jupyter-widgets/controls",
          "model_name": "DescriptionStyleModel",
          "model_module_version": "1.5.0",
          "state": {
            "_model_module": "@jupyter-widgets/controls",
            "_model_module_version": "1.5.0",
            "_model_name": "DescriptionStyleModel",
            "_view_count": null,
            "_view_module": "@jupyter-widgets/base",
            "_view_module_version": "1.2.0",
            "_view_name": "StyleView",
            "description_width": ""
          }
        },
        "e4659091f26e439a96498e8ec095e252": {
          "model_module": "@jupyter-widgets/base",
          "model_name": "LayoutModel",
          "model_module_version": "1.2.0",
          "state": {
            "_model_module": "@jupyter-widgets/base",
            "_model_module_version": "1.2.0",
            "_model_name": "LayoutModel",
            "_view_count": null,
            "_view_module": "@jupyter-widgets/base",
            "_view_module_version": "1.2.0",
            "_view_name": "LayoutView",
            "align_content": null,
            "align_items": null,
            "align_self": null,
            "border": null,
            "bottom": null,
            "display": null,
            "flex": null,
            "flex_flow": null,
            "grid_area": null,
            "grid_auto_columns": null,
            "grid_auto_flow": null,
            "grid_auto_rows": null,
            "grid_column": null,
            "grid_gap": null,
            "grid_row": null,
            "grid_template_areas": null,
            "grid_template_columns": null,
            "grid_template_rows": null,
            "height": null,
            "justify_content": null,
            "justify_items": null,
            "left": null,
            "margin": null,
            "max_height": null,
            "max_width": null,
            "min_height": null,
            "min_width": null,
            "object_fit": null,
            "object_position": null,
            "order": null,
            "overflow": null,
            "overflow_x": null,
            "overflow_y": null,
            "padding": null,
            "right": null,
            "top": null,
            "visibility": null,
            "width": null
          }
        },
        "784da946653543cda3188e199b98e671": {
          "model_module": "@jupyter-widgets/controls",
          "model_name": "ProgressStyleModel",
          "model_module_version": "1.5.0",
          "state": {
            "_model_module": "@jupyter-widgets/controls",
            "_model_module_version": "1.5.0",
            "_model_name": "ProgressStyleModel",
            "_view_count": null,
            "_view_module": "@jupyter-widgets/base",
            "_view_module_version": "1.2.0",
            "_view_name": "StyleView",
            "bar_color": null,
            "description_width": ""
          }
        },
        "579428a2874849b4bfd0c514f32145e9": {
          "model_module": "@jupyter-widgets/base",
          "model_name": "LayoutModel",
          "model_module_version": "1.2.0",
          "state": {
            "_model_module": "@jupyter-widgets/base",
            "_model_module_version": "1.2.0",
            "_model_name": "LayoutModel",
            "_view_count": null,
            "_view_module": "@jupyter-widgets/base",
            "_view_module_version": "1.2.0",
            "_view_name": "LayoutView",
            "align_content": null,
            "align_items": null,
            "align_self": null,
            "border": null,
            "bottom": null,
            "display": null,
            "flex": null,
            "flex_flow": null,
            "grid_area": null,
            "grid_auto_columns": null,
            "grid_auto_flow": null,
            "grid_auto_rows": null,
            "grid_column": null,
            "grid_gap": null,
            "grid_row": null,
            "grid_template_areas": null,
            "grid_template_columns": null,
            "grid_template_rows": null,
            "height": null,
            "justify_content": null,
            "justify_items": null,
            "left": null,
            "margin": null,
            "max_height": null,
            "max_width": null,
            "min_height": null,
            "min_width": null,
            "object_fit": null,
            "object_position": null,
            "order": null,
            "overflow": null,
            "overflow_x": null,
            "overflow_y": null,
            "padding": null,
            "right": null,
            "top": null,
            "visibility": null,
            "width": null
          }
        },
        "2624f85f9e2a4616a539acf72868f6c5": {
          "model_module": "@jupyter-widgets/controls",
          "model_name": "DescriptionStyleModel",
          "model_module_version": "1.5.0",
          "state": {
            "_model_module": "@jupyter-widgets/controls",
            "_model_module_version": "1.5.0",
            "_model_name": "DescriptionStyleModel",
            "_view_count": null,
            "_view_module": "@jupyter-widgets/base",
            "_view_module_version": "1.2.0",
            "_view_name": "StyleView",
            "description_width": ""
          }
        },
        "1520ca36584847a5980618a0660a0b92": {
          "model_module": "@jupyter-widgets/controls",
          "model_name": "HBoxModel",
          "model_module_version": "1.5.0",
          "state": {
            "_dom_classes": [],
            "_model_module": "@jupyter-widgets/controls",
            "_model_module_version": "1.5.0",
            "_model_name": "HBoxModel",
            "_view_count": null,
            "_view_module": "@jupyter-widgets/controls",
            "_view_module_version": "1.5.0",
            "_view_name": "HBoxView",
            "box_style": "",
            "children": [
              "IPY_MODEL_09553a85dd014fa89350481f20d229e5",
              "IPY_MODEL_57a19a90b88d40159ace1c45ccdb5b9f",
              "IPY_MODEL_b1439524b3504a27b19d4a1fbe98e537"
            ],
            "layout": "IPY_MODEL_7fa659062a924ebfbb1dacfd807dd795"
          }
        },
        "09553a85dd014fa89350481f20d229e5": {
          "model_module": "@jupyter-widgets/controls",
          "model_name": "HTMLModel",
          "model_module_version": "1.5.0",
          "state": {
            "_dom_classes": [],
            "_model_module": "@jupyter-widgets/controls",
            "_model_module_version": "1.5.0",
            "_model_name": "HTMLModel",
            "_view_count": null,
            "_view_module": "@jupyter-widgets/controls",
            "_view_module_version": "1.5.0",
            "_view_name": "HTMLView",
            "description": "",
            "description_tooltip": null,
            "layout": "IPY_MODEL_641ba2c8499f49f5ba357229c269361b",
            "placeholder": "​",
            "style": "IPY_MODEL_a0fcd425fe9e4dce98429cd288ab552a",
            "value": "Downloading (…)lve/main/config.json: 100%"
          }
        },
        "57a19a90b88d40159ace1c45ccdb5b9f": {
          "model_module": "@jupyter-widgets/controls",
          "model_name": "FloatProgressModel",
          "model_module_version": "1.5.0",
          "state": {
            "_dom_classes": [],
            "_model_module": "@jupyter-widgets/controls",
            "_model_module_version": "1.5.0",
            "_model_name": "FloatProgressModel",
            "_view_count": null,
            "_view_module": "@jupyter-widgets/controls",
            "_view_module_version": "1.5.0",
            "_view_name": "ProgressView",
            "bar_style": "success",
            "description": "",
            "description_tooltip": null,
            "layout": "IPY_MODEL_d259ce9d396244c9a96b8c59d5941214",
            "max": 665,
            "min": 0,
            "orientation": "horizontal",
            "style": "IPY_MODEL_58abc75ff2994e32941f5603eb06ae5d",
            "value": 665
          }
        },
        "b1439524b3504a27b19d4a1fbe98e537": {
          "model_module": "@jupyter-widgets/controls",
          "model_name": "HTMLModel",
          "model_module_version": "1.5.0",
          "state": {
            "_dom_classes": [],
            "_model_module": "@jupyter-widgets/controls",
            "_model_module_version": "1.5.0",
            "_model_name": "HTMLModel",
            "_view_count": null,
            "_view_module": "@jupyter-widgets/controls",
            "_view_module_version": "1.5.0",
            "_view_name": "HTMLView",
            "description": "",
            "description_tooltip": null,
            "layout": "IPY_MODEL_e298420a9b3f4c8eb60792c9ee147b6a",
            "placeholder": "​",
            "style": "IPY_MODEL_9b11da4ab6f44f11a749bdafb608e3f9",
            "value": " 665/665 [00:00&lt;00:00, 19.5kB/s]"
          }
        },
        "7fa659062a924ebfbb1dacfd807dd795": {
          "model_module": "@jupyter-widgets/base",
          "model_name": "LayoutModel",
          "model_module_version": "1.2.0",
          "state": {
            "_model_module": "@jupyter-widgets/base",
            "_model_module_version": "1.2.0",
            "_model_name": "LayoutModel",
            "_view_count": null,
            "_view_module": "@jupyter-widgets/base",
            "_view_module_version": "1.2.0",
            "_view_name": "LayoutView",
            "align_content": null,
            "align_items": null,
            "align_self": null,
            "border": null,
            "bottom": null,
            "display": null,
            "flex": null,
            "flex_flow": null,
            "grid_area": null,
            "grid_auto_columns": null,
            "grid_auto_flow": null,
            "grid_auto_rows": null,
            "grid_column": null,
            "grid_gap": null,
            "grid_row": null,
            "grid_template_areas": null,
            "grid_template_columns": null,
            "grid_template_rows": null,
            "height": null,
            "justify_content": null,
            "justify_items": null,
            "left": null,
            "margin": null,
            "max_height": null,
            "max_width": null,
            "min_height": null,
            "min_width": null,
            "object_fit": null,
            "object_position": null,
            "order": null,
            "overflow": null,
            "overflow_x": null,
            "overflow_y": null,
            "padding": null,
            "right": null,
            "top": null,
            "visibility": null,
            "width": null
          }
        },
        "641ba2c8499f49f5ba357229c269361b": {
          "model_module": "@jupyter-widgets/base",
          "model_name": "LayoutModel",
          "model_module_version": "1.2.0",
          "state": {
            "_model_module": "@jupyter-widgets/base",
            "_model_module_version": "1.2.0",
            "_model_name": "LayoutModel",
            "_view_count": null,
            "_view_module": "@jupyter-widgets/base",
            "_view_module_version": "1.2.0",
            "_view_name": "LayoutView",
            "align_content": null,
            "align_items": null,
            "align_self": null,
            "border": null,
            "bottom": null,
            "display": null,
            "flex": null,
            "flex_flow": null,
            "grid_area": null,
            "grid_auto_columns": null,
            "grid_auto_flow": null,
            "grid_auto_rows": null,
            "grid_column": null,
            "grid_gap": null,
            "grid_row": null,
            "grid_template_areas": null,
            "grid_template_columns": null,
            "grid_template_rows": null,
            "height": null,
            "justify_content": null,
            "justify_items": null,
            "left": null,
            "margin": null,
            "max_height": null,
            "max_width": null,
            "min_height": null,
            "min_width": null,
            "object_fit": null,
            "object_position": null,
            "order": null,
            "overflow": null,
            "overflow_x": null,
            "overflow_y": null,
            "padding": null,
            "right": null,
            "top": null,
            "visibility": null,
            "width": null
          }
        },
        "a0fcd425fe9e4dce98429cd288ab552a": {
          "model_module": "@jupyter-widgets/controls",
          "model_name": "DescriptionStyleModel",
          "model_module_version": "1.5.0",
          "state": {
            "_model_module": "@jupyter-widgets/controls",
            "_model_module_version": "1.5.0",
            "_model_name": "DescriptionStyleModel",
            "_view_count": null,
            "_view_module": "@jupyter-widgets/base",
            "_view_module_version": "1.2.0",
            "_view_name": "StyleView",
            "description_width": ""
          }
        },
        "d259ce9d396244c9a96b8c59d5941214": {
          "model_module": "@jupyter-widgets/base",
          "model_name": "LayoutModel",
          "model_module_version": "1.2.0",
          "state": {
            "_model_module": "@jupyter-widgets/base",
            "_model_module_version": "1.2.0",
            "_model_name": "LayoutModel",
            "_view_count": null,
            "_view_module": "@jupyter-widgets/base",
            "_view_module_version": "1.2.0",
            "_view_name": "LayoutView",
            "align_content": null,
            "align_items": null,
            "align_self": null,
            "border": null,
            "bottom": null,
            "display": null,
            "flex": null,
            "flex_flow": null,
            "grid_area": null,
            "grid_auto_columns": null,
            "grid_auto_flow": null,
            "grid_auto_rows": null,
            "grid_column": null,
            "grid_gap": null,
            "grid_row": null,
            "grid_template_areas": null,
            "grid_template_columns": null,
            "grid_template_rows": null,
            "height": null,
            "justify_content": null,
            "justify_items": null,
            "left": null,
            "margin": null,
            "max_height": null,
            "max_width": null,
            "min_height": null,
            "min_width": null,
            "object_fit": null,
            "object_position": null,
            "order": null,
            "overflow": null,
            "overflow_x": null,
            "overflow_y": null,
            "padding": null,
            "right": null,
            "top": null,
            "visibility": null,
            "width": null
          }
        },
        "58abc75ff2994e32941f5603eb06ae5d": {
          "model_module": "@jupyter-widgets/controls",
          "model_name": "ProgressStyleModel",
          "model_module_version": "1.5.0",
          "state": {
            "_model_module": "@jupyter-widgets/controls",
            "_model_module_version": "1.5.0",
            "_model_name": "ProgressStyleModel",
            "_view_count": null,
            "_view_module": "@jupyter-widgets/base",
            "_view_module_version": "1.2.0",
            "_view_name": "StyleView",
            "bar_color": null,
            "description_width": ""
          }
        },
        "e298420a9b3f4c8eb60792c9ee147b6a": {
          "model_module": "@jupyter-widgets/base",
          "model_name": "LayoutModel",
          "model_module_version": "1.2.0",
          "state": {
            "_model_module": "@jupyter-widgets/base",
            "_model_module_version": "1.2.0",
            "_model_name": "LayoutModel",
            "_view_count": null,
            "_view_module": "@jupyter-widgets/base",
            "_view_module_version": "1.2.0",
            "_view_name": "LayoutView",
            "align_content": null,
            "align_items": null,
            "align_self": null,
            "border": null,
            "bottom": null,
            "display": null,
            "flex": null,
            "flex_flow": null,
            "grid_area": null,
            "grid_auto_columns": null,
            "grid_auto_flow": null,
            "grid_auto_rows": null,
            "grid_column": null,
            "grid_gap": null,
            "grid_row": null,
            "grid_template_areas": null,
            "grid_template_columns": null,
            "grid_template_rows": null,
            "height": null,
            "justify_content": null,
            "justify_items": null,
            "left": null,
            "margin": null,
            "max_height": null,
            "max_width": null,
            "min_height": null,
            "min_width": null,
            "object_fit": null,
            "object_position": null,
            "order": null,
            "overflow": null,
            "overflow_x": null,
            "overflow_y": null,
            "padding": null,
            "right": null,
            "top": null,
            "visibility": null,
            "width": null
          }
        },
        "9b11da4ab6f44f11a749bdafb608e3f9": {
          "model_module": "@jupyter-widgets/controls",
          "model_name": "DescriptionStyleModel",
          "model_module_version": "1.5.0",
          "state": {
            "_model_module": "@jupyter-widgets/controls",
            "_model_module_version": "1.5.0",
            "_model_name": "DescriptionStyleModel",
            "_view_count": null,
            "_view_module": "@jupyter-widgets/base",
            "_view_module_version": "1.2.0",
            "_view_name": "StyleView",
            "description_width": ""
          }
        },
        "e4cab848851f4f45afee4d8cf1a41aa2": {
          "model_module": "@jupyter-widgets/controls",
          "model_name": "HBoxModel",
          "model_module_version": "1.5.0",
          "state": {
            "_dom_classes": [],
            "_model_module": "@jupyter-widgets/controls",
            "_model_module_version": "1.5.0",
            "_model_name": "HBoxModel",
            "_view_count": null,
            "_view_module": "@jupyter-widgets/controls",
            "_view_module_version": "1.5.0",
            "_view_name": "HBoxView",
            "box_style": "",
            "children": [
              "IPY_MODEL_b2d690f209b44f0c8449944da0daa135",
              "IPY_MODEL_d4e75b96246242fcbf4f3abc72a37d1a",
              "IPY_MODEL_86d21ee9b1754367ba3dbf966e3e8e00"
            ],
            "layout": "IPY_MODEL_eccfc62bf7454dd298e41b4cd112e2bf"
          }
        },
        "b2d690f209b44f0c8449944da0daa135": {
          "model_module": "@jupyter-widgets/controls",
          "model_name": "HTMLModel",
          "model_module_version": "1.5.0",
          "state": {
            "_dom_classes": [],
            "_model_module": "@jupyter-widgets/controls",
            "_model_module_version": "1.5.0",
            "_model_name": "HTMLModel",
            "_view_count": null,
            "_view_module": "@jupyter-widgets/controls",
            "_view_module_version": "1.5.0",
            "_view_name": "HTMLView",
            "description": "",
            "description_tooltip": null,
            "layout": "IPY_MODEL_e7752d2132954a4b8595b525d36edae5",
            "placeholder": "​",
            "style": "IPY_MODEL_69749a3409aa41aeaf018abbfe263b5b",
            "value": "Downloading (…)&quot;pytorch_model.bin&quot;;: 100%"
          }
        },
        "d4e75b96246242fcbf4f3abc72a37d1a": {
          "model_module": "@jupyter-widgets/controls",
          "model_name": "FloatProgressModel",
          "model_module_version": "1.5.0",
          "state": {
            "_dom_classes": [],
            "_model_module": "@jupyter-widgets/controls",
            "_model_module_version": "1.5.0",
            "_model_name": "FloatProgressModel",
            "_view_count": null,
            "_view_module": "@jupyter-widgets/controls",
            "_view_module_version": "1.5.0",
            "_view_name": "ProgressView",
            "bar_style": "success",
            "description": "",
            "description_tooltip": null,
            "layout": "IPY_MODEL_259d894b3c98446cb88fd978432d6b52",
            "max": 548118077,
            "min": 0,
            "orientation": "horizontal",
            "style": "IPY_MODEL_98642a51ae0542428fdfa720ee48d351",
            "value": 548118077
          }
        },
        "86d21ee9b1754367ba3dbf966e3e8e00": {
          "model_module": "@jupyter-widgets/controls",
          "model_name": "HTMLModel",
          "model_module_version": "1.5.0",
          "state": {
            "_dom_classes": [],
            "_model_module": "@jupyter-widgets/controls",
            "_model_module_version": "1.5.0",
            "_model_name": "HTMLModel",
            "_view_count": null,
            "_view_module": "@jupyter-widgets/controls",
            "_view_module_version": "1.5.0",
            "_view_name": "HTMLView",
            "description": "",
            "description_tooltip": null,
            "layout": "IPY_MODEL_325f3372f708465886ef1c48933d3cff",
            "placeholder": "​",
            "style": "IPY_MODEL_3fa27720db454d2f910d9860c3ed8a15",
            "value": " 548M/548M [00:04&lt;00:00, 129MB/s]"
          }
        },
        "eccfc62bf7454dd298e41b4cd112e2bf": {
          "model_module": "@jupyter-widgets/base",
          "model_name": "LayoutModel",
          "model_module_version": "1.2.0",
          "state": {
            "_model_module": "@jupyter-widgets/base",
            "_model_module_version": "1.2.0",
            "_model_name": "LayoutModel",
            "_view_count": null,
            "_view_module": "@jupyter-widgets/base",
            "_view_module_version": "1.2.0",
            "_view_name": "LayoutView",
            "align_content": null,
            "align_items": null,
            "align_self": null,
            "border": null,
            "bottom": null,
            "display": null,
            "flex": null,
            "flex_flow": null,
            "grid_area": null,
            "grid_auto_columns": null,
            "grid_auto_flow": null,
            "grid_auto_rows": null,
            "grid_column": null,
            "grid_gap": null,
            "grid_row": null,
            "grid_template_areas": null,
            "grid_template_columns": null,
            "grid_template_rows": null,
            "height": null,
            "justify_content": null,
            "justify_items": null,
            "left": null,
            "margin": null,
            "max_height": null,
            "max_width": null,
            "min_height": null,
            "min_width": null,
            "object_fit": null,
            "object_position": null,
            "order": null,
            "overflow": null,
            "overflow_x": null,
            "overflow_y": null,
            "padding": null,
            "right": null,
            "top": null,
            "visibility": null,
            "width": null
          }
        },
        "e7752d2132954a4b8595b525d36edae5": {
          "model_module": "@jupyter-widgets/base",
          "model_name": "LayoutModel",
          "model_module_version": "1.2.0",
          "state": {
            "_model_module": "@jupyter-widgets/base",
            "_model_module_version": "1.2.0",
            "_model_name": "LayoutModel",
            "_view_count": null,
            "_view_module": "@jupyter-widgets/base",
            "_view_module_version": "1.2.0",
            "_view_name": "LayoutView",
            "align_content": null,
            "align_items": null,
            "align_self": null,
            "border": null,
            "bottom": null,
            "display": null,
            "flex": null,
            "flex_flow": null,
            "grid_area": null,
            "grid_auto_columns": null,
            "grid_auto_flow": null,
            "grid_auto_rows": null,
            "grid_column": null,
            "grid_gap": null,
            "grid_row": null,
            "grid_template_areas": null,
            "grid_template_columns": null,
            "grid_template_rows": null,
            "height": null,
            "justify_content": null,
            "justify_items": null,
            "left": null,
            "margin": null,
            "max_height": null,
            "max_width": null,
            "min_height": null,
            "min_width": null,
            "object_fit": null,
            "object_position": null,
            "order": null,
            "overflow": null,
            "overflow_x": null,
            "overflow_y": null,
            "padding": null,
            "right": null,
            "top": null,
            "visibility": null,
            "width": null
          }
        },
        "69749a3409aa41aeaf018abbfe263b5b": {
          "model_module": "@jupyter-widgets/controls",
          "model_name": "DescriptionStyleModel",
          "model_module_version": "1.5.0",
          "state": {
            "_model_module": "@jupyter-widgets/controls",
            "_model_module_version": "1.5.0",
            "_model_name": "DescriptionStyleModel",
            "_view_count": null,
            "_view_module": "@jupyter-widgets/base",
            "_view_module_version": "1.2.0",
            "_view_name": "StyleView",
            "description_width": ""
          }
        },
        "259d894b3c98446cb88fd978432d6b52": {
          "model_module": "@jupyter-widgets/base",
          "model_name": "LayoutModel",
          "model_module_version": "1.2.0",
          "state": {
            "_model_module": "@jupyter-widgets/base",
            "_model_module_version": "1.2.0",
            "_model_name": "LayoutModel",
            "_view_count": null,
            "_view_module": "@jupyter-widgets/base",
            "_view_module_version": "1.2.0",
            "_view_name": "LayoutView",
            "align_content": null,
            "align_items": null,
            "align_self": null,
            "border": null,
            "bottom": null,
            "display": null,
            "flex": null,
            "flex_flow": null,
            "grid_area": null,
            "grid_auto_columns": null,
            "grid_auto_flow": null,
            "grid_auto_rows": null,
            "grid_column": null,
            "grid_gap": null,
            "grid_row": null,
            "grid_template_areas": null,
            "grid_template_columns": null,
            "grid_template_rows": null,
            "height": null,
            "justify_content": null,
            "justify_items": null,
            "left": null,
            "margin": null,
            "max_height": null,
            "max_width": null,
            "min_height": null,
            "min_width": null,
            "object_fit": null,
            "object_position": null,
            "order": null,
            "overflow": null,
            "overflow_x": null,
            "overflow_y": null,
            "padding": null,
            "right": null,
            "top": null,
            "visibility": null,
            "width": null
          }
        },
        "98642a51ae0542428fdfa720ee48d351": {
          "model_module": "@jupyter-widgets/controls",
          "model_name": "ProgressStyleModel",
          "model_module_version": "1.5.0",
          "state": {
            "_model_module": "@jupyter-widgets/controls",
            "_model_module_version": "1.5.0",
            "_model_name": "ProgressStyleModel",
            "_view_count": null,
            "_view_module": "@jupyter-widgets/base",
            "_view_module_version": "1.2.0",
            "_view_name": "StyleView",
            "bar_color": null,
            "description_width": ""
          }
        },
        "325f3372f708465886ef1c48933d3cff": {
          "model_module": "@jupyter-widgets/base",
          "model_name": "LayoutModel",
          "model_module_version": "1.2.0",
          "state": {
            "_model_module": "@jupyter-widgets/base",
            "_model_module_version": "1.2.0",
            "_model_name": "LayoutModel",
            "_view_count": null,
            "_view_module": "@jupyter-widgets/base",
            "_view_module_version": "1.2.0",
            "_view_name": "LayoutView",
            "align_content": null,
            "align_items": null,
            "align_self": null,
            "border": null,
            "bottom": null,
            "display": null,
            "flex": null,
            "flex_flow": null,
            "grid_area": null,
            "grid_auto_columns": null,
            "grid_auto_flow": null,
            "grid_auto_rows": null,
            "grid_column": null,
            "grid_gap": null,
            "grid_row": null,
            "grid_template_areas": null,
            "grid_template_columns": null,
            "grid_template_rows": null,
            "height": null,
            "justify_content": null,
            "justify_items": null,
            "left": null,
            "margin": null,
            "max_height": null,
            "max_width": null,
            "min_height": null,
            "min_width": null,
            "object_fit": null,
            "object_position": null,
            "order": null,
            "overflow": null,
            "overflow_x": null,
            "overflow_y": null,
            "padding": null,
            "right": null,
            "top": null,
            "visibility": null,
            "width": null
          }
        },
        "3fa27720db454d2f910d9860c3ed8a15": {
          "model_module": "@jupyter-widgets/controls",
          "model_name": "DescriptionStyleModel",
          "model_module_version": "1.5.0",
          "state": {
            "_model_module": "@jupyter-widgets/controls",
            "_model_module_version": "1.5.0",
            "_model_name": "DescriptionStyleModel",
            "_view_count": null,
            "_view_module": "@jupyter-widgets/base",
            "_view_module_version": "1.2.0",
            "_view_name": "StyleView",
            "description_width": ""
          }
        },
        "4ed05ba9090d4636abe6dcfd128f5e81": {
          "model_module": "@jupyter-widgets/controls",
          "model_name": "HBoxModel",
          "model_module_version": "1.5.0",
          "state": {
            "_dom_classes": [],
            "_model_module": "@jupyter-widgets/controls",
            "_model_module_version": "1.5.0",
            "_model_name": "HBoxModel",
            "_view_count": null,
            "_view_module": "@jupyter-widgets/controls",
            "_view_module_version": "1.5.0",
            "_view_name": "HBoxView",
            "box_style": "",
            "children": [
              "IPY_MODEL_710301e52112485e8ba0bb302acc31c1",
              "IPY_MODEL_728be5e7f2c14f3595655241a0d8d2b5",
              "IPY_MODEL_7894b1ef57a141b1bb8a7be623a6cd47"
            ],
            "layout": "IPY_MODEL_03366e126ba84aa08f6f05d0ab6aadbd"
          }
        },
        "710301e52112485e8ba0bb302acc31c1": {
          "model_module": "@jupyter-widgets/controls",
          "model_name": "HTMLModel",
          "model_module_version": "1.5.0",
          "state": {
            "_dom_classes": [],
            "_model_module": "@jupyter-widgets/controls",
            "_model_module_version": "1.5.0",
            "_model_name": "HTMLModel",
            "_view_count": null,
            "_view_module": "@jupyter-widgets/controls",
            "_view_module_version": "1.5.0",
            "_view_name": "HTMLView",
            "description": "",
            "description_tooltip": null,
            "layout": "IPY_MODEL_1ade5c1455df448fbddc949558f0e16c",
            "placeholder": "​",
            "style": "IPY_MODEL_d225026cd08341b689244236b1ecfef3",
            "value": "Downloading (…)neration_config.json: 100%"
          }
        },
        "728be5e7f2c14f3595655241a0d8d2b5": {
          "model_module": "@jupyter-widgets/controls",
          "model_name": "FloatProgressModel",
          "model_module_version": "1.5.0",
          "state": {
            "_dom_classes": [],
            "_model_module": "@jupyter-widgets/controls",
            "_model_module_version": "1.5.0",
            "_model_name": "FloatProgressModel",
            "_view_count": null,
            "_view_module": "@jupyter-widgets/controls",
            "_view_module_version": "1.5.0",
            "_view_name": "ProgressView",
            "bar_style": "success",
            "description": "",
            "description_tooltip": null,
            "layout": "IPY_MODEL_dd8b8bae41514bc6b999e9b024e45f1c",
            "max": 124,
            "min": 0,
            "orientation": "horizontal",
            "style": "IPY_MODEL_71d950b2858240afb861aedf600e3931",
            "value": 124
          }
        },
        "7894b1ef57a141b1bb8a7be623a6cd47": {
          "model_module": "@jupyter-widgets/controls",
          "model_name": "HTMLModel",
          "model_module_version": "1.5.0",
          "state": {
            "_dom_classes": [],
            "_model_module": "@jupyter-widgets/controls",
            "_model_module_version": "1.5.0",
            "_model_name": "HTMLModel",
            "_view_count": null,
            "_view_module": "@jupyter-widgets/controls",
            "_view_module_version": "1.5.0",
            "_view_name": "HTMLView",
            "description": "",
            "description_tooltip": null,
            "layout": "IPY_MODEL_474273269f8e45babd5a1023bce71bd6",
            "placeholder": "​",
            "style": "IPY_MODEL_c9b08399bd6141d387ddd9cba63c90e8",
            "value": " 124/124 [00:00&lt;00:00, 3.24kB/s]"
          }
        },
        "03366e126ba84aa08f6f05d0ab6aadbd": {
          "model_module": "@jupyter-widgets/base",
          "model_name": "LayoutModel",
          "model_module_version": "1.2.0",
          "state": {
            "_model_module": "@jupyter-widgets/base",
            "_model_module_version": "1.2.0",
            "_model_name": "LayoutModel",
            "_view_count": null,
            "_view_module": "@jupyter-widgets/base",
            "_view_module_version": "1.2.0",
            "_view_name": "LayoutView",
            "align_content": null,
            "align_items": null,
            "align_self": null,
            "border": null,
            "bottom": null,
            "display": null,
            "flex": null,
            "flex_flow": null,
            "grid_area": null,
            "grid_auto_columns": null,
            "grid_auto_flow": null,
            "grid_auto_rows": null,
            "grid_column": null,
            "grid_gap": null,
            "grid_row": null,
            "grid_template_areas": null,
            "grid_template_columns": null,
            "grid_template_rows": null,
            "height": null,
            "justify_content": null,
            "justify_items": null,
            "left": null,
            "margin": null,
            "max_height": null,
            "max_width": null,
            "min_height": null,
            "min_width": null,
            "object_fit": null,
            "object_position": null,
            "order": null,
            "overflow": null,
            "overflow_x": null,
            "overflow_y": null,
            "padding": null,
            "right": null,
            "top": null,
            "visibility": null,
            "width": null
          }
        },
        "1ade5c1455df448fbddc949558f0e16c": {
          "model_module": "@jupyter-widgets/base",
          "model_name": "LayoutModel",
          "model_module_version": "1.2.0",
          "state": {
            "_model_module": "@jupyter-widgets/base",
            "_model_module_version": "1.2.0",
            "_model_name": "LayoutModel",
            "_view_count": null,
            "_view_module": "@jupyter-widgets/base",
            "_view_module_version": "1.2.0",
            "_view_name": "LayoutView",
            "align_content": null,
            "align_items": null,
            "align_self": null,
            "border": null,
            "bottom": null,
            "display": null,
            "flex": null,
            "flex_flow": null,
            "grid_area": null,
            "grid_auto_columns": null,
            "grid_auto_flow": null,
            "grid_auto_rows": null,
            "grid_column": null,
            "grid_gap": null,
            "grid_row": null,
            "grid_template_areas": null,
            "grid_template_columns": null,
            "grid_template_rows": null,
            "height": null,
            "justify_content": null,
            "justify_items": null,
            "left": null,
            "margin": null,
            "max_height": null,
            "max_width": null,
            "min_height": null,
            "min_width": null,
            "object_fit": null,
            "object_position": null,
            "order": null,
            "overflow": null,
            "overflow_x": null,
            "overflow_y": null,
            "padding": null,
            "right": null,
            "top": null,
            "visibility": null,
            "width": null
          }
        },
        "d225026cd08341b689244236b1ecfef3": {
          "model_module": "@jupyter-widgets/controls",
          "model_name": "DescriptionStyleModel",
          "model_module_version": "1.5.0",
          "state": {
            "_model_module": "@jupyter-widgets/controls",
            "_model_module_version": "1.5.0",
            "_model_name": "DescriptionStyleModel",
            "_view_count": null,
            "_view_module": "@jupyter-widgets/base",
            "_view_module_version": "1.2.0",
            "_view_name": "StyleView",
            "description_width": ""
          }
        },
        "dd8b8bae41514bc6b999e9b024e45f1c": {
          "model_module": "@jupyter-widgets/base",
          "model_name": "LayoutModel",
          "model_module_version": "1.2.0",
          "state": {
            "_model_module": "@jupyter-widgets/base",
            "_model_module_version": "1.2.0",
            "_model_name": "LayoutModel",
            "_view_count": null,
            "_view_module": "@jupyter-widgets/base",
            "_view_module_version": "1.2.0",
            "_view_name": "LayoutView",
            "align_content": null,
            "align_items": null,
            "align_self": null,
            "border": null,
            "bottom": null,
            "display": null,
            "flex": null,
            "flex_flow": null,
            "grid_area": null,
            "grid_auto_columns": null,
            "grid_auto_flow": null,
            "grid_auto_rows": null,
            "grid_column": null,
            "grid_gap": null,
            "grid_row": null,
            "grid_template_areas": null,
            "grid_template_columns": null,
            "grid_template_rows": null,
            "height": null,
            "justify_content": null,
            "justify_items": null,
            "left": null,
            "margin": null,
            "max_height": null,
            "max_width": null,
            "min_height": null,
            "min_width": null,
            "object_fit": null,
            "object_position": null,
            "order": null,
            "overflow": null,
            "overflow_x": null,
            "overflow_y": null,
            "padding": null,
            "right": null,
            "top": null,
            "visibility": null,
            "width": null
          }
        },
        "71d950b2858240afb861aedf600e3931": {
          "model_module": "@jupyter-widgets/controls",
          "model_name": "ProgressStyleModel",
          "model_module_version": "1.5.0",
          "state": {
            "_model_module": "@jupyter-widgets/controls",
            "_model_module_version": "1.5.0",
            "_model_name": "ProgressStyleModel",
            "_view_count": null,
            "_view_module": "@jupyter-widgets/base",
            "_view_module_version": "1.2.0",
            "_view_name": "StyleView",
            "bar_color": null,
            "description_width": ""
          }
        },
        "474273269f8e45babd5a1023bce71bd6": {
          "model_module": "@jupyter-widgets/base",
          "model_name": "LayoutModel",
          "model_module_version": "1.2.0",
          "state": {
            "_model_module": "@jupyter-widgets/base",
            "_model_module_version": "1.2.0",
            "_model_name": "LayoutModel",
            "_view_count": null,
            "_view_module": "@jupyter-widgets/base",
            "_view_module_version": "1.2.0",
            "_view_name": "LayoutView",
            "align_content": null,
            "align_items": null,
            "align_self": null,
            "border": null,
            "bottom": null,
            "display": null,
            "flex": null,
            "flex_flow": null,
            "grid_area": null,
            "grid_auto_columns": null,
            "grid_auto_flow": null,
            "grid_auto_rows": null,
            "grid_column": null,
            "grid_gap": null,
            "grid_row": null,
            "grid_template_areas": null,
            "grid_template_columns": null,
            "grid_template_rows": null,
            "height": null,
            "justify_content": null,
            "justify_items": null,
            "left": null,
            "margin": null,
            "max_height": null,
            "max_width": null,
            "min_height": null,
            "min_width": null,
            "object_fit": null,
            "object_position": null,
            "order": null,
            "overflow": null,
            "overflow_x": null,
            "overflow_y": null,
            "padding": null,
            "right": null,
            "top": null,
            "visibility": null,
            "width": null
          }
        },
        "c9b08399bd6141d387ddd9cba63c90e8": {
          "model_module": "@jupyter-widgets/controls",
          "model_name": "DescriptionStyleModel",
          "model_module_version": "1.5.0",
          "state": {
            "_model_module": "@jupyter-widgets/controls",
            "_model_module_version": "1.5.0",
            "_model_name": "DescriptionStyleModel",
            "_view_count": null,
            "_view_module": "@jupyter-widgets/base",
            "_view_module_version": "1.2.0",
            "_view_name": "StyleView",
            "description_width": ""
          }
        }
      }
    }
  },
  "cells": [
    {
      "cell_type": "markdown",
      "source": [
        "Importing libraries"
      ],
      "metadata": {
        "id": "px-luHiwH_ub"
      }
    },
    {
      "cell_type": "code",
      "execution_count": 1,
      "metadata": {
        "colab": {
          "base_uri": "https://localhost:8080/"
        },
        "id": "-nbB8LUM2msY",
        "outputId": "e594bd55-6a25-4008-bf4d-577017b900b2"
      },
      "outputs": [
        {
          "output_type": "stream",
          "name": "stdout",
          "text": [
            "Looking in indexes: https://pypi.org/simple, https://us-python.pkg.dev/colab-wheels/public/simple/\n",
            "Collecting transformers\n",
            "  Downloading transformers-4.26.1-py3-none-any.whl (6.3 MB)\n",
            "\u001b[2K     \u001b[90m━━━━━━━━━━━━━━━━━━━━━━━━━━━━━━━━━━━━━━━━\u001b[0m \u001b[32m6.3/6.3 MB\u001b[0m \u001b[31m80.1 MB/s\u001b[0m eta \u001b[36m0:00:00\u001b[0m\n",
            "\u001b[?25hRequirement already satisfied: pyyaml>=5.1 in /usr/local/lib/python3.8/dist-packages (from transformers) (6.0)\n",
            "Requirement already satisfied: packaging>=20.0 in /usr/local/lib/python3.8/dist-packages (from transformers) (23.0)\n",
            "Collecting tokenizers!=0.11.3,<0.14,>=0.11.1\n",
            "  Downloading tokenizers-0.13.2-cp38-cp38-manylinux_2_17_x86_64.manylinux2014_x86_64.whl (7.6 MB)\n",
            "\u001b[2K     \u001b[90m━━━━━━━━━━━━━━━━━━━━━━━━━━━━━━━━━━━━━━━━\u001b[0m \u001b[32m7.6/7.6 MB\u001b[0m \u001b[31m79.6 MB/s\u001b[0m eta \u001b[36m0:00:00\u001b[0m\n",
            "\u001b[?25hCollecting huggingface-hub<1.0,>=0.11.0\n",
            "  Downloading huggingface_hub-0.12.1-py3-none-any.whl (190 kB)\n",
            "\u001b[2K     \u001b[90m━━━━━━━━━━━━━━━━━━━━━━━━━━━━━━━━━━━━━━\u001b[0m \u001b[32m190.3/190.3 KB\u001b[0m \u001b[31m18.0 MB/s\u001b[0m eta \u001b[36m0:00:00\u001b[0m\n",
            "\u001b[?25hRequirement already satisfied: regex!=2019.12.17 in /usr/local/lib/python3.8/dist-packages (from transformers) (2022.6.2)\n",
            "Requirement already satisfied: tqdm>=4.27 in /usr/local/lib/python3.8/dist-packages (from transformers) (4.64.1)\n",
            "Requirement already satisfied: requests in /usr/local/lib/python3.8/dist-packages (from transformers) (2.25.1)\n",
            "Requirement already satisfied: numpy>=1.17 in /usr/local/lib/python3.8/dist-packages (from transformers) (1.21.6)\n",
            "Requirement already satisfied: filelock in /usr/local/lib/python3.8/dist-packages (from transformers) (3.9.0)\n",
            "Requirement already satisfied: typing-extensions>=3.7.4.3 in /usr/local/lib/python3.8/dist-packages (from huggingface-hub<1.0,>=0.11.0->transformers) (4.5.0)\n",
            "Requirement already satisfied: urllib3<1.27,>=1.21.1 in /usr/local/lib/python3.8/dist-packages (from requests->transformers) (1.24.3)\n",
            "Requirement already satisfied: certifi>=2017.4.17 in /usr/local/lib/python3.8/dist-packages (from requests->transformers) (2022.12.7)\n",
            "Requirement already satisfied: idna<3,>=2.5 in /usr/local/lib/python3.8/dist-packages (from requests->transformers) (2.10)\n",
            "Requirement already satisfied: chardet<5,>=3.0.2 in /usr/local/lib/python3.8/dist-packages (from requests->transformers) (4.0.0)\n",
            "Installing collected packages: tokenizers, huggingface-hub, transformers\n",
            "Successfully installed huggingface-hub-0.12.1 tokenizers-0.13.2 transformers-4.26.1\n"
          ]
        }
      ],
      "source": [
        "!pip install transformers"
      ]
    },
    {
      "cell_type": "code",
      "execution_count": 2,
      "metadata": {
        "id": "FsFyOsYn0LiW",
        "colab": {
          "base_uri": "https://localhost:8080/"
        },
        "outputId": "1ba7711d-c76d-449c-eebd-d9f5a64c7ce3"
      },
      "outputs": [
        {
          "output_type": "stream",
          "name": "stdout",
          "text": [
            "/bin/bash: matplotlib: command not found\n"
          ]
        },
        {
          "output_type": "stream",
          "name": "stderr",
          "text": [
            "[nltk_data] Downloading package punkt to /root/nltk_data...\n",
            "[nltk_data]   Unzipping tokenizers/punkt.zip.\n"
          ]
        },
        {
          "output_type": "execute_result",
          "data": {
            "text/plain": [
              "True"
            ]
          },
          "metadata": {},
          "execution_count": 2
        }
      ],
      "source": [
        "import os\n",
        "import time\n",
        "import datetime\n",
        "# from google.colab import drive\n",
        "\n",
        "import pandas as pd\n",
        "import seaborn as sns\n",
        "import numpy as np\n",
        "import random\n",
        "\n",
        "import matplotlib.pyplot as plt\n",
        "!matplotlib inline\n",
        "\n",
        "import torch\n",
        "from torch.utils.data import Dataset, DataLoader, random_split, RandomSampler, SequentialSampler\n",
        "torch.manual_seed(42)\n",
        "\n",
        "from transformers import GPT2LMHeadModel,  GPT2Tokenizer, GPT2Config, GPT2LMHeadModel\n",
        "from transformers import AdamW, get_linear_schedule_with_warmup\n",
        "\n",
        "import nltk\n",
        "nltk.download('punkt')"
      ]
    },
    {
      "cell_type": "markdown",
      "source": [
        "Loading dataset"
      ],
      "metadata": {
        "id": "Ja1kBXzNIIWu"
      }
    },
    {
      "cell_type": "code",
      "source": [
        "# load into a data frame\n",
        "df = pd.read_csv ('/content/drive/MyDrive/train_data_chatbot (1).csv')  \n",
        "# print(df)"
      ],
      "metadata": {
        "id": "7QMusd1ny6au"
      },
      "execution_count": 5,
      "outputs": []
    },
    {
      "cell_type": "code",
      "source": [
        "df.head()"
      ],
      "metadata": {
        "id": "g3QLcWiT1h4g",
        "colab": {
          "base_uri": "https://localhost:8080/",
          "height": 206
        },
        "outputId": "ef515c1a-e9e9-4c7f-95be-a65113a6348d"
      },
      "execution_count": 6,
      "outputs": [
        {
          "output_type": "execute_result",
          "data": {
            "text/plain": [
              "                                      short_question  \\\n",
              "0  can an antibiotic through an iv give you a ras...   \n",
              "1  can you test positive from having the hep b va...   \n",
              "2  what are the dietary restrictions for celiac d...   \n",
              "3  can i transmit genital warts seventeen years a...   \n",
              "4                          is all vitamin d the same   \n",
              "\n",
              "                                        short_answer                   tags  \\\n",
              "0  yes it can even after you have finished the pr...  ['rash' 'antibiotic']   \n",
              "1  test positive for what if you had a hep b vacc...        ['hepatitis b']   \n",
              "2  omitting gluten from the diet is the key to co...     ['celiac disease']   \n",
              "3  yes you could still be pregnant even with the ...               ['wart']   \n",
              "4  most helpful answer hi depending on what time ...          ['vitamin d']   \n",
              "\n",
              "   label  \n",
              "0    1.0  \n",
              "1    1.0  \n",
              "2    1.0  \n",
              "3   -1.0  \n",
              "4   -1.0  "
            ],
            "text/html": [
              "\n",
              "  <div id=\"df-6268b248-e78b-469f-9380-4454f2e2d33b\">\n",
              "    <div class=\"colab-df-container\">\n",
              "      <div>\n",
              "<style scoped>\n",
              "    .dataframe tbody tr th:only-of-type {\n",
              "        vertical-align: middle;\n",
              "    }\n",
              "\n",
              "    .dataframe tbody tr th {\n",
              "        vertical-align: top;\n",
              "    }\n",
              "\n",
              "    .dataframe thead th {\n",
              "        text-align: right;\n",
              "    }\n",
              "</style>\n",
              "<table border=\"1\" class=\"dataframe\">\n",
              "  <thead>\n",
              "    <tr style=\"text-align: right;\">\n",
              "      <th></th>\n",
              "      <th>short_question</th>\n",
              "      <th>short_answer</th>\n",
              "      <th>tags</th>\n",
              "      <th>label</th>\n",
              "    </tr>\n",
              "  </thead>\n",
              "  <tbody>\n",
              "    <tr>\n",
              "      <th>0</th>\n",
              "      <td>can an antibiotic through an iv give you a ras...</td>\n",
              "      <td>yes it can even after you have finished the pr...</td>\n",
              "      <td>['rash' 'antibiotic']</td>\n",
              "      <td>1.0</td>\n",
              "    </tr>\n",
              "    <tr>\n",
              "      <th>1</th>\n",
              "      <td>can you test positive from having the hep b va...</td>\n",
              "      <td>test positive for what if you had a hep b vacc...</td>\n",
              "      <td>['hepatitis b']</td>\n",
              "      <td>1.0</td>\n",
              "    </tr>\n",
              "    <tr>\n",
              "      <th>2</th>\n",
              "      <td>what are the dietary restrictions for celiac d...</td>\n",
              "      <td>omitting gluten from the diet is the key to co...</td>\n",
              "      <td>['celiac disease']</td>\n",
              "      <td>1.0</td>\n",
              "    </tr>\n",
              "    <tr>\n",
              "      <th>3</th>\n",
              "      <td>can i transmit genital warts seventeen years a...</td>\n",
              "      <td>yes you could still be pregnant even with the ...</td>\n",
              "      <td>['wart']</td>\n",
              "      <td>-1.0</td>\n",
              "    </tr>\n",
              "    <tr>\n",
              "      <th>4</th>\n",
              "      <td>is all vitamin d the same</td>\n",
              "      <td>most helpful answer hi depending on what time ...</td>\n",
              "      <td>['vitamin d']</td>\n",
              "      <td>-1.0</td>\n",
              "    </tr>\n",
              "  </tbody>\n",
              "</table>\n",
              "</div>\n",
              "      <button class=\"colab-df-convert\" onclick=\"convertToInteractive('df-6268b248-e78b-469f-9380-4454f2e2d33b')\"\n",
              "              title=\"Convert this dataframe to an interactive table.\"\n",
              "              style=\"display:none;\">\n",
              "        \n",
              "  <svg xmlns=\"http://www.w3.org/2000/svg\" height=\"24px\"viewBox=\"0 0 24 24\"\n",
              "       width=\"24px\">\n",
              "    <path d=\"M0 0h24v24H0V0z\" fill=\"none\"/>\n",
              "    <path d=\"M18.56 5.44l.94 2.06.94-2.06 2.06-.94-2.06-.94-.94-2.06-.94 2.06-2.06.94zm-11 1L8.5 8.5l.94-2.06 2.06-.94-2.06-.94L8.5 2.5l-.94 2.06-2.06.94zm10 10l.94 2.06.94-2.06 2.06-.94-2.06-.94-.94-2.06-.94 2.06-2.06.94z\"/><path d=\"M17.41 7.96l-1.37-1.37c-.4-.4-.92-.59-1.43-.59-.52 0-1.04.2-1.43.59L10.3 9.45l-7.72 7.72c-.78.78-.78 2.05 0 2.83L4 21.41c.39.39.9.59 1.41.59.51 0 1.02-.2 1.41-.59l7.78-7.78 2.81-2.81c.8-.78.8-2.07 0-2.86zM5.41 20L4 18.59l7.72-7.72 1.47 1.35L5.41 20z\"/>\n",
              "  </svg>\n",
              "      </button>\n",
              "      \n",
              "  <style>\n",
              "    .colab-df-container {\n",
              "      display:flex;\n",
              "      flex-wrap:wrap;\n",
              "      gap: 12px;\n",
              "    }\n",
              "\n",
              "    .colab-df-convert {\n",
              "      background-color: #E8F0FE;\n",
              "      border: none;\n",
              "      border-radius: 50%;\n",
              "      cursor: pointer;\n",
              "      display: none;\n",
              "      fill: #1967D2;\n",
              "      height: 32px;\n",
              "      padding: 0 0 0 0;\n",
              "      width: 32px;\n",
              "    }\n",
              "\n",
              "    .colab-df-convert:hover {\n",
              "      background-color: #E2EBFA;\n",
              "      box-shadow: 0px 1px 2px rgba(60, 64, 67, 0.3), 0px 1px 3px 1px rgba(60, 64, 67, 0.15);\n",
              "      fill: #174EA6;\n",
              "    }\n",
              "\n",
              "    [theme=dark] .colab-df-convert {\n",
              "      background-color: #3B4455;\n",
              "      fill: #D2E3FC;\n",
              "    }\n",
              "\n",
              "    [theme=dark] .colab-df-convert:hover {\n",
              "      background-color: #434B5C;\n",
              "      box-shadow: 0px 1px 3px 1px rgba(0, 0, 0, 0.15);\n",
              "      filter: drop-shadow(0px 1px 2px rgba(0, 0, 0, 0.3));\n",
              "      fill: #FFFFFF;\n",
              "    }\n",
              "  </style>\n",
              "\n",
              "      <script>\n",
              "        const buttonEl =\n",
              "          document.querySelector('#df-6268b248-e78b-469f-9380-4454f2e2d33b button.colab-df-convert');\n",
              "        buttonEl.style.display =\n",
              "          google.colab.kernel.accessAllowed ? 'block' : 'none';\n",
              "\n",
              "        async function convertToInteractive(key) {\n",
              "          const element = document.querySelector('#df-6268b248-e78b-469f-9380-4454f2e2d33b');\n",
              "          const dataTable =\n",
              "            await google.colab.kernel.invokeFunction('convertToInteractive',\n",
              "                                                     [key], {});\n",
              "          if (!dataTable) return;\n",
              "\n",
              "          const docLinkHtml = 'Like what you see? Visit the ' +\n",
              "            '<a target=\"_blank\" href=https://colab.research.google.com/notebooks/data_table.ipynb>data table notebook</a>'\n",
              "            + ' to learn more about interactive tables.';\n",
              "          element.innerHTML = '';\n",
              "          dataTable['output_type'] = 'display_data';\n",
              "          await google.colab.output.renderOutput(dataTable, element);\n",
              "          const docLink = document.createElement('div');\n",
              "          docLink.innerHTML = docLinkHtml;\n",
              "          element.appendChild(docLink);\n",
              "        }\n",
              "      </script>\n",
              "    </div>\n",
              "  </div>\n",
              "  "
            ]
          },
          "metadata": {},
          "execution_count": 6
        }
      ]
    },
    {
      "cell_type": "markdown",
      "source": [
        "Cleaning dataset"
      ],
      "metadata": {
        "id": "TzcDsLR0IKtN"
      }
    },
    {
      "cell_type": "code",
      "source": [
        "df['short_answer']"
      ],
      "metadata": {
        "id": "XKLezsu21lsn",
        "colab": {
          "base_uri": "https://localhost:8080/"
        },
        "outputId": "e61d4891-699a-4aa2-c794-1ad3cd126d57"
      },
      "execution_count": 7,
      "outputs": [
        {
          "output_type": "execute_result",
          "data": {
            "text/plain": [
              "0        yes it can even after you have finished the pr...\n",
              "1        test positive for what if you had a hep b vacc...\n",
              "2        omitting gluten from the diet is the key to co...\n",
              "3        yes you could still be pregnant even with the ...\n",
              "4        most helpful answer hi depending on what time ...\n",
              "                               ...                        \n",
              "47598    have you tried some self help books or interne...\n",
              "47599    in general it is best to discuss with your the...\n",
              "47600                                                 5050\n",
              "47601    hi if it is painless and if there are no palpa...\n",
              "47602    angiotensin ii receptor blockers arbs is a gro...\n",
              "Name: short_answer, Length: 47603, dtype: object"
            ]
          },
          "metadata": {},
          "execution_count": 7
        }
      ]
    },
    {
      "cell_type": "code",
      "source": [
        "\n",
        "df_answer = df[df['label'] == 1]['short_answer']\n"
      ],
      "metadata": {
        "id": "y7b38ovK1z9J"
      },
      "execution_count": 8,
      "outputs": []
    },
    {
      "cell_type": "code",
      "source": [
        "bios = df_answer[:20000] #just use the main bio text in this example\n",
        "bios"
      ],
      "metadata": {
        "id": "p1IJ_pJZ3ULE",
        "colab": {
          "base_uri": "https://localhost:8080/"
        },
        "outputId": "89fe8303-c016-4003-feaa-ea63d097758d"
      },
      "execution_count": 9,
      "outputs": [
        {
          "output_type": "execute_result",
          "data": {
            "text/plain": [
              "0        yes it can even after you have finished the pr...\n",
              "1        test positive for what if you had a hep b vacc...\n",
              "2        omitting gluten from the diet is the key to co...\n",
              "8        you can always catch an illness from a child b...\n",
              "10       hi one of ours did that she is now 47 and a mu...\n",
              "                               ...                        \n",
              "39926    i am sorry to know about your problem frequent...\n",
              "39928    there are two issues which every patient needs...\n",
              "39930    a dry powder inhaler dpi is a device for inhal...\n",
              "39931    hi even though i still think your both just a ...\n",
              "39933    i would recommend an evaluation by an otolaryn...\n",
              "Name: short_answer, Length: 20000, dtype: object"
            ]
          },
          "metadata": {},
          "execution_count": 9
        }
      ]
    },
    {
      "cell_type": "code",
      "source": [
        "doc_lengths = []\n",
        "\n",
        "for bio in bios:\n",
        "\n",
        "    # get rough token count distribution\n",
        "    tokens = nltk.word_tokenize(bio)\n",
        "\n",
        "    doc_lengths.append(len(tokens))\n",
        "\n",
        "doc_lengths = np.array(doc_lengths)\n",
        "\n",
        "sns.distplot(doc_lengths)"
      ],
      "metadata": {
        "id": "XiD10oaC3Btp",
        "colab": {
          "base_uri": "https://localhost:8080/",
          "height": 337
        },
        "outputId": "bb93ba73-4334-478d-d28d-c016ae7ce048"
      },
      "execution_count": 10,
      "outputs": [
        {
          "output_type": "stream",
          "name": "stderr",
          "text": [
            "/usr/local/lib/python3.8/dist-packages/seaborn/distributions.py:2619: FutureWarning: `distplot` is a deprecated function and will be removed in a future version. Please adapt your code to use either `displot` (a figure-level function with similar flexibility) or `histplot` (an axes-level function for histograms).\n",
            "  warnings.warn(msg, FutureWarning)\n"
          ]
        },
        {
          "output_type": "execute_result",
          "data": {
            "text/plain": [
              "<matplotlib.axes._subplots.AxesSubplot at 0x7f1925da8a60>"
            ]
          },
          "metadata": {},
          "execution_count": 10
        },
        {
          "output_type": "display_data",
          "data": {
            "text/plain": [
              "<Figure size 432x288 with 1 Axes>"
            ],
            "image/png": "[encoded data removed]"
          },
          "metadata": {
            "needs_background": "light"
          }
        }
      ]
    },
    {
      "cell_type": "code",
      "source": [
        "# the max token length   \n",
        "len(doc_lengths[doc_lengths >100])/len(doc_lengths)"
      ],
      "metadata": {
        "id": "LjnM7VP63YWI",
        "colab": {
          "base_uri": "https://localhost:8080/"
        },
        "outputId": "aca4736e-4c2c-45fd-9202-d4f20a37e0fa"
      },
      "execution_count": 13,
      "outputs": [
        {
          "output_type": "execute_result",
          "data": {
            "text/plain": [
              "0.2939"
            ]
          },
          "metadata": {},
          "execution_count": 13
        }
      ]
    },
    {
      "cell_type": "code",
      "source": [
        "np.average(doc_lengths)\n"
      ],
      "metadata": {
        "id": "6iv0Dwlx3rhl",
        "colab": {
          "base_uri": "https://localhost:8080/"
        },
        "outputId": "5ba6e431-48bd-407a-d3ca-c0717c82a9c9"
      },
      "execution_count": 14,
      "outputs": [
        {
          "output_type": "execute_result",
          "data": {
            "text/plain": [
              "91.22445"
            ]
          },
          "metadata": {},
          "execution_count": 14
        }
      ]
    },
    {
      "cell_type": "markdown",
      "source": [
        "Load GPT2 tokenizer"
      ],
      "metadata": {
        "id": "Ghseyk_wIQti"
      }
    },
    {
      "cell_type": "code",
      "source": [
        "\n",
        "# Load the GPT tokenizer.\n",
        "tokenizer = GPT2Tokenizer.from_pretrained('gpt2', bos_token='<|startoftext|>', eos_token='<|endoftext|>', pad_token='<|pad|>') #gpt2-medium"
      ],
      "metadata": {
        "id": "aBRyWYu631PZ",
        "colab": {
          "base_uri": "https://localhost:8080/",
          "height": 130,
          "referenced_widgets": [
            "c7e9880135bd4b3daafb3a4c0fc7b2c3",
            "7297ae6946fd42b59f8cf02ec6971608",
            "4c778bd7b9b24ecda164fec41cf8bc55",
            "cb20c2f7c0bb41fc91d8a8de3c47fe6f",
            "ef1049091f4b407c83a5c7a1a738c81b",
            "48fb4d772be44e299192eace5d011f2a",
            "ee9dd110d91945e9871686412ec2bb90",
            "eba5517322f548b0bfcda3ac3a75f8c8",
            "298e7841f0914a8cb1f5aa691ec50988",
            "16f7023500594961bed81fb7b04017c2",
            "019d6ec3f97a490dac7b460fee693daa",
            "d969877d703444778ee4724e48ac20bc",
            "d140c054851b402caeb69effa5305185",
            "f4dfa7ca39484d918be2cc73e28f99cc",
            "7f4e5ba620d34af68ff21f75b7d0db90",
            "f0c28f875d974870b550732ee2416845",
            "dbef027683aa4f168a27c8d17a9df416",
            "ebbb5c6fb9d949dba7b5e481bc6818ba",
            "e4659091f26e439a96498e8ec095e252",
            "784da946653543cda3188e199b98e671",
            "579428a2874849b4bfd0c514f32145e9",
            "2624f85f9e2a4616a539acf72868f6c5",
            "1520ca36584847a5980618a0660a0b92",
            "09553a85dd014fa89350481f20d229e5",
            "57a19a90b88d40159ace1c45ccdb5b9f",
            "b1439524b3504a27b19d4a1fbe98e537",
            "7fa659062a924ebfbb1dacfd807dd795",
            "641ba2c8499f49f5ba357229c269361b",
            "a0fcd425fe9e4dce98429cd288ab552a",
            "d259ce9d396244c9a96b8c59d5941214",
            "58abc75ff2994e32941f5603eb06ae5d",
            "e298420a9b3f4c8eb60792c9ee147b6a",
            "9b11da4ab6f44f11a749bdafb608e3f9"
          ]
        },
        "outputId": "e7550c70-fa1f-4d12-f021-f4796d2bd01b"
      },
      "execution_count": 15,
      "outputs": [
        {
          "output_type": "display_data",
          "data": {
            "text/plain": [
              "Downloading (…)olve/main/vocab.json:   0%|          | 0.00/1.04M [00:00<?, ?B/s]"
            ],
            "application/vnd.jupyter.widget-view+json": {
              "version_major": 2,
              "version_minor": 0,
              "model_id": "c7e9880135bd4b3daafb3a4c0fc7b2c3"
            }
          },
          "metadata": {}
        },
        {
          "output_type": "display_data",
          "data": {
            "text/plain": [
              "Downloading (…)olve/main/merges.txt:   0%|          | 0.00/456k [00:00<?, ?B/s]"
            ],
            "application/vnd.jupyter.widget-view+json": {
              "version_major": 2,
              "version_minor": 0,
              "model_id": "d969877d703444778ee4724e48ac20bc"
            }
          },
          "metadata": {}
        },
        {
          "output_type": "display_data",
          "data": {
            "text/plain": [
              "Downloading (…)lve/main/config.json:   0%|          | 0.00/665 [00:00<?, ?B/s]"
            ],
            "application/vnd.jupyter.widget-view+json": {
              "version_major": 2,
              "version_minor": 0,
              "model_id": "1520ca36584847a5980618a0660a0b92"
            }
          },
          "metadata": {}
        },
        {
          "output_type": "stream",
          "name": "stderr",
          "text": [
            "Special tokens have been added in the vocabulary, make sure the associated word embeddings are fine-tuned or trained.\n"
          ]
        }
      ]
    },
    {
      "cell_type": "code",
      "source": [
        "\n",
        "print(\"The max model length is {} for this model, although the actual embedding size for GPT small is 768\".format(tokenizer.model_max_length))\n",
        "print(\"The beginning of sequence token {} token has the id {}\".format(tokenizer.convert_ids_to_tokens(tokenizer.bos_token_id), tokenizer.bos_token_id))\n",
        "print(\"The end of sequence token {} has the id {}\".format(tokenizer.convert_ids_to_tokens(tokenizer.eos_token_id), tokenizer.eos_token_id))\n",
        "print(\"The padding token {} has the id {}\".format(tokenizer.convert_ids_to_tokens(tokenizer.pad_token_id), tokenizer.pad_token_id))"
      ],
      "metadata": {
        "id": "f5SBwV2y35oo",
        "colab": {
          "base_uri": "https://localhost:8080/"
        },
        "outputId": "54a7746f-abd0-4cc0-c4f7-382bd1a128d4"
      },
      "execution_count": 16,
      "outputs": [
        {
          "output_type": "stream",
          "name": "stdout",
          "text": [
            "The max model length is 1024 for this model, although the actual embedding size for GPT small is 768\n",
            "The beginning of sequence token <|startoftext|> token has the id 50257\n",
            "The end of sequence token <|endoftext|> has the id 50256\n",
            "The padding token <|pad|> has the id 50258\n"
          ]
        }
      ]
    },
    {
      "cell_type": "code",
      "source": [
        "batch_size =8\n"
      ],
      "metadata": {
        "id": "94_6wtb44ENS"
      },
      "execution_count": 17,
      "outputs": []
    },
    {
      "cell_type": "code",
      "source": [
        "class GPT2Dataset(Dataset):\n",
        "\n",
        "  def __init__(self, txt_list, tokenizer, gpt2_type=\"gpt2\", max_length=80):\n",
        "\n",
        "    self.tokenizer = tokenizer\n",
        "    self.input_ids = []\n",
        "    self.attn_masks = []\n",
        "\n",
        "    for txt in txt_list:\n",
        "      \n",
        "\n",
        "      encodings_dict = tokenizer('<|startoftext|>'+ txt + '<|endoftext|>', truncation=True, max_length=max_length, padding=\"max_length\")\n",
        "      # print(encodings_dict)\n",
        "\n",
        "      self.input_ids.append(torch.tensor(encodings_dict['input_ids']))\n",
        "      self.attn_masks.append(torch.tensor(encodings_dict['attention_mask']))\n",
        "    \n",
        "  def __len__(self):\n",
        "    return len(self.input_ids)\n",
        "\n",
        "  def __getitem__(self, idx):\n",
        "    return self.input_ids[idx], self.attn_masks[idx] "
      ],
      "metadata": {
        "id": "8L23fXF-4Swq"
      },
      "execution_count": 18,
      "outputs": []
    },
    {
      "cell_type": "code",
      "source": [
        "dataset = GPT2Dataset(bios, tokenizer, max_length=80)\n",
        "\n",
        "# Split into training and validation sets\n",
        "train_size = int(0.9 * len(dataset))\n",
        "val_size = len(dataset) - train_size\n",
        "\n",
        "train_dataset, val_dataset = random_split(dataset, [train_size, val_size])\n",
        "\n",
        "print('{:>5,} training samples'.format(train_size))\n",
        "print('{:>5,} validation samples'.format(val_size))"
      ],
      "metadata": {
        "id": "sysxl-Wm4hQ2",
        "colab": {
          "base_uri": "https://localhost:8080/"
        },
        "outputId": "6cfb2035-9508-4719-9c75-245e8ce118c5"
      },
      "execution_count": 19,
      "outputs": [
        {
          "output_type": "stream",
          "name": "stdout",
          "text": [
            "18,000 training samples\n",
            "2,000 validation samples\n"
          ]
        }
      ]
    },
    {
      "cell_type": "code",
      "source": [
        "# Create the DataLoaders for our training and validation datasets.\n",
        "# We'll take training samples in random order. \n",
        "train_dataloader = DataLoader(\n",
        "            train_dataset,  # The training samples.\n",
        "            sampler = RandomSampler(train_dataset), # Select batches randomly\n",
        "            batch_size = batch_size # Trains with this batch size.\n",
        "        )\n",
        "\n",
        "# For validation the order doesn't matter, so we'll just read them sequentially.\n",
        "validation_dataloader = DataLoader(\n",
        "            val_dataset, # The validation samples.\n",
        "            sampler = SequentialSampler(val_dataset), # Pull out batches sequentially.\n",
        "            batch_size = batch_size # Evaluate with this batch size.\n",
        "        )"
      ],
      "metadata": {
        "id": "2ijwsTK-4ouv"
      },
      "execution_count": 20,
      "outputs": []
    },
    {
      "cell_type": "markdown",
      "source": [
        "Load pretain GPT2 model"
      ],
      "metadata": {
        "id": "r2zpjnTaIgq6"
      }
    },
    {
      "cell_type": "code",
      "source": [
        "# I'm not really doing anything with the config buheret\n",
        "configuration = GPT2Config.from_pretrained('gpt2', output_hidden_states=False)\n",
        "\n",
        "\n",
        "# instantiate the model\n",
        "model = GPT2LMHeadModel.from_pretrained(\"gpt2\", config=configuration)\n",
        "\n",
        "model.resize_token_embeddings(len(tokenizer))\n",
        "\n",
        "# Tell pytorch to run this model on the GPU.\n",
        "device = torch.device(\"cuda\")\n",
        "model.cuda()\n",
        "\n",
        "# Set the seed value all over the place to make this reproducible.\n",
        "seed_val = 42\n",
        "\n",
        "random.seed(seed_val)\n",
        "np.random.seed(seed_val)\n",
        "torch.manual_seed(seed_val)\n",
        "torch.cuda.manual_seed_all(seed_val)"
      ],
      "metadata": {
        "id": "73F4uqD2454k",
        "colab": {
          "base_uri": "https://localhost:8080/",
          "height": 81,
          "referenced_widgets": [
            "e4cab848851f4f45afee4d8cf1a41aa2",
            "b2d690f209b44f0c8449944da0daa135",
            "d4e75b96246242fcbf4f3abc72a37d1a",
            "86d21ee9b1754367ba3dbf966e3e8e00",
            "eccfc62bf7454dd298e41b4cd112e2bf",
            "e7752d2132954a4b8595b525d36edae5",
            "69749a3409aa41aeaf018abbfe263b5b",
            "259d894b3c98446cb88fd978432d6b52",
            "98642a51ae0542428fdfa720ee48d351",
            "325f3372f708465886ef1c48933d3cff",
            "3fa27720db454d2f910d9860c3ed8a15",
            "4ed05ba9090d4636abe6dcfd128f5e81",
            "710301e52112485e8ba0bb302acc31c1",
            "728be5e7f2c14f3595655241a0d8d2b5",
            "7894b1ef57a141b1bb8a7be623a6cd47",
            "03366e126ba84aa08f6f05d0ab6aadbd",
            "1ade5c1455df448fbddc949558f0e16c",
            "d225026cd08341b689244236b1ecfef3",
            "dd8b8bae41514bc6b999e9b024e45f1c",
            "71d950b2858240afb861aedf600e3931",
            "474273269f8e45babd5a1023bce71bd6",
            "c9b08399bd6141d387ddd9cba63c90e8"
          ]
        },
        "outputId": "f3d75b87-9aef-4022-9947-9efa7f1eeefe"
      },
      "execution_count": 21,
      "outputs": [
        {
          "output_type": "display_data",
          "data": {
            "text/plain": [
              "Downloading (…)\"pytorch_model.bin\";:   0%|          | 0.00/548M [00:00<?, ?B/s]"
            ],
            "application/vnd.jupyter.widget-view+json": {
              "version_major": 2,
              "version_minor": 0,
              "model_id": "e4cab848851f4f45afee4d8cf1a41aa2"
            }
          },
          "metadata": {}
        },
        {
          "output_type": "display_data",
          "data": {
            "text/plain": [
              "Downloading (…)neration_config.json:   0%|          | 0.00/124 [00:00<?, ?B/s]"
            ],
            "application/vnd.jupyter.widget-view+json": {
              "version_major": 2,
              "version_minor": 0,
              "model_id": "4ed05ba9090d4636abe6dcfd128f5e81"
            }
          },
          "metadata": {}
        }
      ]
    },
    {
      "cell_type": "markdown",
      "source": [
        "Setting parameters"
      ],
      "metadata": {
        "id": "YIgOc8mOIljI"
      }
    },
    {
      "cell_type": "code",
      "source": [
        "# some parameters I cooked up that work reasonably well\n",
        "\n",
        "epochs = 4\n",
        "learning_rate = 5e-4\n",
        "warmup_steps = 1e2\n",
        "epsilon = 1e-8\n",
        "\n",
        "# this produces sample output every 100 steps\n",
        "sample_every = 100"
      ],
      "metadata": {
        "id": "y1CuySbf7IVD"
      },
      "execution_count": 22,
      "outputs": []
    },
    {
      "cell_type": "code",
      "source": [
        "# Note: AdamW is a class from the huggingface library (as opposed to pytorch) \n",
        "optimizer = AdamW(model.parameters(),\n",
        "                  lr = learning_rate,\n",
        "                  eps = epsilon\n",
        "                )"
      ],
      "metadata": {
        "id": "UdVq6P5n7w8H",
        "colab": {
          "base_uri": "https://localhost:8080/"
        },
        "outputId": "35a0d4f0-10c1-411a-cb1e-927cede79acc"
      },
      "execution_count": 23,
      "outputs": [
        {
          "output_type": "stream",
          "name": "stderr",
          "text": [
            "/usr/local/lib/python3.8/dist-packages/transformers/optimization.py:306: FutureWarning: This implementation of AdamW is deprecated and will be removed in a future version. Use the PyTorch implementation torch.optim.AdamW instead, or set `no_deprecation_warning=True` to disable this warning\n",
            "  warnings.warn(\n"
          ]
        }
      ]
    },
    {
      "cell_type": "code",
      "source": [
        "# Total number of training steps is [number of batches] x [number of epochs]. \n",
        "# (Note that this is not the same as the number of training samples).\n",
        "total_steps = len(train_dataloader) * epochs\n",
        "\n",
        "# Create the learning rate scheduler.\n",
        "# This changes the learning rate as the training loop progresses\n",
        "scheduler = get_linear_schedule_with_warmup(optimizer, \n",
        "                                            num_warmup_steps = warmup_steps, \n",
        "                                            num_training_steps = total_steps)"
      ],
      "metadata": {
        "id": "QmPTNakf7zk7"
      },
      "execution_count": 24,
      "outputs": []
    },
    {
      "cell_type": "code",
      "source": [
        "def format_time(elapsed):\n",
        "    return str(datetime.timedelta(seconds=int(round((elapsed)))))"
      ],
      "metadata": {
        "id": "Ndgb7Dqn72ux"
      },
      "execution_count": 25,
      "outputs": []
    },
    {
      "cell_type": "code",
      "source": [
        "total_t0 = time.time()\n",
        "\n",
        "training_stats = []\n",
        "\n",
        "model = model.to(device)\n",
        "\n",
        "for epoch_i in range(0, epochs):\n",
        "  \n",
        "    # ========================================\n",
        "    #               Training\n",
        "    # ========================================\n",
        "\n",
        "    print(\"\")\n",
        "    print('======== Epoch {:} / {:} ========'.format(epoch_i + 1, epochs))\n",
        "    print('Training...')\n",
        "\n",
        "    t0 = time.time()\n",
        "\n",
        "    total_train_loss = 0\n",
        "\n",
        "    model.train()\n",
        "\n",
        "    for step, batch in enumerate(train_dataloader):\n",
        "\n",
        "        b_input_ids = batch[0].to(device)\n",
        "        b_labels = batch[0].to(device)\n",
        "        b_masks = batch[1].to(device)\n",
        "\n",
        "        model.zero_grad()        \n",
        "\n",
        "        outputs = model(  b_input_ids,\n",
        "                          labels=b_labels, \n",
        "                          attention_mask = b_masks,\n",
        "                          token_type_ids=None\n",
        "                        )\n",
        "\n",
        "        loss = outputs[0]  \n",
        "\n",
        "        batch_loss = loss.item()\n",
        "        total_train_loss += batch_loss\n",
        "\n",
        "        # Get sample every x batches.\n",
        "        if step % sample_every == 0 and not step == 0:\n",
        "\n",
        "            elapsed = format_time(time.time() - t0)\n",
        "            print('  Batch {:>5,}  of  {:>5,}. Loss: {:>5,}.   Elapsed: {:}.'.format(step, len(train_dataloader), batch_loss, elapsed))\n",
        "\n",
        "            model.eval()\n",
        "\n",
        "            sample_outputs = model.generate(\n",
        "                                    bos_token_id=random.randint(1,30000),\n",
        "                                    do_sample=True,   \n",
        "                                    top_k=50, \n",
        "                                    max_length = 200,\n",
        "                                    top_p=0.95, \n",
        "                                    num_return_sequences=1\n",
        "                                )\n",
        "            for i, sample_output in enumerate(sample_outputs):\n",
        "                  print(\"{}: {}\".format(i, tokenizer.decode(sample_output, skip_special_tokens=True)))\n",
        "            \n",
        "            model.train()\n",
        "\n",
        "        loss.backward()\n",
        "\n",
        "        optimizer.step()\n",
        "\n",
        "        scheduler.step()\n",
        "\n",
        "    # Calculate the average loss over all of the batches.\n",
        "    avg_train_loss = total_train_loss / len(train_dataloader)       \n",
        "    \n",
        "    # Measure how long this epoch took.\n",
        "    training_time = format_time(time.time() - t0)\n",
        "\n",
        "    print(\"\")\n",
        "    print(\"  Average training loss: {0:.2f}\".format(avg_train_loss))\n",
        "    print(\"  Training epoch took: {:}\".format(training_time))\n",
        "        \n",
        "    # ========================================\n",
        "    #               Validation\n",
        "    # ========================================\n",
        "\n",
        "    print(\"\")\n",
        "    print(\"Running Validation...\")\n",
        "\n",
        "    t0 = time.time()\n",
        "\n",
        "    model.eval()\n",
        "\n",
        "    total_eval_loss = 0\n",
        "    nb_eval_steps = 0\n",
        "\n",
        "    # Evaluate data for one epoch\n",
        "    for batch in validation_dataloader:\n",
        "        \n",
        "        b_input_ids = batch[0].to(device)\n",
        "        b_labels = batch[0].to(device)\n",
        "        b_masks = batch[1].to(device)\n",
        "        \n",
        "        with torch.no_grad():        \n",
        "\n",
        "            outputs  = model(b_input_ids, \n",
        "#                            token_type_ids=None, \n",
        "                             attention_mask = b_masks,\n",
        "                            labels=b_labels)\n",
        "          \n",
        "            loss = outputs[0]  \n",
        "            \n",
        "        batch_loss = loss.item()\n",
        "        total_eval_loss += batch_loss        \n",
        "\n",
        "    avg_val_loss = total_eval_loss / len(validation_dataloader)\n",
        "    \n",
        "    validation_time = format_time(time.time() - t0)    \n",
        "\n",
        "    print(\"  Validation Loss: {0:.2f}\".format(avg_val_loss))\n",
        "    print(\"  Validation took: {:}\".format(validation_time))\n",
        "\n",
        "    # Record all statistics from this epoch.\n",
        "    training_stats.append(\n",
        "        {\n",
        "            'epoch': epoch_i + 1,\n",
        "            'Training Loss': avg_train_loss,\n",
        "            'Valid. Loss': avg_val_loss,\n",
        "            'Training Time': training_time,\n",
        "            'Validation Time': validation_time\n",
        "        }\n",
        "    )\n",
        "\n",
        "print(\"\")\n",
        "print(\"Training complete!\")\n",
        "print(\"Total training took {:} (h:mm:ss)\".format(format_time(time.time()-total_t0)))"
      ],
      "metadata": {
        "id": "jOVID5S28GIT",
        "colab": {
          "base_uri": "https://localhost:8080/"
        },
        "outputId": "517f4eee-d041-44d4-ab66-e1e921aee53f"
      },
      "execution_count": 26,
      "outputs": [
        {
          "output_type": "stream",
          "name": "stdout",
          "text": [
            "\n",
            "======== Epoch 1 / 4 ========\n",
            "Training...\n"
          ]
        },
        {
          "output_type": "stream",
          "name": "stderr",
          "text": [
            "The attention mask and the pad token id were not set. As a consequence, you may observe unexpected behavior. Please pass your input's `attention_mask` to obtain reliable results.\n",
            "Setting `pad_token_id` to `eos_token_id`:50256 for open-end generation.\n"
          ]
        },
        {
          "output_type": "stream",
          "name": "stdout",
          "text": [
            "  Batch   100  of  2,250. Loss: 3.1867334842681885.   Elapsed: 0:00:23.\n",
            "0:  bipartisanhi here you are so happy to call your daughter for her first time since she gave birth\n"
          ]
        },
        {
          "output_type": "stream",
          "name": "stderr",
          "text": [
            "The attention mask and the pad token id were not set. As a consequence, you may observe unexpected behavior. Please pass your input's `attention_mask` to obtain reliable results.\n",
            "Setting `pad_token_id` to `eos_token_id`:50256 for open-end generation.\n"
          ]
        },
        {
          "output_type": "stream",
          "name": "stdout",
          "text": [
            "  Batch   200  of  2,250. Loss: 2.772756576538086.   Elapsed: 0:00:44.\n",
            "0:  increasinga question that many of our patients answer is it is possible that they had irregular menstrual periods that lasted longer than they actually did because the reason is that they never menstruated is not due to any hormonal deficiency or abnormal hormone production of the hormones that are stored within the blood cells like hb and estrogen or mn and do not increase estrogen levels while the cycle is active or it persists it is possible that the hormone that is stored in your blood is not going to be released when you go to see a gynecologist as it would be if the hormonal deficiencies in the brain were not in the blood cells do not necessarily persist as long as the stress is present in the body it is possible that you may also not have any other problems with the hormone that is stored in your blood cells\n"
          ]
        },
        {
          "output_type": "stream",
          "name": "stderr",
          "text": [
            "The attention mask and the pad token id were not set. As a consequence, you may observe unexpected behavior. Please pass your input's `attention_mask` to obtain reliable results.\n",
            "Setting `pad_token_id` to `eos_token_id`:50256 for open-end generation.\n"
          ]
        },
        {
          "output_type": "stream",
          "name": "stdout",
          "text": [
            "  Batch   300  of  2,250. Loss: 3.1905665397644043.   Elapsed: 0:01:08.\n",
            "0: dayhi i agree with your story the main point of this tale is that one of the female nurses at the hospital was a good patient but the fact that she was able to nurse for longer periods than her body was not enough for her to continue with her nursing career the nurse who was having her go at this time was being treated for anxiety and that is why he got sick so soon\n"
          ]
        },
        {
          "output_type": "stream",
          "name": "stderr",
          "text": [
            "The attention mask and the pad token id were not set. As a consequence, you may observe unexpected behavior. Please pass your input's `attention_mask` to obtain reliable results.\n",
            "Setting `pad_token_id` to `eos_token_id`:50256 for open-end generation.\n"
          ]
        },
        {
          "output_type": "stream",
          "name": "stdout",
          "text": [
            "  Batch   400  of  2,250. Loss: 2.9244489669799805.   Elapsed: 0:01:29.\n",
            "0:  Hangthis could be from the hormone levels that affect sex it is from a very very simple hormone imbalance that could have gotten in you i just want to point out that the weight loss that you have been told by your doctor is probably a result of hormonal imbalance the hormone imbalance is what causes your weight loss\n"
          ]
        },
        {
          "output_type": "stream",
          "name": "stderr",
          "text": [
            "The attention mask and the pad token id were not set. As a consequence, you may observe unexpected behavior. Please pass your input's `attention_mask` to obtain reliable results.\n",
            "Setting `pad_token_id` to `eos_token_id`:50256 for open-end generation.\n"
          ]
        },
        {
          "output_type": "stream",
          "name": "stdout",
          "text": [
            "  Batch   500  of  2,250. Loss: 2.403006076812744.   Elapsed: 0:01:50.\n",
            "0:  foodsa skin care provider must consider using a topical anti pimple cream with topical creams\n"
          ]
        },
        {
          "output_type": "stream",
          "name": "stderr",
          "text": [
            "The attention mask and the pad token id were not set. As a consequence, you may observe unexpected behavior. Please pass your input's `attention_mask` to obtain reliable results.\n",
            "Setting `pad_token_id` to `eos_token_id`:50256 for open-end generation.\n"
          ]
        },
        {
          "output_type": "stream",
          "name": "stdout",
          "text": [
            "  Batch   600  of  2,250. Loss: 2.8147833347320557.   Elapsed: 0:02:11.\n",
            "0:  trailhi and now i will tell you why you need to avoid this if you are going to be taken any medicines like this do not put you on them anything that can increase the dose of medicines you use for weight loss but if you are getting sick from the flu if you have high fever  which is good for you i recommend you to not eat any food\n"
          ]
        },
        {
          "output_type": "stream",
          "name": "stderr",
          "text": [
            "The attention mask and the pad token id were not set. As a consequence, you may observe unexpected behavior. Please pass your input's `attention_mask` to obtain reliable results.\n",
            "Setting `pad_token_id` to `eos_token_id`:50256 for open-end generation.\n"
          ]
        },
        {
          "output_type": "stream",
          "name": "stdout",
          "text": [
            "  Batch   700  of  2,250. Loss: 2.988309144973755.   Elapsed: 0:02:32.\n",
            "0: intendyes they do not have it all right you can see the medical history of someone taking a drug like hashimoto thyroiditis they would not be able to accurately estimate the amount of pain she or someone else is experiencing and you should do more research to get any specific information you could have been taking and get an stdgum test done\n"
          ]
        },
        {
          "output_type": "stream",
          "name": "stderr",
          "text": [
            "The attention mask and the pad token id were not set. As a consequence, you may observe unexpected behavior. Please pass your input's `attention_mask` to obtain reliable results.\n",
            "Setting `pad_token_id` to `eos_token_id`:50256 for open-end generation.\n"
          ]
        },
        {
          "output_type": "stream",
          "name": "stdout",
          "text": [
            "  Batch   800  of  2,250. Loss: 2.874683141708374.   Elapsed: 0:02:53.\n",
            "0:  surroundit depends how much you buy and where you live you will most likely choose a health insurance plan that offers people with pre existing conditions coverage that covers people who have a high risk child and children with special needs such as children under age six with a chronic disease like asthma or people with certain other conditions including people with low immunity who cannot take antibiotics because of influenza or certain other conditions health insurance plans include coverage that does not include high cost items such as vitamins or minerals coverage that covers people with chronic illness or people who have high blood pressure or who are prone to become dehydrated or overweight\n"
          ]
        },
        {
          "output_type": "stream",
          "name": "stderr",
          "text": [
            "The attention mask and the pad token id were not set. As a consequence, you may observe unexpected behavior. Please pass your input's `attention_mask` to obtain reliable results.\n",
            "Setting `pad_token_id` to `eos_token_id`:50256 for open-end generation.\n"
          ]
        },
        {
          "output_type": "stream",
          "name": "stdout",
          "text": [
            "  Batch   900  of  2,250. Loss: 2.9658045768737793.   Elapsed: 0:03:15.\n",
            "0:  reflexit is true that if you think about it it is just a coincidence that it happened to a pregnant women or a female partner this is very unusual especially in the case of the pregnant wife she does not want to give birth in fact and she wants to be safe for herself and her newborn she also has the option of having a spermicide they would be wise to get one at the pharmacy they are not too expensive but that would not necessarily mean you are the safest sex partner because it is important to get a complete pregnancy test at the time of conception good luck\n"
          ]
        },
        {
          "output_type": "stream",
          "name": "stderr",
          "text": [
            "The attention mask and the pad token id were not set. As a consequence, you may observe unexpected behavior. Please pass your input's `attention_mask` to obtain reliable results.\n",
            "Setting `pad_token_id` to `eos_token_id`:50256 for open-end generation.\n"
          ]
        },
        {
          "output_type": "stream",
          "name": "stdout",
          "text": [
            "  Batch 1,000  of  2,250. Loss: 2.805119514465332.   Elapsed: 0:03:36.\n",
            "0:  displayi would be hard to think of any type of medical situation where a person could have a heart attack without having a cardiac arrhythmia or high blood pressure but i have seen people who have had heart bypass surgery they tend to be having problems with their bcs because of their diabetes there are some serious complications if he is not going to be able to pay a reasonable fee for one he may be more susceptible if his medical provider has an open enrollment period and a policy based on an individual health plan i personally believe that if he is going to go to medical school he will have a good chance to have an impact on his health if he is a good student or doctor it is okay to get on to his doctor for counseling and getting a second opinion\n"
          ]
        },
        {
          "output_type": "stream",
          "name": "stderr",
          "text": [
            "The attention mask and the pad token id were not set. As a consequence, you may observe unexpected behavior. Please pass your input's `attention_mask` to obtain reliable results.\n",
            "Setting `pad_token_id` to `eos_token_id`:50256 for open-end generation.\n"
          ]
        },
        {
          "output_type": "stream",
          "name": "stdout",
          "text": [
            "  Batch 1,100  of  2,250. Loss: 2.3595545291900635.   Elapsed: 0:03:58.\n",
            "0:  pastorhi i guess no its not the h1c h1c does not seem to help this is actually the cause of h1c h1c does not seem to work\n"
          ]
        },
        {
          "output_type": "stream",
          "name": "stderr",
          "text": [
            "The attention mask and the pad token id were not set. As a consequence, you may observe unexpected behavior. Please pass your input's `attention_mask` to obtain reliable results.\n",
            "Setting `pad_token_id` to `eos_token_id`:50256 for open-end generation.\n"
          ]
        },
        {
          "output_type": "stream",
          "name": "stdout",
          "text": [
            "  Batch 1,200  of  2,250. Loss: 3.0840814113616943.   Elapsed: 0:04:19.\n",
            "0:  illicithi if your bleeding i recommend taking a blood test to rule out any underlying medical reasons and getting tested by your doctor its not a wise decision that would be difficult for you to get another chance of pregnancy if you have the money you will still want to get your money back from your doctors and other doctors can pay for a good doctor of yours as a condition that you must overcome it would be impossible to be sure if he has the right medicine for you but in my opinion he must be in medical school good luck\n"
          ]
        },
        {
          "output_type": "stream",
          "name": "stderr",
          "text": [
            "The attention mask and the pad token id were not set. As a consequence, you may observe unexpected behavior. Please pass your input's `attention_mask` to obtain reliable results.\n",
            "Setting `pad_token_id` to `eos_token_id`:50256 for open-end generation.\n"
          ]
        },
        {
          "output_type": "stream",
          "name": "stdout",
          "text": [
            "  Batch 1,300  of  2,250. Loss: 3.5242700576782227.   Elapsed: 0:04:41.\n",
            "0:  Liberationmany factors play a role in getting pregnant this time in a female person the mother is immune system has to work with her immunity and her body has to fight the immune system while the father is immune system is able to fight the immune system of the maternal blood fetus most people will need to get pregnant this time by age 35 of your body is immune system which is at work not just to fight the immune system in the presence of a cold virus it is also designed for that age a cold virus has the ability to send messages into the body from your skin to your eyes and body you could also get pregnant using an influenza vaccine but this is not going to help your cause so you will need to be carefully diagnosed and diagnosed as soon as possible after first you need to know your age and where it can be detected i guess so you will need to see a medical provider to confirm in any way if there is a cold virus that can cause the infection\n"
          ]
        },
        {
          "output_type": "stream",
          "name": "stderr",
          "text": [
            "The attention mask and the pad token id were not set. As a consequence, you may observe unexpected behavior. Please pass your input's `attention_mask` to obtain reliable results.\n",
            "Setting `pad_token_id` to `eos_token_id`:50256 for open-end generation.\n"
          ]
        },
        {
          "output_type": "stream",
          "name": "stdout",
          "text": [
            "  Batch 1,400  of  2,250. Loss: 3.1597323417663574.   Elapsed: 0:05:04.\n",
            "0:  Namhi its just due to an allergic reaction do try using a cold bath will help good luck\n"
          ]
        },
        {
          "output_type": "stream",
          "name": "stderr",
          "text": [
            "The attention mask and the pad token id were not set. As a consequence, you may observe unexpected behavior. Please pass your input's `attention_mask` to obtain reliable results.\n",
            "Setting `pad_token_id` to `eos_token_id`:50256 for open-end generation.\n"
          ]
        },
        {
          "output_type": "stream",
          "name": "stdout",
          "text": [
            "  Batch 1,500  of  2,250. Loss: 2.487609386444092.   Elapsed: 0:05:25.\n",
            "0: IONi am sorry to hear this you are going through a loss of health and the pain you are facing can be very difficult for patients to cope with although the pain may be severe it is not that hard to deal with if you are under the constant stress of working and caring in the future you will need to be patient with your treatment and try to help yourself with all of that you need to make sure you are on a medication that is compatible with the kind of pain and ease of life that the doctor would be comfortable with\n"
          ]
        },
        {
          "output_type": "stream",
          "name": "stderr",
          "text": [
            "The attention mask and the pad token id were not set. As a consequence, you may observe unexpected behavior. Please pass your input's `attention_mask` to obtain reliable results.\n",
            "Setting `pad_token_id` to `eos_token_id`:50256 for open-end generation.\n"
          ]
        },
        {
          "output_type": "stream",
          "name": "stdout",
          "text": [
            "  Batch 1,600  of  2,250. Loss: 2.851529598236084.   Elapsed: 0:05:47.\n",
            "0:  glimpseno you will not lose anything you are safe but you will need more of a health care professional like this or someone that knows you\n"
          ]
        },
        {
          "output_type": "stream",
          "name": "stderr",
          "text": [
            "The attention mask and the pad token id were not set. As a consequence, you may observe unexpected behavior. Please pass your input's `attention_mask` to obtain reliable results.\n",
            "Setting `pad_token_id` to `eos_token_id`:50256 for open-end generation.\n"
          ]
        },
        {
          "output_type": "stream",
          "name": "stdout",
          "text": [
            "  Batch 1,700  of  2,250. Loss: 2.7268283367156982.   Elapsed: 0:06:10.\n",
            "0:  Laurethis could be something very serious… it is possible you have a chronic pain from a heavy blow if this is a very serious situation you need to be investigated and treated\n"
          ]
        },
        {
          "output_type": "stream",
          "name": "stderr",
          "text": [
            "The attention mask and the pad token id were not set. As a consequence, you may observe unexpected behavior. Please pass your input's `attention_mask` to obtain reliable results.\n",
            "Setting `pad_token_id` to `eos_token_id`:50256 for open-end generation.\n"
          ]
        },
        {
          "output_type": "stream",
          "name": "stdout",
          "text": [
            "  Batch 1,800  of  2,250. Loss: 2.7964859008789062.   Elapsed: 0:06:32.\n",
            "0: ismyour body needs to be fighting off infection for the rest of its life and not trying to keep the immune system running at this time so as you are experiencing complications of your infection i suggest you go to the hospital to have a ct scan to be properly diagnosed and treated\n"
          ]
        },
        {
          "output_type": "stream",
          "name": "stderr",
          "text": [
            "The attention mask and the pad token id were not set. As a consequence, you may observe unexpected behavior. Please pass your input's `attention_mask` to obtain reliable results.\n",
            "Setting `pad_token_id` to `eos_token_id`:50256 for open-end generation.\n"
          ]
        },
        {
          "output_type": "stream",
          "name": "stdout",
          "text": [
            "  Batch 1,900  of  2,250. Loss: 2.4803237915039062.   Elapsed: 0:06:54.\n",
            "0: ounwell it seems to have to with her having a tubal hernia there is no need for an mri after the surgery but i would like to give her a mri and a complete ultrasound done and her doctor will be happy that its on its proper antibiotics\n"
          ]
        },
        {
          "output_type": "stream",
          "name": "stderr",
          "text": [
            "The attention mask and the pad token id were not set. As a consequence, you may observe unexpected behavior. Please pass your input's `attention_mask` to obtain reliable results.\n",
            "Setting `pad_token_id` to `eos_token_id`:50256 for open-end generation.\n"
          ]
        },
        {
          "output_type": "stream",
          "name": "stdout",
          "text": [
            "  Batch 2,000  of  2,250. Loss: 3.2394423484802246.   Elapsed: 0:07:15.\n",
            "0:  electionhi its time to see your doctor asap so you can be properly diagnosed and properly treated\n"
          ]
        },
        {
          "output_type": "stream",
          "name": "stderr",
          "text": [
            "The attention mask and the pad token id were not set. As a consequence, you may observe unexpected behavior. Please pass your input's `attention_mask` to obtain reliable results.\n",
            "Setting `pad_token_id` to `eos_token_id`:50256 for open-end generation.\n"
          ]
        },
        {
          "output_type": "stream",
          "name": "stdout",
          "text": [
            "  Batch 2,100  of  2,250. Loss: 2.4959945678710938.   Elapsed: 0:07:35.\n",
            "0:  crazyhi so on that link its just a good one just copy link into google to the www to open and read its from www pegym com its down to what you really want good luck\n"
          ]
        },
        {
          "output_type": "stream",
          "name": "stderr",
          "text": [
            "The attention mask and the pad token id were not set. As a consequence, you may observe unexpected behavior. Please pass your input's `attention_mask` to obtain reliable results.\n",
            "Setting `pad_token_id` to `eos_token_id`:50256 for open-end generation.\n"
          ]
        },
        {
          "output_type": "stream",
          "name": "stdout",
          "text": [
            "  Batch 2,200  of  2,250. Loss: 2.3625948429107666.   Elapsed: 0:07:56.\n",
            "0:  benchyes it is possible for one person to develop tuberculosis or for the next person to develop tuberculosis other than being susceptible to tuberculosis   most people with tuberculosis have some type of infection that can contribute to other symptoms of tuberculosis you will be wise to use the care you need    whether it be taking proper medicine or medications    to prevent or delay treatment as it can be hard to do everything right\n",
            "\n",
            "  Average training loss: 3.09\n",
            "  Training epoch took: 0:08:07\n",
            "\n",
            "Running Validation...\n",
            "  Validation Loss: 2.55\n",
            "  Validation took: 0:00:14\n",
            "\n",
            "======== Epoch 2 / 4 ========\n",
            "Training...\n"
          ]
        },
        {
          "output_type": "stream",
          "name": "stderr",
          "text": [
            "The attention mask and the pad token id were not set. As a consequence, you may observe unexpected behavior. Please pass your input's `attention_mask` to obtain reliable results.\n",
            "Setting `pad_token_id` to `eos_token_id`:50256 for open-end generation.\n"
          ]
        },
        {
          "output_type": "stream",
          "name": "stdout",
          "text": [
            "  Batch   100  of  2,250. Loss: 2.8747382164001465.   Elapsed: 0:00:20.\n",
            "0:  incorporatedthe cause of infertility in some women can be treated with lifestyle changes and lifestyle modifications in others infertility can be surgically diagnosed and treated by surgery but most infertility treatments are a long term solution one of the best treatments for infertility in women is fertility therapy it is also a very popular form of treatment for infertility in men    especially those with epilepsy   is fertility treatment the treatment is not as important as its treatment in some cases fertility therapy is treated at the very least with a combination of medications and the treatment is generally considered to be permanent and the treatment usually lasts longer than that the most infertility treatments have been associated with infertility problems for people with epilepsy the key to fertility therapy is to make sure that the hormone replacement therapy is the right hormone estrogen in addition as part of the treatment for epilepsy the treatment for infertility treatment for the disease can be repeated over a year if there are more than one hormone replacement therapy the treatment is a longer term approach but not as important as it is for the disease treatment\n"
          ]
        },
        {
          "output_type": "stream",
          "name": "stderr",
          "text": [
            "The attention mask and the pad token id were not set. As a consequence, you may observe unexpected behavior. Please pass your input's `attention_mask` to obtain reliable results.\n",
            "Setting `pad_token_id` to `eos_token_id`:50256 for open-end generation.\n"
          ]
        },
        {
          "output_type": "stream",
          "name": "stdout",
          "text": [
            "  Batch   200  of  2,250. Loss: 2.604436159133911.   Elapsed: 0:00:43.\n",
            "0: Peteri have no way of confirming or disputing your diagnosis blindly over the internet based solely on your vague description your description is very vague you would need to see an stdgum clinic for an examination and possibly to have it checked out the other possibility that may be present is a yeast infection there is a reason why yeast infections are so common in children especially if it is not on your genital area you can consider taking the same medicine as you had and getting on the same antibiotic as well to make sure everything is ok\n"
          ]
        },
        {
          "output_type": "stream",
          "name": "stderr",
          "text": [
            "The attention mask and the pad token id were not set. As a consequence, you may observe unexpected behavior. Please pass your input's `attention_mask` to obtain reliable results.\n",
            "Setting `pad_token_id` to `eos_token_id`:50256 for open-end generation.\n"
          ]
        },
        {
          "output_type": "stream",
          "name": "stdout",
          "text": [
            "  Batch   300  of  2,250. Loss: 2.3303685188293457.   Elapsed: 0:01:04.\n",
            "0: uringhi yes there is a possibility you could still be pregnant if you didnt get on bc before you have your period the best thing you can do would be try for it to happen hope this helps you good luck\n"
          ]
        },
        {
          "output_type": "stream",
          "name": "stderr",
          "text": [
            "The attention mask and the pad token id were not set. As a consequence, you may observe unexpected behavior. Please pass your input's `attention_mask` to obtain reliable results.\n",
            "Setting `pad_token_id` to `eos_token_id`:50256 for open-end generation.\n"
          ]
        },
        {
          "output_type": "stream",
          "name": "stdout",
          "text": [
            "  Batch   400  of  2,250. Loss: 2.7785019874572754.   Elapsed: 0:01:25.\n",
            "0:  reproductivewell it seems that this is a cyst or not… do you know of any other type of pain in body do you know of any new symptoms for you if not you should go to your doctor to find out… it may be due to your body having a good olith…\n"
          ]
        },
        {
          "output_type": "stream",
          "name": "stderr",
          "text": [
            "The attention mask and the pad token id were not set. As a consequence, you may observe unexpected behavior. Please pass your input's `attention_mask` to obtain reliable results.\n",
            "Setting `pad_token_id` to `eos_token_id`:50256 for open-end generation.\n"
          ]
        },
        {
          "output_type": "stream",
          "name": "stdout",
          "text": [
            "  Batch   500  of  2,250. Loss: 2.46464204788208.   Elapsed: 0:01:46.\n",
            "0:  zonehi a ringworm is in your early stages of development a few months late but if you have been on antigens for over a month or are not feeling any signs of this just try to get a consultation with your doctor if you think you are having an emergency it would be wise to get a second opinion from a gastroenterologist this will be a test that can confirm or deny a diagnosis\n"
          ]
        },
        {
          "output_type": "stream",
          "name": "stderr",
          "text": [
            "The attention mask and the pad token id were not set. As a consequence, you may observe unexpected behavior. Please pass your input's `attention_mask` to obtain reliable results.\n",
            "Setting `pad_token_id` to `eos_token_id`:50256 for open-end generation.\n"
          ]
        },
        {
          "output_type": "stream",
          "name": "stdout",
          "text": [
            "  Batch   600  of  2,250. Loss: 2.2670865058898926.   Elapsed: 0:02:08.\n",
            "0:  commitsyes\n"
          ]
        },
        {
          "output_type": "stream",
          "name": "stderr",
          "text": [
            "The attention mask and the pad token id were not set. As a consequence, you may observe unexpected behavior. Please pass your input's `attention_mask` to obtain reliable results.\n",
            "Setting `pad_token_id` to `eos_token_id`:50256 for open-end generation.\n"
          ]
        },
        {
          "output_type": "stream",
          "name": "stdout",
          "text": [
            "  Batch   700  of  2,250. Loss: 2.6490070819854736.   Elapsed: 0:02:28.\n",
            "0:  ironyit is always possible to get pregnant when a woman has a retained or fertilized egg for more than 3 days and the ovulation bleeding is not completely gone it is still possible for an egg to fertilize a fertilized egg that is just a temporary temporary loss of the ovulate however\n"
          ]
        },
        {
          "output_type": "stream",
          "name": "stderr",
          "text": [
            "The attention mask and the pad token id were not set. As a consequence, you may observe unexpected behavior. Please pass your input's `attention_mask` to obtain reliable results.\n",
            "Setting `pad_token_id` to `eos_token_id`:50256 for open-end generation.\n"
          ]
        },
        {
          "output_type": "stream",
          "name": "stdout",
          "text": [
            "  Batch   800  of  2,250. Loss: 2.1509547233581543.   Elapsed: 0:02:49.\n",
            "0:  Sahhi the most probable location that causes pinning of the vertebra is on the right side and the laminectomy is the other possibility i advise you to get a ct scan done and get a ct angiogram done on the laminectomy in case if its pain\n"
          ]
        },
        {
          "output_type": "stream",
          "name": "stderr",
          "text": [
            "The attention mask and the pad token id were not set. As a consequence, you may observe unexpected behavior. Please pass your input's `attention_mask` to obtain reliable results.\n",
            "Setting `pad_token_id` to `eos_token_id`:50256 for open-end generation.\n"
          ]
        },
        {
          "output_type": "stream",
          "name": "stdout",
          "text": [
            "  Batch   900  of  2,250. Loss: 2.405055522918701.   Elapsed: 0:03:10.\n",
            "0:  Bryanthere is a great deal of research that shows that acupuncture is an effective treatment of type 1 diabetes that actually lowers blood sugar levels and makes it difficult to prevent type 1 diabetes it is also seen in some people with type 1 diabetes and in patients with a history of other conditions or conditions in which the blood sugar levels are elevated many times the type 1 diabetes itself can be cured by treatment with an endocrinological system of sorts some type this means treatment works only after treatment with the underlying disease with certain medicines and medications but some may actually reduce the sugar levels in those cases acupuncture may also reduce insulin levels as treatment works by treating acute diabetes and is usually a treatment not required to prevent the disease without the proper care doctors and treatment facilities are typically used to treat diabetes in the u s many cases people with type 1 diabetes may experience symptoms similar to diabetes and may experience nausea vomiting and diarrhea they may become dehydrated in the first few days after treatment with a medication like metformin because it is rarely used\n"
          ]
        },
        {
          "output_type": "stream",
          "name": "stderr",
          "text": [
            "The attention mask and the pad token id were not set. As a consequence, you may observe unexpected behavior. Please pass your input's `attention_mask` to obtain reliable results.\n",
            "Setting `pad_token_id` to `eos_token_id`:50256 for open-end generation.\n"
          ]
        },
        {
          "output_type": "stream",
          "name": "stdout",
          "text": [
            "  Batch 1,000  of  2,250. Loss: 2.724299669265747.   Elapsed: 0:03:33.\n",
            "0:  spiritsyou need to make a appointment with your physician so you can be properly examined there are no significant interactions to be concerned about with this medication\n"
          ]
        },
        {
          "output_type": "stream",
          "name": "stderr",
          "text": [
            "The attention mask and the pad token id were not set. As a consequence, you may observe unexpected behavior. Please pass your input's `attention_mask` to obtain reliable results.\n",
            "Setting `pad_token_id` to `eos_token_id`:50256 for open-end generation.\n"
          ]
        },
        {
          "output_type": "stream",
          "name": "stdout",
          "text": [
            "  Batch 1,100  of  2,250. Loss: 1.5684348344802856.   Elapsed: 0:03:53.\n",
            "0:  seesthat would depend on the severity of the pain of the laceration and on your blood pressure if you take aspirin or any other medication this is not considered a separate medical problem and your medication must be specifically prescribed for your medical condition\n"
          ]
        },
        {
          "output_type": "stream",
          "name": "stderr",
          "text": [
            "The attention mask and the pad token id were not set. As a consequence, you may observe unexpected behavior. Please pass your input's `attention_mask` to obtain reliable results.\n",
            "Setting `pad_token_id` to `eos_token_id`:50256 for open-end generation.\n"
          ]
        },
        {
          "output_type": "stream",
          "name": "stdout",
          "text": [
            "  Batch 1,200  of  2,250. Loss: 2.7333316802978516.   Elapsed: 0:04:14.\n",
            "0:  hungryhi this can be a side effect of you and your find its a real thing and should go away a couple of years before the real thing gets back to normal for you then take this med with lots of help and get to a good start if things do not help keep away from other ways things have to work with your doctor if things do not help then you need to do this meditation google this med and see how the med works and it may help you manage your anxiety better just get to a good start the med does not work for you just mix and match all mix is all the way good luck\n"
          ]
        },
        {
          "output_type": "stream",
          "name": "stderr",
          "text": [
            "The attention mask and the pad token id were not set. As a consequence, you may observe unexpected behavior. Please pass your input's `attention_mask` to obtain reliable results.\n",
            "Setting `pad_token_id` to `eos_token_id`:50256 for open-end generation.\n"
          ]
        },
        {
          "output_type": "stream",
          "name": "stdout",
          "text": [
            "  Batch 1,300  of  2,250. Loss: 2.8536317348480225.   Elapsed: 0:04:36.\n",
            "0:  PThi i recommend checking out your body is own vitamin d levels for sure thanks\n"
          ]
        },
        {
          "output_type": "stream",
          "name": "stderr",
          "text": [
            "The attention mask and the pad token id were not set. As a consequence, you may observe unexpected behavior. Please pass your input's `attention_mask` to obtain reliable results.\n",
            "Setting `pad_token_id` to `eos_token_id`:50256 for open-end generation.\n"
          ]
        },
        {
          "output_type": "stream",
          "name": "stdout",
          "text": [
            "  Batch 1,400  of  2,250. Loss: 3.010247230529785.   Elapsed: 0:04:57.\n",
            "0: üthe most common cause of eye discharge is called conjunctivitis conjunctiva sinusitis which is an inflammation of the face over a period of several days conjunctivitis usually lasts for five to seven days and is usually caused by inflammation of the conjunctiva sinuses usually are affected by irritation of the eyes it is important that you do not use or delay any eye care measure that might trigger conjunctivitis you should talk to your doctor and get evaluated in light of possible allergic reaction to eye drops or other prescription medications medications you may also have to take oral medications you are allergic to topical or topical irritable medications like ibuprofen aspirin naproxen ibuprofen is the brand name ibuprofen is a steroid that causes the burning pain that can affect conjunctiva sinuses and causes irritation of the eye also irritable bowel\n"
          ]
        },
        {
          "output_type": "stream",
          "name": "stderr",
          "text": [
            "The attention mask and the pad token id were not set. As a consequence, you may observe unexpected behavior. Please pass your input's `attention_mask` to obtain reliable results.\n",
            "Setting `pad_token_id` to `eos_token_id`:50256 for open-end generation.\n"
          ]
        },
        {
          "output_type": "stream",
          "name": "stdout",
          "text": [
            "  Batch 1,500  of  2,250. Loss: 2.1974563598632812.   Elapsed: 0:05:19.\n",
            "0: rucethe type of blood pressure medication that is used for treating constipation are based on the specific symptoms of the constipation that are related to the type and duration of symptoms the reason that this medication is prescribed for constipation is because the symptoms appear to be caused by a specific pattern of symptoms some people and patients use constipation at the same time or at the same time each day since the blood pressure medication is not a diary for one specific person or two or two to determine when the symptoms appear you need to take two separate doses of the blood pressure medication to ensure that the person is level of the medication at that time i would not recommend that you start with two separate dosages in the first 12 hours of a period you take it once a day to confirm that you have no signs of constipation\n"
          ]
        },
        {
          "output_type": "stream",
          "name": "stderr",
          "text": [
            "The attention mask and the pad token id were not set. As a consequence, you may observe unexpected behavior. Please pass your input's `attention_mask` to obtain reliable results.\n",
            "Setting `pad_token_id` to `eos_token_id`:50256 for open-end generation.\n"
          ]
        },
        {
          "output_type": "stream",
          "name": "stdout",
          "text": [
            "  Batch 1,600  of  2,250. Loss: 2.36043643951416.   Elapsed: 0:05:41.\n",
            "0:  derivativesyes the new law does indeed change the way that medications are made\n"
          ]
        },
        {
          "output_type": "stream",
          "name": "stderr",
          "text": [
            "The attention mask and the pad token id were not set. As a consequence, you may observe unexpected behavior. Please pass your input's `attention_mask` to obtain reliable results.\n",
            "Setting `pad_token_id` to `eos_token_id`:50256 for open-end generation.\n"
          ]
        },
        {
          "output_type": "stream",
          "name": "stdout",
          "text": [
            "  Batch 1,700  of  2,250. Loss: 2.110405683517456.   Elapsed: 0:06:02.\n",
            "0: \u0019hi yes you can start a new period now but first of all a bit of a worry you can still wait until you get pregnant until you have started then you can wait till you miss your next period if your next period is within two weeks good luck\n"
          ]
        },
        {
          "output_type": "stream",
          "name": "stderr",
          "text": [
            "The attention mask and the pad token id were not set. As a consequence, you may observe unexpected behavior. Please pass your input's `attention_mask` to obtain reliable results.\n",
            "Setting `pad_token_id` to `eos_token_id`:50256 for open-end generation.\n"
          ]
        },
        {
          "output_type": "stream",
          "name": "stdout",
          "text": [
            "  Batch 1,800  of  2,250. Loss: 2.081698179244995.   Elapsed: 0:06:23.\n",
            "0:  rememberingi am not a doctor or primary care provider but rather a licensed health care professional if your child is self care practitioner i assume your child is not performing such routine physical exams that can be challenging and expensive for them to determine how much stress that stress is on to the health care professional should be able to determine if she is doing a great job for you or not\n"
          ]
        },
        {
          "output_type": "stream",
          "name": "stderr",
          "text": [
            "The attention mask and the pad token id were not set. As a consequence, you may observe unexpected behavior. Please pass your input's `attention_mask` to obtain reliable results.\n",
            "Setting `pad_token_id` to `eos_token_id`:50256 for open-end generation.\n"
          ]
        },
        {
          "output_type": "stream",
          "name": "stdout",
          "text": [
            "  Batch 1,900  of  2,250. Loss: 2.1204586029052734.   Elapsed: 0:06:44.\n",
            "0:  Sourceshi sorry but no we both can understand that you are asking your question at the same time and one of those things i do not think can be changed at this time of the year the only thing that can be changed is that your periods are normal for a time now i would get to your doctor and see what heshe says to try and change your period it could be up to 2 days before and 3 days afterwards this could cause a problem like you now but we need to get over it and see if it can be solved good luck\n"
          ]
        },
        {
          "output_type": "stream",
          "name": "stderr",
          "text": [
            "The attention mask and the pad token id were not set. As a consequence, you may observe unexpected behavior. Please pass your input's `attention_mask` to obtain reliable results.\n",
            "Setting `pad_token_id` to `eos_token_id`:50256 for open-end generation.\n"
          ]
        },
        {
          "output_type": "stream",
          "name": "stdout",
          "text": [
            "  Batch 2,000  of  2,250. Loss: 2.4493772983551025.   Elapsed: 0:07:06.\n",
            "0: emsanyone with the usual risk of developing parkinson is disease has also seen progressive deterioration of symptoms in men with this disease it is important to follow all treatments as appropriate and be sure that you are getting all the essential vitamins and nutrients from each diet plan as for those nutrients you can start eating fruits and vegetables and whole grains these will all reduce your risk of having parkinson is\n"
          ]
        },
        {
          "output_type": "stream",
          "name": "stderr",
          "text": [
            "The attention mask and the pad token id were not set. As a consequence, you may observe unexpected behavior. Please pass your input's `attention_mask` to obtain reliable results.\n",
            "Setting `pad_token_id` to `eos_token_id`:50256 for open-end generation.\n"
          ]
        },
        {
          "output_type": "stream",
          "name": "stdout",
          "text": [
            "  Batch 2,100  of  2,250. Loss: 2.7891595363616943.   Elapsed: 0:07:27.\n",
            "0: tzyou can definitely use zyrtec and kyphotic in your area without adverse effects if you are allergic to the shingles virus you will not get the shingles shingles and shingles are both childhood children and can cause different problems and affect people equally i would recommend visiting your pediatrician for further information on this condition in addition to treating shingles keep an eye on your shingles diagnosis for two weeks after you return for more information we will also be able to make sure you are getting the information in general if you return in our new information section zyrtec is used to treat shingles symptoms and other diseases\n"
          ]
        },
        {
          "output_type": "stream",
          "name": "stderr",
          "text": [
            "The attention mask and the pad token id were not set. As a consequence, you may observe unexpected behavior. Please pass your input's `attention_mask` to obtain reliable results.\n",
            "Setting `pad_token_id` to `eos_token_id`:50256 for open-end generation.\n"
          ]
        },
        {
          "output_type": "stream",
          "name": "stdout",
          "text": [
            "  Batch 2,200  of  2,250. Loss: 2.552093744277954.   Elapsed: 0:07:49.\n",
            "0: matichi its possible from this to lead to miscarriage or even the menopause its best you to wait till after a miscarriage for a test then just wait it will come but there wont be any way for me get a test done there should be a way you can not miss as it may go through the abortion process its not as if its all that you need as this may also happen in case of spotting i suggest doing another test\n",
            "\n",
            "  Average training loss: 2.41\n",
            "  Training epoch took: 0:08:00\n",
            "\n",
            "Running Validation...\n",
            "  Validation Loss: 2.50\n",
            "  Validation took: 0:00:14\n",
            "\n",
            "======== Epoch 3 / 4 ========\n",
            "Training...\n"
          ]
        },
        {
          "output_type": "stream",
          "name": "stderr",
          "text": [
            "The attention mask and the pad token id were not set. As a consequence, you may observe unexpected behavior. Please pass your input's `attention_mask` to obtain reliable results.\n",
            "Setting `pad_token_id` to `eos_token_id`:50256 for open-end generation.\n"
          ]
        },
        {
          "output_type": "stream",
          "name": "stdout",
          "text": [
            "  Batch   100  of  2,250. Loss: 1.8069177865982056.   Elapsed: 0:00:20.\n",
            "0:  syndthere is no evidence to suggest that this would be the case in women who have not had a period and therefore have irregular periods there may be a problem with the way this hormone is tested if it is a normal amount and if it is on your own or if you are using birth control pills and if you have a pregnancy test for any reason it is always a good idea to discuss this with your medical provider it is best to get the correct dosage at the end of the day\n"
          ]
        },
        {
          "output_type": "stream",
          "name": "stderr",
          "text": [
            "The attention mask and the pad token id were not set. As a consequence, you may observe unexpected behavior. Please pass your input's `attention_mask` to obtain reliable results.\n",
            "Setting `pad_token_id` to `eos_token_id`:50256 for open-end generation.\n"
          ]
        },
        {
          "output_type": "stream",
          "name": "stdout",
          "text": [
            "  Batch   200  of  2,250. Loss: 2.386199474334717.   Elapsed: 0:00:42.\n",
            "0:  gamhi if this is just a hic cup then the doctor should be ok for you its a virus that can leave you feeling just like this could be from the time you was on it before but that would be the only thing that can give you the same thing hope this helps good luck\n"
          ]
        },
        {
          "output_type": "stream",
          "name": "stderr",
          "text": [
            "The attention mask and the pad token id were not set. As a consequence, you may observe unexpected behavior. Please pass your input's `attention_mask` to obtain reliable results.\n",
            "Setting `pad_token_id` to `eos_token_id`:50256 for open-end generation.\n"
          ]
        },
        {
          "output_type": "stream",
          "name": "stdout",
          "text": [
            "  Batch   300  of  2,250. Loss: 2.3198299407958984.   Elapsed: 0:01:03.\n",
            "0:  injuryin my opinion no the bleeding is not caused by a cardiac event there are no chances of heart related cardiac related issues\n"
          ]
        },
        {
          "output_type": "stream",
          "name": "stderr",
          "text": [
            "The attention mask and the pad token id were not set. As a consequence, you may observe unexpected behavior. Please pass your input's `attention_mask` to obtain reliable results.\n",
            "Setting `pad_token_id` to `eos_token_id`:50256 for open-end generation.\n"
          ]
        },
        {
          "output_type": "stream",
          "name": "stdout",
          "text": [
            "  Batch   400  of  2,250. Loss: 2.4166672229766846.   Elapsed: 0:01:24.\n",
            "0: azayes the flu vaccine contains an important active ingredient and the fda is monitoring the development of a vaccine that protects against both influenza and chicken pox in the future\n"
          ]
        },
        {
          "output_type": "stream",
          "name": "stderr",
          "text": [
            "The attention mask and the pad token id were not set. As a consequence, you may observe unexpected behavior. Please pass your input's `attention_mask` to obtain reliable results.\n",
            "Setting `pad_token_id` to `eos_token_id`:50256 for open-end generation.\n"
          ]
        },
        {
          "output_type": "stream",
          "name": "stdout",
          "text": [
            "  Batch   500  of  2,250. Loss: 1.7763099670410156.   Elapsed: 0:01:44.\n",
            "0:  membranehi yes this can be treated better by physiotherapy laser ultra sound therapy and laser treatments on the joint tissue with anti inflammatory medications consult a orthopedist thanks\n"
          ]
        },
        {
          "output_type": "stream",
          "name": "stderr",
          "text": [
            "The attention mask and the pad token id were not set. As a consequence, you may observe unexpected behavior. Please pass your input's `attention_mask` to obtain reliable results.\n",
            "Setting `pad_token_id` to `eos_token_id`:50256 for open-end generation.\n"
          ]
        },
        {
          "output_type": "stream",
          "name": "stdout",
          "text": [
            "  Batch   600  of  2,250. Loss: 1.9872779846191406.   Elapsed: 0:02:05.\n",
            "0: ijingit seems that you have an enlarged lymph node you need to confirm it with a nephrologist and get a recent xray to confirm also do a lymph node biopsy to confirm it can be a fungal infection\n"
          ]
        },
        {
          "output_type": "stream",
          "name": "stderr",
          "text": [
            "The attention mask and the pad token id were not set. As a consequence, you may observe unexpected behavior. Please pass your input's `attention_mask` to obtain reliable results.\n",
            "Setting `pad_token_id` to `eos_token_id`:50256 for open-end generation.\n"
          ]
        },
        {
          "output_type": "stream",
          "name": "stdout",
          "text": [
            "  Batch   700  of  2,250. Loss: 2.2837142944335938.   Elapsed: 0:02:26.\n",
            "0:  castyes you should take them two tablets at once\n"
          ]
        },
        {
          "output_type": "stream",
          "name": "stderr",
          "text": [
            "The attention mask and the pad token id were not set. As a consequence, you may observe unexpected behavior. Please pass your input's `attention_mask` to obtain reliable results.\n",
            "Setting `pad_token_id` to `eos_token_id`:50256 for open-end generation.\n"
          ]
        },
        {
          "output_type": "stream",
          "name": "stdout",
          "text": [
            "  Batch   800  of  2,250. Loss: 1.3713111877441406.   Elapsed: 0:02:46.\n",
            "0:  purchyes there is some information in that the american cancer society recommends you take when you have a gallbladder prolapse gallstones are found in the gallbladder gland and gallstones in the uterus the gallbladder function helps the body break down cholesterol and the intestine which trap and destroy cholesterol gallstones also are found in the abdomen and belly the gallbladder causes gallbladder prolapse and can damage the bladder kidney bladder and pelvic organs gallstones can also occur in the legs or the back of a limb and in any part of the body the gallbladder is located in the lower leg and external shoulder area gallstones also occur in the stomach and in the groin area prolapse can occur at any part of the small intestine or a small intestine or abdominal region of the abdomen or in the pelvis and groin groin but occur most people have no symptoms gallbladder\n"
          ]
        },
        {
          "output_type": "stream",
          "name": "stderr",
          "text": [
            "The attention mask and the pad token id were not set. As a consequence, you may observe unexpected behavior. Please pass your input's `attention_mask` to obtain reliable results.\n",
            "Setting `pad_token_id` to `eos_token_id`:50256 for open-end generation.\n"
          ]
        },
        {
          "output_type": "stream",
          "name": "stdout",
          "text": [
            "  Batch   900  of  2,250. Loss: 1.9067569971084595.   Elapsed: 0:03:09.\n",
            "0:  shouldersi am afraid i can not blindly make a blanket statement as to the reason your doctor has prescribed this antibiotic i have had four previous cases of bacterial vaginosis and i have always had a strong negative patient relationship with the antibiotic i cannot really answer that question because i am not a medical professional i do not have to do it but i do want to tell you that you have to be careful with this antibiotic and you do not want to over give it to your boyfriend this condition in general it is perfectly ok to use an antibiotic on your own personal medications so i do not want to just give you the benadryl i would not to give you a bad night sweats because i am not even assuming his cough has something to do with it so since i do not know his medical history since this is a chronic bronchitis i would not recommend giving it to someone who has had this condition at least you as a primary care clinician for treating a bacterial vaginosis this is just treat him\n"
          ]
        },
        {
          "output_type": "stream",
          "name": "stderr",
          "text": [
            "The attention mask and the pad token id were not set. As a consequence, you may observe unexpected behavior. Please pass your input's `attention_mask` to obtain reliable results.\n",
            "Setting `pad_token_id` to `eos_token_id`:50256 for open-end generation.\n"
          ]
        },
        {
          "output_type": "stream",
          "name": "stdout",
          "text": [
            "  Batch 1,000  of  2,250. Loss: 1.8994585275650024.   Elapsed: 0:03:31.\n",
            "0:  builtyou will need to see a doctor or a doctor is office for the specific reason for your skin eruption and your medical history\n"
          ]
        },
        {
          "output_type": "stream",
          "name": "stderr",
          "text": [
            "The attention mask and the pad token id were not set. As a consequence, you may observe unexpected behavior. Please pass your input's `attention_mask` to obtain reliable results.\n",
            "Setting `pad_token_id` to `eos_token_id`:50256 for open-end generation.\n"
          ]
        },
        {
          "output_type": "stream",
          "name": "stdout",
          "text": [
            "  Batch 1,100  of  2,250. Loss: 1.9448182582855225.   Elapsed: 0:03:52.\n",
            "0:  openlyhi it seems the shingles shots are of no help if you have a mobile phone its better that you have an ivy ring instead of having an ivy shot look first as ivy shots can give you problems over a long term if you have had a mobile phone it would help as it will give you more problems if you have a mobile phone it would be better for you to have a mobile phone see if they can give you an ivy shot but it would be of no help if its been mobile it would give a mobile problem at a time when there really are no mobile problems but its not your problem it would be best to have a mobile problem or just get a mobile problem it could be got on your finger and never use the ring it would put in the way of getting through ivy your body as ivy and get you will never get that done then as you get an ivy shot good luck\n"
          ]
        },
        {
          "output_type": "stream",
          "name": "stderr",
          "text": [
            "The attention mask and the pad token id were not set. As a consequence, you may observe unexpected behavior. Please pass your input's `attention_mask` to obtain reliable results.\n",
            "Setting `pad_token_id` to `eos_token_id`:50256 for open-end generation.\n"
          ]
        },
        {
          "output_type": "stream",
          "name": "stdout",
          "text": [
            "  Batch 1,200  of  2,250. Loss: 2.2608606815338135.   Elapsed: 0:04:14.\n",
            "0:  haltedthere really is a limited number of medications that can be used for schizophrenia according to the american academy of pediatrics a medication list currently exists for schizophrenia treatment includes anti depression medications such as nyquil zegerine benadryl diphenhydramine pseudoephedrine pseudoephedrine phenobarbital and lexapro valium as well as medications for schizophrenia in the american academy of pediatrics if that is what they are intended for you cannot really expect to suddenly become depressed without antidepressants we would need to ask the patient why they are taking them lexapro or lexapro and if they believe they are depressed without lexapro\n"
          ]
        },
        {
          "output_type": "stream",
          "name": "stderr",
          "text": [
            "The attention mask and the pad token id were not set. As a consequence, you may observe unexpected behavior. Please pass your input's `attention_mask` to obtain reliable results.\n",
            "Setting `pad_token_id` to `eos_token_id`:50256 for open-end generation.\n"
          ]
        },
        {
          "output_type": "stream",
          "name": "stdout",
          "text": [
            "  Batch 1,300  of  2,250. Loss: 2.2031946182250977.   Elapsed: 0:04:36.\n",
            "0:  Nikhi here is some very interesting looking webmd answers on penis health <link> this piece discusses erectile dysfunction symptoms in men and boys men suffer from erectile dysfunction in most cases it is not caused by something the person is doing or is doing against their will erectile dysfunction also can be a condition seen in the general population men who are deficient in iron and vitamin d can develop erectile dysfunction these are the main causes of erectile dysfunction depression is associated with poor self esteem and men who smoke  poor diet and no exercise poor diet and poor exercise and men who smoke exercise are more likely to suffer erectile dysfunction  erectile dysfunction can also be a disease in children and teenagers and adults with juvenile onset of juvenile onset of juvenile onset of erectile dysfunction when you can occur in both boys age groups boys in general men and men and young men who smoke are also prone to erectile dysfunction in most cases a low testosterone levels may result in decreased sperm production in the urine and can be found in\n"
          ]
        },
        {
          "output_type": "stream",
          "name": "stderr",
          "text": [
            "The attention mask and the pad token id were not set. As a consequence, you may observe unexpected behavior. Please pass your input's `attention_mask` to obtain reliable results.\n",
            "Setting `pad_token_id` to `eos_token_id`:50256 for open-end generation.\n"
          ]
        },
        {
          "output_type": "stream",
          "name": "stdout",
          "text": [
            "  Batch 1,400  of  2,250. Loss: 1.3870073556900024.   Elapsed: 0:04:58.\n",
            "0:  tinthat is a good question you ask the pharmacist we recommend that you check the package label and make sure that there is no drug that is going into your system that is how we tell you to go do it a lot of medications have to be in the brand so the brand name may have something that is not in it so you might have to change a medication and it will not have to be in the same product we also tell parents and they can take the medication from the pharmacist who can help find the best products to take and give it to their child so in the pediatric world sometimes you can have to call your pediatrician and tell them the okay to take the product and make sure they are allergic or pick up some of the medication that comes in the pharmacy or call a pharmacy that is just different brand and brand names that may be available and sometimes it can be in some of the lot of different formulations they can be in the package and you know because it is not all there is a\n"
          ]
        },
        {
          "output_type": "stream",
          "name": "stderr",
          "text": [
            "The attention mask and the pad token id were not set. As a consequence, you may observe unexpected behavior. Please pass your input's `attention_mask` to obtain reliable results.\n",
            "Setting `pad_token_id` to `eos_token_id`:50256 for open-end generation.\n"
          ]
        },
        {
          "output_type": "stream",
          "name": "stdout",
          "text": [
            "  Batch 1,500  of  2,250. Loss: 2.089061975479126.   Elapsed: 0:05:21.\n",
            "0:  clinicalthis is called an early secondary bacterial infection assuming the organism did not have viable sputum bacteria in it is most contagious within 24 48 hours of exposure to the bacteria it can infect the skin and bloodstream in about 7 of cases bacterial infection is suspected bacterial culture results are done after an initial culture with high resolution microscopic analysis of the organism has been done the incubation time from exposure to the bacteria to the infection varies with the organism so the organism may not have survived long enough to be contagious so if it is still contagious and not active after a proper treatment it is not contagious to be patient you may be contagious to keep it to a doctor is office for 2 or send the patient to another room for observation it may be exposed to another patient for another week or 2 or 3 weeks until antibiotics are completed\n"
          ]
        },
        {
          "output_type": "stream",
          "name": "stderr",
          "text": [
            "The attention mask and the pad token id were not set. As a consequence, you may observe unexpected behavior. Please pass your input's `attention_mask` to obtain reliable results.\n",
            "Setting `pad_token_id` to `eos_token_id`:50256 for open-end generation.\n"
          ]
        },
        {
          "output_type": "stream",
          "name": "stdout",
          "text": [
            "  Batch 1,600  of  2,250. Loss: 2.1697514057159424.   Elapsed: 0:05:44.\n",
            "0: lectionshi this could be hormonal imbalance with underlying stress get hbg test done and get the mri done consult a gynecologist thanks\n"
          ]
        },
        {
          "output_type": "stream",
          "name": "stderr",
          "text": [
            "The attention mask and the pad token id were not set. As a consequence, you may observe unexpected behavior. Please pass your input's `attention_mask` to obtain reliable results.\n",
            "Setting `pad_token_id` to `eos_token_id`:50256 for open-end generation.\n"
          ]
        },
        {
          "output_type": "stream",
          "name": "stdout",
          "text": [
            "  Batch 1,700  of  2,250. Loss: 2.02813982963562.   Elapsed: 0:06:04.\n",
            "0: elshi i think your find it should go away as its a bit long for a period to go on it do hope this helps you good luck\n"
          ]
        },
        {
          "output_type": "stream",
          "name": "stderr",
          "text": [
            "The attention mask and the pad token id were not set. As a consequence, you may observe unexpected behavior. Please pass your input's `attention_mask` to obtain reliable results.\n",
            "Setting `pad_token_id` to `eos_token_id`:50256 for open-end generation.\n"
          ]
        },
        {
          "output_type": "stream",
          "name": "stdout",
          "text": [
            "  Batch 1,800  of  2,250. Loss: 2.555711030960083.   Elapsed: 0:06:25.\n",
            "0: labif it is an outbreak     it is a good indicator of infection in future cases in some cases a blood clot    called a hard clot   is infected the fluid has moved from the wound to the surface causing a pocket of blood clotting fluid filled with pus and pus on the wound that is oozing pus can move to other areas of the body so that they could eventually retreat back to their infected places if this is the case a pocket of blood clot will become infected\n"
          ]
        },
        {
          "output_type": "stream",
          "name": "stderr",
          "text": [
            "The attention mask and the pad token id were not set. As a consequence, you may observe unexpected behavior. Please pass your input's `attention_mask` to obtain reliable results.\n",
            "Setting `pad_token_id` to `eos_token_id`:50256 for open-end generation.\n"
          ]
        },
        {
          "output_type": "stream",
          "name": "stdout",
          "text": [
            "  Batch 1,900  of  2,250. Loss: 1.9871623516082764.   Elapsed: 0:06:46.\n",
            "0:  triplehi the blood seems to have passed this far its most likely that he has an enlarged lymph node he should consult a physician immediately good luck\n"
          ]
        },
        {
          "output_type": "stream",
          "name": "stderr",
          "text": [
            "The attention mask and the pad token id were not set. As a consequence, you may observe unexpected behavior. Please pass your input's `attention_mask` to obtain reliable results.\n",
            "Setting `pad_token_id` to `eos_token_id`:50256 for open-end generation.\n"
          ]
        },
        {
          "output_type": "stream",
          "name": "stdout",
          "text": [
            "  Batch 2,000  of  2,250. Loss: 1.4153485298156738.   Elapsed: 0:07:07.\n",
            "0: 220there is nothing over the counter that is as effective as what you are using there are lots of over the counter pain relievers that are for the worse but for most people i think you should ask your ob since you are over the age of 21 or in the early 60 is this an age group that would really benefit you and your family what you have in mind is that pain in the morning is probably associated with some chronic constipation    or chronic diarrhea that is associated with chronic inflammation or infection so perhaps that is what would be your concern here is your diet may be causing the burning it is really can be best to see a diet and possibly see a good doctor and go to the er and ask you may want to have a proper amount of hydration that is really need to see a doctor\n"
          ]
        },
        {
          "output_type": "stream",
          "name": "stderr",
          "text": [
            "The attention mask and the pad token id were not set. As a consequence, you may observe unexpected behavior. Please pass your input's `attention_mask` to obtain reliable results.\n",
            "Setting `pad_token_id` to `eos_token_id`:50256 for open-end generation.\n"
          ]
        },
        {
          "output_type": "stream",
          "name": "stdout",
          "text": [
            "  Batch 2,100  of  2,250. Loss: 1.7655123472213745.   Elapsed: 0:07:29.\n",
            "0:  Seehi i cant see what your doing with your penis getting erect during masturbation it is a mystery to me as you may find it to be an erection but please read this link <link> just copy this link into google to open and read if it does not work do not go see your doctor asap just take it from there you may need to get on some kind of meds or have some kind of an std test it would be best to see that guy to see what is going on\n"
          ]
        },
        {
          "output_type": "stream",
          "name": "stderr",
          "text": [
            "The attention mask and the pad token id were not set. As a consequence, you may observe unexpected behavior. Please pass your input's `attention_mask` to obtain reliable results.\n",
            "Setting `pad_token_id` to `eos_token_id`:50256 for open-end generation.\n"
          ]
        },
        {
          "output_type": "stream",
          "name": "stdout",
          "text": [
            "  Batch 2,200  of  2,250. Loss: 2.1809964179992676.   Elapsed: 0:07:51.\n",
            "0: @@i believe so they would both be fine as long as you both have a valid valid medical justification\n",
            "\n",
            "  Average training loss: 2.09\n",
            "  Training epoch took: 0:08:01\n",
            "\n",
            "Running Validation...\n",
            "  Validation Loss: 2.50\n",
            "  Validation took: 0:00:14\n",
            "\n",
            "======== Epoch 4 / 4 ========\n",
            "Training...\n"
          ]
        },
        {
          "output_type": "stream",
          "name": "stderr",
          "text": [
            "The attention mask and the pad token id were not set. As a consequence, you may observe unexpected behavior. Please pass your input's `attention_mask` to obtain reliable results.\n",
            "Setting `pad_token_id` to `eos_token_id`:50256 for open-end generation.\n"
          ]
        },
        {
          "output_type": "stream",
          "name": "stdout",
          "text": [
            "  Batch   100  of  2,250. Loss: 1.521431803703308.   Elapsed: 0:00:20.\n",
            "0:  hosthi i think its a good thing but when the dose gets higher your having nausea for longer periods than usual and yes you should see a doctor if it has not helped then get to your er asap good luck\n"
          ]
        },
        {
          "output_type": "stream",
          "name": "stderr",
          "text": [
            "The attention mask and the pad token id were not set. As a consequence, you may observe unexpected behavior. Please pass your input's `attention_mask` to obtain reliable results.\n",
            "Setting `pad_token_id` to `eos_token_id`:50256 for open-end generation.\n"
          ]
        },
        {
          "output_type": "stream",
          "name": "stdout",
          "text": [
            "  Batch   200  of  2,250. Loss: 1.7441400289535522.   Elapsed: 0:00:41.\n",
            "0: roleif you are not allergic to any food or medicine you are allergic to wheat gluten these foods and their ingredients are the same as those used in food poisoning but they are not identical you can find information about various foods that can cause gastrointestinal symptoms in people who have allergies by calling the dietitian if you can get an idea of what you might be allergic to talk to your health care provider\n"
          ]
        },
        {
          "output_type": "stream",
          "name": "stderr",
          "text": [
            "The attention mask and the pad token id were not set. As a consequence, you may observe unexpected behavior. Please pass your input's `attention_mask` to obtain reliable results.\n",
            "Setting `pad_token_id` to `eos_token_id`:50256 for open-end generation.\n"
          ]
        },
        {
          "output_type": "stream",
          "name": "stdout",
          "text": [
            "  Batch   300  of  2,250. Loss: 1.9313087463378906.   Elapsed: 0:01:03.\n",
            "0: iachi have a good read through this link its from the uk is nhs lots of info that is very helpful even for us who live in the us its from the uk is nhs its all free you can do to get help good luck\n"
          ]
        },
        {
          "output_type": "stream",
          "name": "stderr",
          "text": [
            "The attention mask and the pad token id were not set. As a consequence, you may observe unexpected behavior. Please pass your input's `attention_mask` to obtain reliable results.\n",
            "Setting `pad_token_id` to `eos_token_id`:50256 for open-end generation.\n"
          ]
        },
        {
          "output_type": "stream",
          "name": "stdout",
          "text": [
            "  Batch   400  of  2,250. Loss: 1.5775682926177979.   Elapsed: 0:01:23.\n",
            "0:  LDhave fun i will get you an answer\n"
          ]
        },
        {
          "output_type": "stream",
          "name": "stderr",
          "text": [
            "The attention mask and the pad token id were not set. As a consequence, you may observe unexpected behavior. Please pass your input's `attention_mask` to obtain reliable results.\n",
            "Setting `pad_token_id` to `eos_token_id`:50256 for open-end generation.\n"
          ]
        },
        {
          "output_type": "stream",
          "name": "stdout",
          "text": [
            "  Batch   500  of  2,250. Loss: 1.3620761632919312.   Elapsed: 0:01:44.\n",
            "0:  Listeni do not believe that i have seen it but i do not think that a zygote is a parasite\n"
          ]
        },
        {
          "output_type": "stream",
          "name": "stderr",
          "text": [
            "The attention mask and the pad token id were not set. As a consequence, you may observe unexpected behavior. Please pass your input's `attention_mask` to obtain reliable results.\n",
            "Setting `pad_token_id` to `eos_token_id`:50256 for open-end generation.\n"
          ]
        },
        {
          "output_type": "stream",
          "name": "stdout",
          "text": [
            "  Batch   600  of  2,250. Loss: 1.994710087776184.   Elapsed: 0:02:04.\n",
            "0:  dyyes you could actually be pregnant\n"
          ]
        },
        {
          "output_type": "stream",
          "name": "stderr",
          "text": [
            "The attention mask and the pad token id were not set. As a consequence, you may observe unexpected behavior. Please pass your input's `attention_mask` to obtain reliable results.\n",
            "Setting `pad_token_id` to `eos_token_id`:50256 for open-end generation.\n"
          ]
        },
        {
          "output_type": "stream",
          "name": "stdout",
          "text": [
            "  Batch   700  of  2,250. Loss: 1.631001353263855.   Elapsed: 0:02:25.\n",
            "0:  Domesticit sounds like you should get this checked out by your primary care doctor because the cause of your symptoms could be a virus or a bacterial infection at the very least you may need an antibiotic if this does not clear up within a couple of days you may need to have your medical provider order another test to look for other causes of your symptoms\n"
          ]
        },
        {
          "output_type": "stream",
          "name": "stderr",
          "text": [
            "The attention mask and the pad token id were not set. As a consequence, you may observe unexpected behavior. Please pass your input's `attention_mask` to obtain reliable results.\n",
            "Setting `pad_token_id` to `eos_token_id`:50256 for open-end generation.\n"
          ]
        },
        {
          "output_type": "stream",
          "name": "stdout",
          "text": [
            "  Batch   800  of  2,250. Loss: 1.7542253732681274.   Elapsed: 0:02:46.\n",
            "0:  beneficiarieshi if all his tests are normal then it could be just a skipped period if no symptoms or pregnancy that is if this is the last test he had done then you should take him to a doctor to get test results done if not then they can be advised a blood test can be taken if its negative that can help get a usg abdomen done thanks\n"
          ]
        },
        {
          "output_type": "stream",
          "name": "stderr",
          "text": [
            "The attention mask and the pad token id were not set. As a consequence, you may observe unexpected behavior. Please pass your input's `attention_mask` to obtain reliable results.\n",
            "Setting `pad_token_id` to `eos_token_id`:50256 for open-end generation.\n"
          ]
        },
        {
          "output_type": "stream",
          "name": "stdout",
          "text": [
            "  Batch   900  of  2,250. Loss: 1.538340449333191.   Elapsed: 0:03:07.\n",
            "0:  Titlehi if a child has diarrhoea a fever doesnt seem to be dangerous it is better to get an ebola shot to check for the infection take antimalarial medicines and get a complete usg of abdomen done hope this helps\n"
          ]
        },
        {
          "output_type": "stream",
          "name": "stderr",
          "text": [
            "The attention mask and the pad token id were not set. As a consequence, you may observe unexpected behavior. Please pass your input's `attention_mask` to obtain reliable results.\n",
            "Setting `pad_token_id` to `eos_token_id`:50256 for open-end generation.\n"
          ]
        },
        {
          "output_type": "stream",
          "name": "stdout",
          "text": [
            "  Batch 1,000  of  2,250. Loss: 1.7409687042236328.   Elapsed: 0:03:28.\n",
            "0:  μyes many times in a half hour or two of hot water not enough to see her urine the red part of the urine will turn green and the green part of the urine will become cloudy depending on the amount of urine that is being analyzed if she has two small children in one room she could be getting plenty of urine and there are other reasons for this\n"
          ]
        },
        {
          "output_type": "stream",
          "name": "stderr",
          "text": [
            "The attention mask and the pad token id were not set. As a consequence, you may observe unexpected behavior. Please pass your input's `attention_mask` to obtain reliable results.\n",
            "Setting `pad_token_id` to `eos_token_id`:50256 for open-end generation.\n"
          ]
        },
        {
          "output_type": "stream",
          "name": "stdout",
          "text": [
            "  Batch 1,100  of  2,250. Loss: 1.5732725858688354.   Elapsed: 0:03:49.\n",
            "0:  sellingthere are several reasons for acne breakouts common reasons include your acne may have changed over time and hormones may have thrown it off balance hormonal fluctuations could cause more breakouts to occur hormonal imbalance may also increase the turnover rate of your skin so it may be better to try a natural skin care regimen that is dermatologically tested prior to applying your acne because you have not had it in a while there may be a time limit to your hormones for women who do have severe acne acne breakouts or if you do have a severe acne you could be treated by a prescription ointment containing pepto oil to help it settle down and work its effectiveness it is best to consult a good dermatologist\n"
          ]
        },
        {
          "output_type": "stream",
          "name": "stderr",
          "text": [
            "The attention mask and the pad token id were not set. As a consequence, you may observe unexpected behavior. Please pass your input's `attention_mask` to obtain reliable results.\n",
            "Setting `pad_token_id` to `eos_token_id`:50256 for open-end generation.\n"
          ]
        },
        {
          "output_type": "stream",
          "name": "stdout",
          "text": [
            "  Batch 1,200  of  2,250. Loss: 1.9394222497940063.   Elapsed: 0:04:11.\n",
            "0:  migrantyes you can get a flu shot at any time influenza virus can stay on your body for a short period of time even if your symptoms are mild you still can still get the shot\n"
          ]
        },
        {
          "output_type": "stream",
          "name": "stderr",
          "text": [
            "The attention mask and the pad token id were not set. As a consequence, you may observe unexpected behavior. Please pass your input's `attention_mask` to obtain reliable results.\n",
            "Setting `pad_token_id` to `eos_token_id`:50256 for open-end generation.\n"
          ]
        },
        {
          "output_type": "stream",
          "name": "stdout",
          "text": [
            "  Batch 1,300  of  2,250. Loss: 1.1648505926132202.   Elapsed: 0:04:32.\n",
            "0: ivelyno there is no evidence to suggest the disease would progress to cervical cancer again there is little or nothing clinical evidence that acupuncture will have any therapeutic benefit\n"
          ]
        },
        {
          "output_type": "stream",
          "name": "stderr",
          "text": [
            "The attention mask and the pad token id were not set. As a consequence, you may observe unexpected behavior. Please pass your input's `attention_mask` to obtain reliable results.\n",
            "Setting `pad_token_id` to `eos_token_id`:50256 for open-end generation.\n"
          ]
        },
        {
          "output_type": "stream",
          "name": "stdout",
          "text": [
            "  Batch 1,400  of  2,250. Loss: 1.8446661233901978.   Elapsed: 0:04:53.\n",
            "0:  ordera pregnancy test for chlamydia is considered safe in pregnancy if your medical provider or ob gyn did not specifically ask you to repeat a test for chlamydia he or she would have recommended that you do so do not be prematurely concerned\n"
          ]
        },
        {
          "output_type": "stream",
          "name": "stderr",
          "text": [
            "The attention mask and the pad token id were not set. As a consequence, you may observe unexpected behavior. Please pass your input's `attention_mask` to obtain reliable results.\n",
            "Setting `pad_token_id` to `eos_token_id`:50256 for open-end generation.\n"
          ]
        },
        {
          "output_type": "stream",
          "name": "stdout",
          "text": [
            "  Batch 1,500  of  2,250. Loss: 2.127811908721924.   Elapsed: 0:05:14.\n",
            "0:  VPNmost helpful answer it is not likely you were exposed to any type of herpes by the penis of a female you will always have a sore throat sore like yours the only thing you can do is wait for the herpes to go away without leaving a scar that you will never have again if you have not had a sore throat for over 2 weeks or so you have spread the virus to your groin area area the location where you developed the sore throat was obviously not the location of your initial outbreak\n"
          ]
        },
        {
          "output_type": "stream",
          "name": "stderr",
          "text": [
            "The attention mask and the pad token id were not set. As a consequence, you may observe unexpected behavior. Please pass your input's `attention_mask` to obtain reliable results.\n",
            "Setting `pad_token_id` to `eos_token_id`:50256 for open-end generation.\n"
          ]
        },
        {
          "output_type": "stream",
          "name": "stdout",
          "text": [
            "  Batch 1,600  of  2,250. Loss: 1.950222134590149.   Elapsed: 0:05:35.\n",
            "0:  explanationas much as i would like to address your concern i cannot the cause of your daughter is constipation is it is not true constipation is just some fluid that her body must process every day or so you may feel some burning sensation in her lower back and lower abdomen as the constipation becomes more frequent she may experience a mild gastric upset nausea vomiting and burping this can occur in people of all ages as long as the constipation is occurring in children for the most part she is fine it can cause other symptoms including cramping and a fever these symptoms may also occur in older children over the age of 1 and 2 having light sensitivity to light the food she may experience nausea vomiting for a short time or having difficulty breathing although the vomiting does not disappear for 2 diarrhea or diarrhea can be a sign of serious it can continue for a long time\n"
          ]
        },
        {
          "output_type": "stream",
          "name": "stderr",
          "text": [
            "The attention mask and the pad token id were not set. As a consequence, you may observe unexpected behavior. Please pass your input's `attention_mask` to obtain reliable results.\n",
            "Setting `pad_token_id` to `eos_token_id`:50256 for open-end generation.\n"
          ]
        },
        {
          "output_type": "stream",
          "name": "stdout",
          "text": [
            "  Batch 1,700  of  2,250. Loss: 1.3473870754241943.   Elapsed: 0:05:58.\n",
            "0:  Bachthe cause of bipolar disorder is unknown but a number of factors may play a role this includes an individual is age stress abuse past traumas such as a child abuse suicide attempts disorders that result in an individual making too much money or a high risk for medical problems such as strokes heart disease or strokes bipolar disorder increases the risk of serious health consequences such as stroke heart failure or major depression for men of this age and may be present in a more severe form for people over 35 years of age stress may lead to severe or long term problems with mood disorders people whose risk for serious health problems increases while they are at an early stage of depression may experience a panic attack before symptoms flare up they may experience a mania or mania panic disorder with depression during the manic episodes a mania is a mania may occur during one episode of depression a mania may occur while no symptoms of depression are present for more than 10 to 15 years in people in a person over 30 years of illness can have bipolar disorder\n"
          ]
        },
        {
          "output_type": "stream",
          "name": "stderr",
          "text": [
            "The attention mask and the pad token id were not set. As a consequence, you may observe unexpected behavior. Please pass your input's `attention_mask` to obtain reliable results.\n",
            "Setting `pad_token_id` to `eos_token_id`:50256 for open-end generation.\n"
          ]
        },
        {
          "output_type": "stream",
          "name": "stdout",
          "text": [
            "  Batch 1,800  of  2,250. Loss: 1.9591331481933594.   Elapsed: 0:06:21.\n",
            "0:  folderas you probably know i do not know anything about you or your condition to suggest a specific exercise plan but here is a couple of suggestions your first step is to get out and get into the exercise program eat a healthy diet eat well balanced meals with plenty of fruits vegetables and whole grains eat a healthy diet when you eat well balanced meals the first quarter of your meals should be about 100 calories less saturated fat than saturated proteins and fat if you are having issues with cholesterol or high blood cholesterol your blood pressure needs to be checked out by a doctor while a cholesterol level of less than 200 or above is considered borderline high remember that regular exercise can result in lower blood pressure as well as heart disease so do not just try to maximize your workouts the weight you are building blocks and make it easier for you to exercise do not starve them if you want to get the calorie expenditure keep them on track eat a healthy diet eat a healthy diet be aware of your exercise routine make a regular exercise routine avoid over time or make\n"
          ]
        },
        {
          "output_type": "stream",
          "name": "stderr",
          "text": [
            "The attention mask and the pad token id were not set. As a consequence, you may observe unexpected behavior. Please pass your input's `attention_mask` to obtain reliable results.\n",
            "Setting `pad_token_id` to `eos_token_id`:50256 for open-end generation.\n"
          ]
        },
        {
          "output_type": "stream",
          "name": "stdout",
          "text": [
            "  Batch 1,900  of  2,250. Loss: 1.8719565868377686.   Elapsed: 0:06:43.\n",
            "0:  buildingthe law requires insurers to cover the cost of services provided to people who buy insurance on their own or work based health plan if you buy a policy on your own you will not be eligible for tax credits nor will it count toward your annual income\n"
          ]
        },
        {
          "output_type": "stream",
          "name": "stderr",
          "text": [
            "The attention mask and the pad token id were not set. As a consequence, you may observe unexpected behavior. Please pass your input's `attention_mask` to obtain reliable results.\n",
            "Setting `pad_token_id` to `eos_token_id`:50256 for open-end generation.\n"
          ]
        },
        {
          "output_type": "stream",
          "name": "stdout",
          "text": [
            "  Batch 2,000  of  2,250. Loss: 1.2744133472442627.   Elapsed: 0:07:04.\n",
            "0:  Babylonbreathing problems are common after prostate surgery surgery the prostate sits just below the bladder the lower abdomen the neck and back the lower limbs the lower abdomen and the upper respiratory tract also tend to sag down at the low back this sometimes referred to as a saggy belly  the prostate sits just behind the bladder and so does the rest of the body the neck and lower limbs produce a lot of fluid in this area and sometimes it causes pain and pressure in this area it can even be called the lower abdomen or the groin so in a person who is having pressure symptoms of having a saggy belly often the doctor may remove the bladder and put the area of the surgery in contrast with a cool mist humidifier with a stream of urine this usually referred to as a sphincter a deep state the fluid drain the doctor may put a barium swallow the barium or the doctor may put some salt water straight into a small bag the barium into the bladder by the lower back then down into a\n"
          ]
        },
        {
          "output_type": "stream",
          "name": "stderr",
          "text": [
            "The attention mask and the pad token id were not set. As a consequence, you may observe unexpected behavior. Please pass your input's `attention_mask` to obtain reliable results.\n",
            "Setting `pad_token_id` to `eos_token_id`:50256 for open-end generation.\n"
          ]
        },
        {
          "output_type": "stream",
          "name": "stdout",
          "text": [
            "  Batch 2,100  of  2,250. Loss: 1.7560343742370605.   Elapsed: 0:07:27.\n",
            "0: periali would suggest you contact your local state health insurance assistance programs for free unbiased help selecting a plan go to healthcare gov\n"
          ]
        },
        {
          "output_type": "stream",
          "name": "stderr",
          "text": [
            "The attention mask and the pad token id were not set. As a consequence, you may observe unexpected behavior. Please pass your input's `attention_mask` to obtain reliable results.\n",
            "Setting `pad_token_id` to `eos_token_id`:50256 for open-end generation.\n"
          ]
        },
        {
          "output_type": "stream",
          "name": "stdout",
          "text": [
            "  Batch 2,200  of  2,250. Loss: 1.6811639070510864.   Elapsed: 0:07:47.\n",
            "0:  rentshi there seems to be internal hemorrage around you ear may be blocked or wax impaction in your ear drum may also cause it get examined for confirmation and anti ear wax as it may have drained out completely consult an ent specialist thanks\n",
            "\n",
            "  Average training loss: 1.74\n",
            "  Training epoch took: 0:07:58\n",
            "\n",
            "Running Validation...\n",
            "  Validation Loss: 2.58\n",
            "  Validation took: 0:00:14\n",
            "\n",
            "Training complete!\n",
            "Total training took 0:33:01 (h:mm:ss)\n"
          ]
        }
      ]
    },
    {
      "cell_type": "code",
      "source": [
        "# Display floats with two decimal places.\n",
        "pd.set_option('precision', 2)\n",
        "\n",
        "# Create a DataFrame from our training statistics.\n",
        "df_stats = pd.DataFrame(data=training_stats)\n",
        "\n",
        "# Use the 'epoch' as the row index.\n",
        "df_stats = df_stats.set_index('epoch')\n",
        "\n",
        "# A hack to force the column headers to wrap.\n",
        "#df = df.style.set_table_styles([dict(selector=\"th\",props=[('max-width', '70px')])])\n",
        "\n",
        "# Display the table.\n",
        "df_stats"
      ],
      "metadata": {
        "id": "3WaV5pf98K3W",
        "colab": {
          "base_uri": "https://localhost:8080/",
          "height": 206
        },
        "outputId": "b385265c-3426-4193-8003-f50949442514"
      },
      "execution_count": 29,
      "outputs": [
        {
          "output_type": "execute_result",
          "data": {
            "text/plain": [
              "       Training Loss  Valid. Loss Training Time Validation Time\n",
              "epoch                                                          \n",
              "1               3.09         2.55       0:08:07         0:00:14\n",
              "2               2.41         2.50       0:08:00         0:00:14\n",
              "3               2.09         2.50       0:08:01         0:00:14\n",
              "4               1.74         2.58       0:07:58         0:00:14"
            ],
            "text/html": [
              "\n",
              "  <div id=\"df-ad0f787a-993e-4bff-85f8-e883f25fbdb3\">\n",
              "    <div class=\"colab-df-container\">\n",
              "      <div>\n",
              "<style scoped>\n",
              "    .dataframe tbody tr th:only-of-type {\n",
              "        vertical-align: middle;\n",
              "    }\n",
              "\n",
              "    .dataframe tbody tr th {\n",
              "        vertical-align: top;\n",
              "    }\n",
              "\n",
              "    .dataframe thead th {\n",
              "        text-align: right;\n",
              "    }\n",
              "</style>\n",
              "<table border=\"1\" class=\"dataframe\">\n",
              "  <thead>\n",
              "    <tr style=\"text-align: right;\">\n",
              "      <th></th>\n",
              "      <th>Training Loss</th>\n",
              "      <th>Valid. Loss</th>\n",
              "      <th>Training Time</th>\n",
              "      <th>Validation Time</th>\n",
              "    </tr>\n",
              "    <tr>\n",
              "      <th>epoch</th>\n",
              "      <th></th>\n",
              "      <th></th>\n",
              "      <th></th>\n",
              "      <th></th>\n",
              "    </tr>\n",
              "  </thead>\n",
              "  <tbody>\n",
              "    <tr>\n",
              "      <th>1</th>\n",
              "      <td>3.09</td>\n",
              "      <td>2.55</td>\n",
              "      <td>0:08:07</td>\n",
              "      <td>0:00:14</td>\n",
              "    </tr>\n",
              "    <tr>\n",
              "      <th>2</th>\n",
              "      <td>2.41</td>\n",
              "      <td>2.50</td>\n",
              "      <td>0:08:00</td>\n",
              "      <td>0:00:14</td>\n",
              "    </tr>\n",
              "    <tr>\n",
              "      <th>3</th>\n",
              "      <td>2.09</td>\n",
              "      <td>2.50</td>\n",
              "      <td>0:08:01</td>\n",
              "      <td>0:00:14</td>\n",
              "    </tr>\n",
              "    <tr>\n",
              "      <th>4</th>\n",
              "      <td>1.74</td>\n",
              "      <td>2.58</td>\n",
              "      <td>0:07:58</td>\n",
              "      <td>0:00:14</td>\n",
              "    </tr>\n",
              "  </tbody>\n",
              "</table>\n",
              "</div>\n",
              "      <button class=\"colab-df-convert\" onclick=\"convertToInteractive('df-ad0f787a-993e-4bff-85f8-e883f25fbdb3')\"\n",
              "              title=\"Convert this dataframe to an interactive table.\"\n",
              "              style=\"display:none;\">\n",
              "        \n",
              "  <svg xmlns=\"http://www.w3.org/2000/svg\" height=\"24px\"viewBox=\"0 0 24 24\"\n",
              "       width=\"24px\">\n",
              "    <path d=\"M0 0h24v24H0V0z\" fill=\"none\"/>\n",
              "    <path d=\"M18.56 5.44l.94 2.06.94-2.06 2.06-.94-2.06-.94-.94-2.06-.94 2.06-2.06.94zm-11 1L8.5 8.5l.94-2.06 2.06-.94-2.06-.94L8.5 2.5l-.94 2.06-2.06.94zm10 10l.94 2.06.94-2.06 2.06-.94-2.06-.94-.94-2.06-.94 2.06-2.06.94z\"/><path d=\"M17.41 7.96l-1.37-1.37c-.4-.4-.92-.59-1.43-.59-.52 0-1.04.2-1.43.59L10.3 9.45l-7.72 7.72c-.78.78-.78 2.05 0 2.83L4 21.41c.39.39.9.59 1.41.59.51 0 1.02-.2 1.41-.59l7.78-7.78 2.81-2.81c.8-.78.8-2.07 0-2.86zM5.41 20L4 18.59l7.72-7.72 1.47 1.35L5.41 20z\"/>\n",
              "  </svg>\n",
              "      </button>\n",
              "      \n",
              "  <style>\n",
              "    .colab-df-container {\n",
              "      display:flex;\n",
              "      flex-wrap:wrap;\n",
              "      gap: 12px;\n",
              "    }\n",
              "\n",
              "    .colab-df-convert {\n",
              "      background-color: #E8F0FE;\n",
              "      border: none;\n",
              "      border-radius: 50%;\n",
              "      cursor: pointer;\n",
              "      display: none;\n",
              "      fill: #1967D2;\n",
              "      height: 32px;\n",
              "      padding: 0 0 0 0;\n",
              "      width: 32px;\n",
              "    }\n",
              "\n",
              "    .colab-df-convert:hover {\n",
              "      background-color: #E2EBFA;\n",
              "      box-shadow: 0px 1px 2px rgba(60, 64, 67, 0.3), 0px 1px 3px 1px rgba(60, 64, 67, 0.15);\n",
              "      fill: #174EA6;\n",
              "    }\n",
              "\n",
              "    [theme=dark] .colab-df-convert {\n",
              "      background-color: #3B4455;\n",
              "      fill: #D2E3FC;\n",
              "    }\n",
              "\n",
              "    [theme=dark] .colab-df-convert:hover {\n",
              "      background-color: #434B5C;\n",
              "      box-shadow: 0px 1px 3px 1px rgba(0, 0, 0, 0.15);\n",
              "      filter: drop-shadow(0px 1px 2px rgba(0, 0, 0, 0.3));\n",
              "      fill: #FFFFFF;\n",
              "    }\n",
              "  </style>\n",
              "\n",
              "      <script>\n",
              "        const buttonEl =\n",
              "          document.querySelector('#df-ad0f787a-993e-4bff-85f8-e883f25fbdb3 button.colab-df-convert');\n",
              "        buttonEl.style.display =\n",
              "          google.colab.kernel.accessAllowed ? 'block' : 'none';\n",
              "\n",
              "        async function convertToInteractive(key) {\n",
              "          const element = document.querySelector('#df-ad0f787a-993e-4bff-85f8-e883f25fbdb3');\n",
              "          const dataTable =\n",
              "            await google.colab.kernel.invokeFunction('convertToInteractive',\n",
              "                                                     [key], {});\n",
              "          if (!dataTable) return;\n",
              "\n",
              "          const docLinkHtml = 'Like what you see? Visit the ' +\n",
              "            '<a target=\"_blank\" href=https://colab.research.google.com/notebooks/data_table.ipynb>data table notebook</a>'\n",
              "            + ' to learn more about interactive tables.';\n",
              "          element.innerHTML = '';\n",
              "          dataTable['output_type'] = 'display_data';\n",
              "          await google.colab.output.renderOutput(dataTable, element);\n",
              "          const docLink = document.createElement('div');\n",
              "          docLink.innerHTML = docLinkHtml;\n",
              "          element.appendChild(docLink);\n",
              "        }\n",
              "      </script>\n",
              "    </div>\n",
              "  </div>\n",
              "  "
            ]
          },
          "metadata": {},
          "execution_count": 29
        }
      ]
    },
    {
      "cell_type": "code",
      "source": [
        "# Saving best-practices: if you use defaults names for the model, you can reload it using from_pretrained()\n",
        "\n",
        "output_dir = '/content/drive/MyDrive/2.model'\n",
        "\n",
        "# Create output directory if needed\n",
        "# if not os.path.exists(output_dir):\n",
        "#     os.makedirs(output_dir)\n",
        "\n",
        "print(\"Saving model to %s\" % output_dir)\n",
        "\n",
        "# Save a trained model, configuration and tokenizer using `save_pretrained()`.\n",
        "# They can then be reloaded using `from_pretrained()`\n",
        "model_to_save = model.module if hasattr(model, 'module') else model  # Take care of distributed/parallel training\n",
        "model_to_save.save_pretrained(output_dir)\n",
        "tokenizer.save_pretrained(output_dir)\n"
      ],
      "metadata": {
        "colab": {
          "base_uri": "https://localhost:8080/"
        },
        "id": "FDoPOEqTCvAB",
        "outputId": "44cdea93-7c87-46f0-92a7-c23e822f8356"
      },
      "execution_count": 30,
      "outputs": [
        {
          "output_type": "stream",
          "name": "stdout",
          "text": [
            "Saving model to /content/drive/MyDrive/2.model\n"
          ]
        },
        {
          "output_type": "execute_result",
          "data": {
            "text/plain": [
              "('/content/drive/MyDrive/2.model/tokenizer_config.json',\n",
              " '/content/drive/MyDrive/2.model/special_tokens_map.json',\n",
              " '/content/drive/MyDrive/2.model/vocab.json',\n",
              " '/content/drive/MyDrive/2.model/merges.txt',\n",
              " '/content/drive/MyDrive/2.model/added_tokens.json')"
            ]
          },
          "metadata": {},
          "execution_count": 30
        }
      ]
    },
    {
      "cell_type": "code",
      "source": [
        "# Use plot styling from seaborn.\n",
        "sns.set(style='darkgrid')\n",
        "\n",
        "# Increase the plot size and font size.\n",
        "sns.set(font_scale=1.5)\n",
        "plt.rcParams[\"figure.figsize\"] = (12,6)\n",
        "\n",
        "# Plot the learning curve.\n",
        "plt.plot(df_stats['Training Loss'], 'b-o', label=\"Training\")\n",
        "plt.plot(df_stats['Valid. Loss'], 'g-o', label=\"Validation\")\n",
        "\n",
        "# Label the plot.\n",
        "plt.title(\"Training & Validation Loss\")\n",
        "plt.xlabel(\"Epoch\")\n",
        "plt.ylabel(\"Loss\")\n",
        "plt.legend()\n",
        "plt.xticks([1, 2, 3, 4])\n",
        "\n",
        "plt.show()"
      ],
      "metadata": {
        "id": "3HIY2mTQILgI",
        "colab": {
          "base_uri": "https://localhost:8080/",
          "height": 427
        },
        "outputId": "dd60c338-542a-4266-ac76-addf42be3a00"
      },
      "execution_count": 31,
      "outputs": [
        {
          "output_type": "display_data",
          "data": {
            "text/plain": [
              "<Figure size 864x432 with 1 Axes>"
            ],
            "image/png": "[encoded data removed]"
          },
          "metadata": {}
        }
      ]
    },
    {
      "cell_type": "markdown",
      "source": [
        "**Importing the saved model**"
      ],
      "metadata": {
        "id": "17tW8Ul3ihWM"
      }
    },
    {
      "cell_type": "code",
      "source": [
        "!pip install transformers"
      ],
      "metadata": {
        "colab": {
          "base_uri": "https://localhost:8080/"
        },
        "id": "nzezpJS234SR",
        "outputId": "ad214a49-1099-4e8f-83a1-0f96c130051d"
      },
      "execution_count": 2,
      "outputs": [
        {
          "output_type": "stream",
          "name": "stdout",
          "text": [
            "Looking in indexes: https://pypi.org/simple, https://us-python.pkg.dev/colab-wheels/public/simple/\n",
            "Collecting transformers\n",
            "  Downloading transformers-4.26.1-py3-none-any.whl (6.3 MB)\n",
            "\u001b[2K     \u001b[90m━━━━━━━━━━━━━━━━━━━━━━━━━━━━━━━━━━━━━━━━\u001b[0m \u001b[32m6.3/6.3 MB\u001b[0m \u001b[31m58.7 MB/s\u001b[0m eta \u001b[36m0:00:00\u001b[0m\n",
            "\u001b[?25hRequirement already satisfied: tqdm>=4.27 in /usr/local/lib/python3.8/dist-packages (from transformers) (4.64.1)\n",
            "Requirement already satisfied: filelock in /usr/local/lib/python3.8/dist-packages (from transformers) (3.9.0)\n",
            "Requirement already satisfied: pyyaml>=5.1 in /usr/local/lib/python3.8/dist-packages (from transformers) (6.0)\n",
            "Collecting huggingface-hub<1.0,>=0.11.0\n",
            "  Downloading huggingface_hub-0.12.1-py3-none-any.whl (190 kB)\n",
            "\u001b[2K     \u001b[90m━━━━━━━━━━━━━━━━━━━━━━━━━━━━━━━━━━━━━━\u001b[0m \u001b[32m190.3/190.3 KB\u001b[0m \u001b[31m21.4 MB/s\u001b[0m eta \u001b[36m0:00:00\u001b[0m\n",
            "\u001b[?25hRequirement already satisfied: numpy>=1.17 in /usr/local/lib/python3.8/dist-packages (from transformers) (1.21.6)\n",
            "Requirement already satisfied: regex!=2019.12.17 in /usr/local/lib/python3.8/dist-packages (from transformers) (2022.6.2)\n",
            "Requirement already satisfied: packaging>=20.0 in /usr/local/lib/python3.8/dist-packages (from transformers) (23.0)\n",
            "Requirement already satisfied: requests in /usr/local/lib/python3.8/dist-packages (from transformers) (2.25.1)\n",
            "Collecting tokenizers!=0.11.3,<0.14,>=0.11.1\n",
            "  Downloading tokenizers-0.13.2-cp38-cp38-manylinux_2_17_x86_64.manylinux2014_x86_64.whl (7.6 MB)\n",
            "\u001b[2K     \u001b[90m━━━━━━━━━━━━━━━━━━━━━━━━━━━━━━━━━━━━━━━━\u001b[0m \u001b[32m7.6/7.6 MB\u001b[0m \u001b[31m70.5 MB/s\u001b[0m eta \u001b[36m0:00:00\u001b[0m\n",
            "\u001b[?25hRequirement already satisfied: typing-extensions>=3.7.4.3 in /usr/local/lib/python3.8/dist-packages (from huggingface-hub<1.0,>=0.11.0->transformers) (4.5.0)\n",
            "Requirement already satisfied: idna<3,>=2.5 in /usr/local/lib/python3.8/dist-packages (from requests->transformers) (2.10)\n",
            "Requirement already satisfied: chardet<5,>=3.0.2 in /usr/local/lib/python3.8/dist-packages (from requests->transformers) (4.0.0)\n",
            "Requirement already satisfied: urllib3<1.27,>=1.21.1 in /usr/local/lib/python3.8/dist-packages (from requests->transformers) (1.24.3)\n",
            "Requirement already satisfied: certifi>=2017.4.17 in /usr/local/lib/python3.8/dist-packages (from requests->transformers) (2022.12.7)\n",
            "Installing collected packages: tokenizers, huggingface-hub, transformers\n",
            "Successfully installed huggingface-hub-0.12.1 tokenizers-0.13.2 transformers-4.26.1\n"
          ]
        }
      ]
    },
    {
      "cell_type": "code",
      "source": [
        "import torch"
      ],
      "metadata": {
        "id": "uP3yqYdJjPig"
      },
      "execution_count": 3,
      "outputs": []
    },
    {
      "cell_type": "code",
      "source": [
        "from transformers import GPT2Tokenizer, GPT2LMHeadModel\n",
        "\n",
        "tokenizer = GPT2Tokenizer.from_pretrained('/content/drive/MyDrive/2.model')\n",
        "model = GPT2LMHeadModel.from_pretrained('/content/drive/MyDrive/2.model')\n"
      ],
      "metadata": {
        "id": "eyOjfB9g8x52"
      },
      "execution_count": 4,
      "outputs": []
    },
    {
      "cell_type": "code",
      "source": [
        "model.eval()\n",
        "\n",
        "prompt = \"i am feeling pain in my front tooth\"\n",
        "\n",
        "generated = torch.tensor(tokenizer.encode(prompt)).unsqueeze(0)\n",
        "# generated = generated.to(device)\n",
        "\n",
        "print(generated)\n",
        "\n",
        "sample_outputs = model.generate(\n",
        "                                generated, \n",
        "                                #bos_token_id=random.randint(1,30000),\n",
        "                                do_sample=True,   \n",
        "                                top_k=50, \n",
        "                                max_length = 100,\n",
        "                                top_p=0.95, \n",
        "                                num_return_sequences=1,\n",
        "                                # temperature=1,\n",
        "                                )\n",
        "\n",
        "for i, sample_output in enumerate(sample_outputs):\n",
        "  print(sample_output)\n",
        "  print(\"{}: {}\\n\\n\".format(i, tokenizer.decode(sample_output, skip_special_tokens=True)))\n",
        "  result = \"{} : {}\".format(i, tokenizer.decode(sample_output, skip_special_tokens=True))\n",
        "\n",
        "  \n"
      ],
      "metadata": {
        "id": "2xWqVVAKIy6u",
        "colab": {
          "base_uri": "https://localhost:8080/"
        },
        "outputId": "a567ae1d-391f-43df-f73e-3b26ac84cabf"
      },
      "execution_count": 48,
      "outputs": [
        {
          "output_type": "stream",
          "name": "stderr",
          "text": [
            "The attention mask and the pad token id were not set. As a consequence, you may observe unexpected behavior. Please pass your input's `attention_mask` to obtain reliable results.\n",
            "Setting `pad_token_id` to `eos_token_id`:50256 for open-end generation.\n"
          ]
        },
        {
          "output_type": "stream",
          "name": "stdout",
          "text": [
            "tensor([[   72,   716,  4203,  2356,   287,   616,  2166, 16162]])\n",
            "tensor([   72,   716,  4203,  2356,   287,   616,  2166, 16162,  1312,   466,\n",
            "          407,   892,   644,   345,   423,   318,  3487,   340,   743,   307,\n",
            "          281, 10280,   393,  1223,  2073,   467,   284,   534, 38408,   340,\n",
            "          318,   262,   691,   835,  1312,   460,   307,  1654,   290,   428,\n",
            "          318,   644,   318,  6666,   534,  2356,  1312,  4313,   345,   651,\n",
            "        10667,   290,   766,   534, 38408, 50256])\n",
            "0: i am feeling pain in my front tooth i do not think what you have is normal it may be an infection or something else go to your dentist it is the only way i can be sure and this is what is causing your pain i recommend you get checked and see your dentist\n",
            "\n",
            "\n"
          ]
        }
      ]
    },
    {
      "cell_type": "markdown",
      "source": [
        "Applying model evaluation metrics"
      ],
      "metadata": {
        "id": "CVeE2rmEI3C_"
      }
    },
    {
      "cell_type": "code",
      "source": [
        "from nltk.metrics import *"
      ],
      "metadata": {
        "id": "5KEZe4TErduv"
      },
      "execution_count": null,
      "outputs": []
    },
    {
      "cell_type": "code",
      "source": [
        "\n",
        "input_ids = sample_output\n",
        "print(sample_output)\n",
        "\n",
        "# Calculate the perplexity of the generated text\n",
        "loss = model(input_ids, labels=input_ids).loss\n",
        "perplexity = torch.exp(loss)\n",
        "print('Perplexity:', perplexity.item())\n"
      ],
      "metadata": {
        "id": "pGIS2xiLX6JE",
        "colab": {
          "base_uri": "https://localhost:8080/"
        },
        "outputId": "2a6463b7-670d-41b5-db23-52b2c8f97024"
      },
      "execution_count": 76,
      "outputs": [
        {
          "output_type": "stream",
          "name": "stdout",
          "text": [
            "tensor([   72,   716,  4203,  2356,   287,   616,  2166, 16162,  1312,   466,\n",
            "          407,   892,   644,   345,   423,   318,  3487,   340,   743,   307,\n",
            "          281, 10280,   393,  1223,  2073,   467,   284,   534, 38408,   340,\n",
            "          318,   262,   691,   835,  1312,   460,   307,  1654,   290,   428,\n",
            "          318,   644,   318,  6666,   534,  2356,  1312,  4313,   345,   651,\n",
            "        10667,   290,   766,   534, 38408, 50256])\n",
            "Perplexity: 11.716421127319336\n"
          ]
        }
      ]
    },
    {
      "cell_type": "code",
      "source": [],
      "metadata": {
        "id": "nboTT6vKsB0s"
      },
      "execution_count": null,
      "outputs": []
    }
  ]
}